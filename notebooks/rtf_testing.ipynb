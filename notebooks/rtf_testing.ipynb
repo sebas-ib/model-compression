{
 "cells": [
  {
   "cell_type": "code",
   "execution_count": 29,
   "id": "initial_id",
   "metadata": {
    "collapsed": true,
    "ExecuteTime": {
     "end_time": "2024-12-09T21:34:52.675907Z",
     "start_time": "2024-12-09T21:34:52.662764Z"
    }
   },
   "outputs": [],
   "source": [
    "import pandas as pd\n",
    "import src.data_processing as dp\n",
    "from sdmetrics.reports.single_table import QualityReport\n",
    "from sdmetrics.reports.single_table import DiagnosticReport\n",
    "from realtabformer import REaLTabFormer"
   ]
  },
  {
   "cell_type": "code",
   "execution_count": 6,
   "outputs": [],
   "source": [
    "train_data, test_data, sample_data = dp.csv_data_split(\"../data/breast-cancer-wisconsin.csv\")\n",
    "my_metadata_dict = dp.metadata(\"../data/metadata.json\")"
   ],
   "metadata": {
    "collapsed": false,
    "ExecuteTime": {
     "end_time": "2024-12-09T20:41:13.917338Z",
     "start_time": "2024-12-09T20:41:13.891076Z"
    }
   },
   "id": "c2be796ff8fab988"
  },
  {
   "cell_type": "code",
   "execution_count": 14,
   "outputs": [],
   "source": [
    "model = REaLTabFormer.load_from_dir(\"../models/small_model_full/id000017334601255547021312\")"
   ],
   "metadata": {
    "collapsed": false,
    "ExecuteTime": {
     "end_time": "2024-12-09T20:46:09.307694Z",
     "start_time": "2024-12-09T20:46:08.863223Z"
    }
   },
   "id": "7195c1b95d6331d3"
  },
  {
   "cell_type": "code",
   "execution_count": 27,
   "outputs": [
    {
     "name": "stderr",
     "output_type": "stream",
     "text": [
      "/Users/sebastian/PycharmProjects/model-compression/venv/lib/python3.11/site-packages/realtabformer/realtabformer.py:77: UserWarning:\n",
      "\n",
      "The device=cuda is not available, using device=cpu instead.\n",
      "\n"
     ]
    },
    {
     "data": {
      "text/plain": "  0%|          | 0/137 [00:00<?, ?it/s]",
      "application/vnd.jupyter.widget-view+json": {
       "version_major": 2,
       "version_minor": 0,
       "model_id": "70808216646846b5b14fc54cf0b6f9ab"
      }
     },
     "metadata": {},
     "output_type": "display_data"
    },
    {
     "name": "stdout",
     "output_type": "stream",
     "text": [
      "Generated 0 invalid samples out of total 256 samples generated. Sampling efficiency is: 100.0000%\n"
     ]
    }
   ],
   "source": [
    "synthetic_data = model.sample(n_samples=len(test_data))"
   ],
   "metadata": {
    "collapsed": false,
    "ExecuteTime": {
     "end_time": "2024-12-09T21:30:22.642784Z",
     "start_time": "2024-12-09T21:30:18.740176Z"
    }
   },
   "id": "d94259ded72a67cf"
  },
  {
   "cell_type": "code",
   "execution_count": 20,
   "outputs": [],
   "source": [
    "quality = QualityReport()\n",
    "quality.generate(test_data,synthetic_data,my_metadata_dict,verbose=False)"
   ],
   "metadata": {
    "collapsed": false,
    "ExecuteTime": {
     "end_time": "2024-12-09T20:47:31.748919Z",
     "start_time": "2024-12-09T20:47:31.247981Z"
    }
   },
   "id": "bf77f9297b8d5ca9"
  },
  {
   "cell_type": "code",
   "execution_count": 22,
   "outputs": [
    {
     "name": "stdout",
     "output_type": "stream",
     "text": [
      "             Property     Score\n",
      "0       Column Shapes  0.886861\n",
      "1  Column Pair Trends  0.913510\n"
     ]
    }
   ],
   "source": [
    "print(quality.get_properties())"
   ],
   "metadata": {
    "collapsed": false,
    "ExecuteTime": {
     "end_time": "2024-12-09T20:47:48.759413Z",
     "start_time": "2024-12-09T20:47:48.749028Z"
    }
   },
   "id": "707c05d61127fa7d"
  },
  {
   "cell_type": "code",
   "execution_count": 25,
   "outputs": [],
   "source": [
    "diagnostic = DiagnosticReport()\n",
    "diagnostic.generate(test_data,synthetic_data,my_metadata_dict,verbose=False)"
   ],
   "metadata": {
    "collapsed": false,
    "ExecuteTime": {
     "end_time": "2024-12-09T20:49:41.272366Z",
     "start_time": "2024-12-09T20:49:41.250389Z"
    }
   },
   "id": "68c5912caac7d3c7"
  },
  {
   "cell_type": "code",
   "execution_count": 26,
   "outputs": [
    {
     "name": "stdout",
     "output_type": "stream",
     "text": [
      "         Property     Score\n",
      "0   Data Validity  0.998673\n",
      "1  Data Structure  1.000000\n"
     ]
    }
   ],
   "source": [
    "print(diagnostic.get_properties())"
   ],
   "metadata": {
    "collapsed": false,
    "ExecuteTime": {
     "end_time": "2024-12-09T20:49:42.071370Z",
     "start_time": "2024-12-09T20:49:42.043941Z"
    }
   },
   "id": "442b29b1a2851321"
  },
  {
   "cell_type": "code",
   "execution_count": 30,
   "outputs": [],
   "source": [
    "models_dict = {\n",
    "    \"small_model\": \"../models/small_model_full/id000017334601255547021312\",\n",
    "    \"regular_model\": \"../models/regular_model_full/id000017334628363135500288\",\n",
    "}"
   ],
   "metadata": {
    "collapsed": false,
    "ExecuteTime": {
     "end_time": "2024-12-09T21:34:56.630120Z",
     "start_time": "2024-12-09T21:34:56.619128Z"
    }
   },
   "id": "490b08f4fffcffba"
  },
  {
   "cell_type": "code",
   "execution_count": 33,
   "outputs": [
    {
     "name": "stderr",
     "output_type": "stream",
     "text": [
      "/Users/sebastian/PycharmProjects/model-compression/venv/lib/python3.11/site-packages/realtabformer/realtabformer.py:77: UserWarning:\n",
      "\n",
      "The device=cuda is not available, using device=cpu instead.\n",
      "\n"
     ]
    },
    {
     "data": {
      "text/plain": "  0%|          | 0/137 [00:00<?, ?it/s]",
      "application/vnd.jupyter.widget-view+json": {
       "version_major": 2,
       "version_minor": 0,
       "model_id": "9dcdb19f1bf644af8c5fa3356d99b232"
      }
     },
     "metadata": {},
     "output_type": "display_data"
    },
    {
     "name": "stdout",
     "output_type": "stream",
     "text": [
      "Generated 0 invalid samples out of total 256 samples generated. Sampling efficiency is: 100.0000%\n"
     ]
    },
    {
     "name": "stderr",
     "output_type": "stream",
     "text": [
      "/Users/sebastian/PycharmProjects/model-compression/venv/lib/python3.11/site-packages/realtabformer/realtabformer.py:77: UserWarning:\n",
      "\n",
      "The device=cuda is not available, using device=cpu instead.\n",
      "\n"
     ]
    },
    {
     "data": {
      "text/plain": "  0%|          | 0/137 [00:00<?, ?it/s]",
      "application/vnd.jupyter.widget-view+json": {
       "version_major": 2,
       "version_minor": 0,
       "model_id": "9dceaae9e1374656baad02e25ea254ae"
      }
     },
     "metadata": {},
     "output_type": "display_data"
    },
    {
     "name": "stdout",
     "output_type": "stream",
     "text": [
      "Generated 0 invalid samples out of total 256 samples generated. Sampling efficiency is: 100.0000%\n"
     ]
    },
    {
     "data": {
      "text/plain": "           Model  Column Shapes  Column Pair Trends  Data Validity  \\\n0    small_model       0.827007            0.897929       0.998009   \n1  regular_model       0.837956            0.905750       0.999336   \n\n   Data Structure  Total Score  \n0             1.0     0.930736  \n1             1.0     0.935761  ",
      "text/html": "<div>\n<style scoped>\n    .dataframe tbody tr th:only-of-type {\n        vertical-align: middle;\n    }\n\n    .dataframe tbody tr th {\n        vertical-align: top;\n    }\n\n    .dataframe thead th {\n        text-align: right;\n    }\n</style>\n<table border=\"1\" class=\"dataframe\">\n  <thead>\n    <tr style=\"text-align: right;\">\n      <th></th>\n      <th>Model</th>\n      <th>Column Shapes</th>\n      <th>Column Pair Trends</th>\n      <th>Data Validity</th>\n      <th>Data Structure</th>\n      <th>Total Score</th>\n    </tr>\n  </thead>\n  <tbody>\n    <tr>\n      <th>0</th>\n      <td>small_model</td>\n      <td>0.827007</td>\n      <td>0.897929</td>\n      <td>0.998009</td>\n      <td>1.0</td>\n      <td>0.930736</td>\n    </tr>\n    <tr>\n      <th>1</th>\n      <td>regular_model</td>\n      <td>0.837956</td>\n      <td>0.905750</td>\n      <td>0.999336</td>\n      <td>1.0</td>\n      <td>0.935761</td>\n    </tr>\n  </tbody>\n</table>\n</div>"
     },
     "execution_count": 33,
     "metadata": {},
     "output_type": "execute_result"
    }
   ],
   "source": [
    "# Placeholder for results\n",
    "results = []\n",
    "\n",
    "# Loop through different models\n",
    "for model_name, model_path in models_dict.items():\n",
    "    # Load model\n",
    "    model = REaLTabFormer.load_from_dir(model_path)\n",
    "    \n",
    "    # Generate synthetic data\n",
    "    synthetic_data = model.sample(n_samples=len(test_data))\n",
    "    \n",
    "    # Generate quality and diagnostic reports\n",
    "    quality = QualityReport()\n",
    "    quality.generate(test_data, synthetic_data, my_metadata_dict, verbose=False)\n",
    "    diagnostic = DiagnosticReport()\n",
    "    diagnostic.generate(test_data, synthetic_data, my_metadata_dict, verbose=False)\n",
    "    \n",
    "    # Extract individual scores\n",
    "    column_shapes = quality.get_properties().loc[\n",
    "        quality.get_properties()['Property'] == 'Column Shapes', 'Score'\n",
    "    ].values[0]\n",
    "    column_pair_trends = quality.get_properties().loc[\n",
    "        quality.get_properties()['Property'] == 'Column Pair Trends', 'Score'\n",
    "    ].values[0]\n",
    "    data_validity = diagnostic.get_properties().loc[\n",
    "        diagnostic.get_properties()['Property'] == 'Data Validity', 'Score'\n",
    "    ].values[0]\n",
    "    data_structure = diagnostic.get_properties().loc[\n",
    "        diagnostic.get_properties()['Property'] == 'Data Structure', 'Score'\n",
    "    ].values[0]\n",
    "    \n",
    "    # Calculate weighted total score\n",
    "    total_score = (\n",
    "        0.25 * column_shapes +\n",
    "        0.25 * column_pair_trends +\n",
    "        0.25 * data_validity +\n",
    "        0.25 * data_structure\n",
    "    )\n",
    "    \n",
    "    # Append results to the list\n",
    "    results.append({\n",
    "        \"Model\": model_name,\n",
    "        \"Column Shapes\": column_shapes,\n",
    "        \"Column Pair Trends\": column_pair_trends,\n",
    "        \"Data Validity\": data_validity,\n",
    "        \"Data Structure\": data_structure,\n",
    "        \"Total Score\": total_score\n",
    "    })\n",
    "\n",
    "# Convert results to a DataFrame\n",
    "results_df = pd.DataFrame(results)\n",
    "\n",
    "# Display results as a table\n",
    "results_df"
   ],
   "metadata": {
    "collapsed": false,
    "ExecuteTime": {
     "end_time": "2024-12-09T21:36:33.063105Z",
     "start_time": "2024-12-09T21:36:19.342855Z"
    }
   },
   "id": "b7c9959e15f04ce0"
  },
  {
   "cell_type": "code",
   "execution_count": null,
   "outputs": [],
   "source": [],
   "metadata": {
    "collapsed": false
   },
   "id": "b407a1897f2f57b4"
  }
 ],
 "metadata": {
  "kernelspec": {
   "display_name": "Python 3",
   "language": "python",
   "name": "python3"
  },
  "language_info": {
   "codemirror_mode": {
    "name": "ipython",
    "version": 2
   },
   "file_extension": ".py",
   "mimetype": "text/x-python",
   "name": "python",
   "nbconvert_exporter": "python",
   "pygments_lexer": "ipython2",
   "version": "2.7.6"
  }
 },
 "nbformat": 4,
 "nbformat_minor": 5
}
