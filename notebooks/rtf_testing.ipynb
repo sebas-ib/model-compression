{
 "cells": [
  {
   "cell_type": "code",
   "execution_count": 2,
   "id": "initial_id",
   "metadata": {
    "collapsed": true,
    "ExecuteTime": {
     "end_time": "2025-01-30T20:12:59.167946Z",
     "start_time": "2025-01-30T20:12:07.199800Z"
    }
   },
   "outputs": [],
   "source": [
    "import pandas as pd\n",
    "import transformers.pytorch_utils\n",
    "from torch.nn.utils import prune\n",
    "import transformers.pytorch_utils\n",
    "import src.data_processing as dp\n",
    "from sdmetrics.reports.single_table import QualityReport\n",
    "from sdmetrics.reports.single_table import DiagnosticReport\n",
    "from realtabformer import REaLTabFormer\n",
    "import numpy as np\n",
    "from sdmetrics.single_table import BinaryDecisionTreeClassifier"
   ]
  },
  {
   "cell_type": "code",
   "execution_count": 3,
   "outputs": [],
   "source": [
    "# Splits dataset\n",
    "train_data, test_data, sample_data = dp.csv_data_split(\"../data/breast-cancer-wisconsin.csv\")\n",
    "\n",
    "# Metadata for the SDMetrics library\n",
    "my_metadata_dict = dp.metadata(\"../data/cancer_metadata.json\")"
   ],
   "metadata": {
    "collapsed": false,
    "ExecuteTime": {
     "end_time": "2025-01-30T20:12:59.190977Z",
     "start_time": "2025-01-30T20:12:59.172641Z"
    }
   },
   "id": "c2be796ff8fab988"
  },
  {
   "cell_type": "code",
   "execution_count": 4,
   "outputs": [],
   "source": [
    "# Loading regular model\n",
    "model = REaLTabFormer.load_from_dir(\"../models/rtf_regular/id000017342890144858071040\")"
   ],
   "metadata": {
    "collapsed": false,
    "ExecuteTime": {
     "end_time": "2025-01-30T20:13:00.455990Z",
     "start_time": "2025-01-30T20:12:59.192994Z"
    }
   },
   "id": "7195c1b95d6331d3"
  },
  {
   "cell_type": "code",
   "execution_count": 5,
   "outputs": [
    {
     "name": "stderr",
     "output_type": "stream",
     "text": [
      "/Users/sebastian/PycharmProjects/model-compression/venv/lib/python3.11/site-packages/realtabformer/realtabformer.py:77: UserWarning: The device=cuda is not available, using device=cpu instead.\n",
      "  warnings.warn(\n"
     ]
    },
    {
     "data": {
      "text/plain": "  0%|          | 0/137 [00:00<?, ?it/s]",
      "application/vnd.jupyter.widget-view+json": {
       "version_major": 2,
       "version_minor": 0,
       "model_id": "d86be820f33e4825ac4319c7a939cfb5"
      }
     },
     "metadata": {},
     "output_type": "display_data"
    },
    {
     "name": "stdout",
     "output_type": "stream",
     "text": [
      "Generated 0 invalid samples out of total 256 samples generated. Sampling efficiency is: 100.0000%\n"
     ]
    }
   ],
   "source": [
    "# Generate synth data\n",
    "synthetic_data = model.sample(n_samples=len(test_data))"
   ],
   "metadata": {
    "collapsed": false,
    "ExecuteTime": {
     "end_time": "2025-01-30T20:13:10.517934Z",
     "start_time": "2025-01-30T20:13:00.552182Z"
    }
   },
   "id": "d94259ded72a67cf"
  },
  {
   "cell_type": "code",
   "execution_count": 6,
   "outputs": [
    {
     "data": {
      "text/plain": "             Property     Score\n0       Column Shapes  0.927737\n1  Column Pair Trends  0.907774",
      "text/html": "<div>\n<style scoped>\n    .dataframe tbody tr th:only-of-type {\n        vertical-align: middle;\n    }\n\n    .dataframe tbody tr th {\n        vertical-align: top;\n    }\n\n    .dataframe thead th {\n        text-align: right;\n    }\n</style>\n<table border=\"1\" class=\"dataframe\">\n  <thead>\n    <tr style=\"text-align: right;\">\n      <th></th>\n      <th>Property</th>\n      <th>Score</th>\n    </tr>\n  </thead>\n  <tbody>\n    <tr>\n      <th>0</th>\n      <td>Column Shapes</td>\n      <td>0.927737</td>\n    </tr>\n    <tr>\n      <th>1</th>\n      <td>Column Pair Trends</td>\n      <td>0.907774</td>\n    </tr>\n  </tbody>\n</table>\n</div>"
     },
     "execution_count": 6,
     "metadata": {},
     "output_type": "execute_result"
    }
   ],
   "source": [
    "# Generate quality report\n",
    "quality = QualityReport()\n",
    "quality.generate(test_data,synthetic_data,my_metadata_dict,verbose=False)\n",
    "quality.get_properties()"
   ],
   "metadata": {
    "collapsed": false,
    "ExecuteTime": {
     "end_time": "2025-01-30T20:13:11.074127Z",
     "start_time": "2025-01-30T20:13:10.528447Z"
    }
   },
   "id": "bf77f9297b8d5ca9"
  },
  {
   "cell_type": "code",
   "execution_count": 7,
   "outputs": [
    {
     "data": {
      "text/plain": "         Property     Score\n0   Data Validity  0.992037\n1  Data Structure  1.000000",
      "text/html": "<div>\n<style scoped>\n    .dataframe tbody tr th:only-of-type {\n        vertical-align: middle;\n    }\n\n    .dataframe tbody tr th {\n        vertical-align: top;\n    }\n\n    .dataframe thead th {\n        text-align: right;\n    }\n</style>\n<table border=\"1\" class=\"dataframe\">\n  <thead>\n    <tr style=\"text-align: right;\">\n      <th></th>\n      <th>Property</th>\n      <th>Score</th>\n    </tr>\n  </thead>\n  <tbody>\n    <tr>\n      <th>0</th>\n      <td>Data Validity</td>\n      <td>0.992037</td>\n    </tr>\n    <tr>\n      <th>1</th>\n      <td>Data Structure</td>\n      <td>1.000000</td>\n    </tr>\n  </tbody>\n</table>\n</div>"
     },
     "execution_count": 7,
     "metadata": {},
     "output_type": "execute_result"
    }
   ],
   "source": [
    "# Generate diagnostic report\n",
    "diagnostic = DiagnosticReport()\n",
    "diagnostic.generate(test_data,synthetic_data,my_metadata_dict,verbose=False)\n",
    "diagnostic.get_properties()"
   ],
   "metadata": {
    "collapsed": false,
    "ExecuteTime": {
     "end_time": "2025-01-30T20:13:11.173209Z",
     "start_time": "2025-01-30T20:13:11.072943Z"
    }
   },
   "id": "68c5912caac7d3c7"
  },
  {
   "cell_type": "code",
   "execution_count": 8,
   "outputs": [],
   "source": [
    "# Dictionary of models to evaluate\n",
    "\n",
    "models_dict = {\n",
    "    \"small_model\": \"../models/rtf_small/id000017342868701547638784\",\n",
    "    \"regular_model\": \"../models/rtf_regular/id000017342890144858071040\",\n",
    "    # \"large_model\": \"../models/rtf_large/id000017341472610579369984\"\n",
    "}"
   ],
   "metadata": {
    "collapsed": false,
    "ExecuteTime": {
     "end_time": "2025-01-30T20:13:11.173668Z",
     "start_time": "2025-01-30T20:13:11.116100Z"
    }
   },
   "id": "490b08f4fffcffba"
  },
  {
   "cell_type": "code",
   "execution_count": 9,
   "outputs": [],
   "source": [
    "# Storing results here\n",
    "results = []"
   ],
   "metadata": {
    "collapsed": false,
    "ExecuteTime": {
     "end_time": "2025-01-30T20:13:11.173999Z",
     "start_time": "2025-01-30T20:13:11.125170Z"
    }
   },
   "id": "ae86cedafc67cbdd"
  },
  {
   "cell_type": "code",
   "execution_count": 10,
   "outputs": [
    {
     "name": "stderr",
     "output_type": "stream",
     "text": [
      "/Users/sebastian/PycharmProjects/model-compression/venv/lib/python3.11/site-packages/realtabformer/realtabformer.py:77: UserWarning: The device=cuda is not available, using device=cpu instead.\n",
      "  warnings.warn(\n"
     ]
    },
    {
     "data": {
      "text/plain": "  0%|          | 0/137 [00:00<?, ?it/s]",
      "application/vnd.jupyter.widget-view+json": {
       "version_major": 2,
       "version_minor": 0,
       "model_id": "cc94c9c7c70b406a8209972d40be6a67"
      }
     },
     "metadata": {},
     "output_type": "display_data"
    },
    {
     "name": "stdout",
     "output_type": "stream",
     "text": [
      "Generated 0 invalid samples out of total 256 samples generated. Sampling efficiency is: 100.0000%\n"
     ]
    },
    {
     "name": "stderr",
     "output_type": "stream",
     "text": [
      "/Users/sebastian/PycharmProjects/model-compression/venv/lib/python3.11/site-packages/realtabformer/realtabformer.py:77: UserWarning: The device=cuda is not available, using device=cpu instead.\n",
      "  warnings.warn(\n"
     ]
    },
    {
     "data": {
      "text/plain": "  0%|          | 0/137 [00:00<?, ?it/s]",
      "application/vnd.jupyter.widget-view+json": {
       "version_major": 2,
       "version_minor": 0,
       "model_id": "990e7866f9184760be5868a1f3671ccb"
      }
     },
     "metadata": {},
     "output_type": "display_data"
    },
    {
     "name": "stdout",
     "output_type": "stream",
     "text": [
      "Generated 0 invalid samples out of total 256 samples generated. Sampling efficiency is: 100.0000%\n"
     ]
    },
    {
     "name": "stderr",
     "output_type": "stream",
     "text": [
      "/Users/sebastian/PycharmProjects/model-compression/venv/lib/python3.11/site-packages/realtabformer/realtabformer.py:77: UserWarning: The device=cuda is not available, using device=cpu instead.\n",
      "  warnings.warn(\n"
     ]
    },
    {
     "data": {
      "text/plain": "  0%|          | 0/137 [00:00<?, ?it/s]",
      "application/vnd.jupyter.widget-view+json": {
       "version_major": 2,
       "version_minor": 0,
       "model_id": "12d3165a673d4e28891392da8797450f"
      }
     },
     "metadata": {},
     "output_type": "display_data"
    },
    {
     "name": "stdout",
     "output_type": "stream",
     "text": [
      "Generated 0 invalid samples out of total 256 samples generated. Sampling efficiency is: 100.0000%\n"
     ]
    },
    {
     "name": "stderr",
     "output_type": "stream",
     "text": [
      "/Users/sebastian/PycharmProjects/model-compression/venv/lib/python3.11/site-packages/realtabformer/realtabformer.py:77: UserWarning: The device=cuda is not available, using device=cpu instead.\n",
      "  warnings.warn(\n"
     ]
    },
    {
     "data": {
      "text/plain": "  0%|          | 0/137 [00:00<?, ?it/s]",
      "application/vnd.jupyter.widget-view+json": {
       "version_major": 2,
       "version_minor": 0,
       "model_id": "2e0d009f2cc74f8d959be8f31e31342a"
      }
     },
     "metadata": {},
     "output_type": "display_data"
    },
    {
     "name": "stdout",
     "output_type": "stream",
     "text": [
      "Generated 0 invalid samples out of total 256 samples generated. Sampling efficiency is: 100.0000%\n"
     ]
    },
    {
     "name": "stderr",
     "output_type": "stream",
     "text": [
      "/Users/sebastian/PycharmProjects/model-compression/venv/lib/python3.11/site-packages/realtabformer/realtabformer.py:77: UserWarning: The device=cuda is not available, using device=cpu instead.\n",
      "  warnings.warn(\n"
     ]
    },
    {
     "data": {
      "text/plain": "  0%|          | 0/137 [00:00<?, ?it/s]",
      "application/vnd.jupyter.widget-view+json": {
       "version_major": 2,
       "version_minor": 0,
       "model_id": "793ab3bbd4064f7199a20d3d2ff2d8da"
      }
     },
     "metadata": {},
     "output_type": "display_data"
    },
    {
     "name": "stdout",
     "output_type": "stream",
     "text": [
      "Generated 0 invalid samples out of total 256 samples generated. Sampling efficiency is: 100.0000%\n"
     ]
    },
    {
     "name": "stderr",
     "output_type": "stream",
     "text": [
      "/Users/sebastian/PycharmProjects/model-compression/venv/lib/python3.11/site-packages/realtabformer/realtabformer.py:77: UserWarning: The device=cuda is not available, using device=cpu instead.\n",
      "  warnings.warn(\n"
     ]
    },
    {
     "data": {
      "text/plain": "  0%|          | 0/137 [00:00<?, ?it/s]",
      "application/vnd.jupyter.widget-view+json": {
       "version_major": 2,
       "version_minor": 0,
       "model_id": "7a5c0e6c9a324d168aeb21fc0e9f90fe"
      }
     },
     "metadata": {},
     "output_type": "display_data"
    },
    {
     "name": "stdout",
     "output_type": "stream",
     "text": [
      "Generated 0 invalid samples out of total 256 samples generated. Sampling efficiency is: 100.0000%\n"
     ]
    },
    {
     "name": "stderr",
     "output_type": "stream",
     "text": [
      "/Users/sebastian/PycharmProjects/model-compression/venv/lib/python3.11/site-packages/realtabformer/realtabformer.py:77: UserWarning: The device=cuda is not available, using device=cpu instead.\n",
      "  warnings.warn(\n"
     ]
    },
    {
     "data": {
      "text/plain": "  0%|          | 0/137 [00:00<?, ?it/s]",
      "application/vnd.jupyter.widget-view+json": {
       "version_major": 2,
       "version_minor": 0,
       "model_id": "424e9be9f0cb466bb654c592ac66489b"
      }
     },
     "metadata": {},
     "output_type": "display_data"
    },
    {
     "name": "stdout",
     "output_type": "stream",
     "text": [
      "Generated 0 invalid samples out of total 256 samples generated. Sampling efficiency is: 100.0000%\n"
     ]
    },
    {
     "name": "stderr",
     "output_type": "stream",
     "text": [
      "/Users/sebastian/PycharmProjects/model-compression/venv/lib/python3.11/site-packages/realtabformer/realtabformer.py:77: UserWarning: The device=cuda is not available, using device=cpu instead.\n",
      "  warnings.warn(\n"
     ]
    },
    {
     "data": {
      "text/plain": "  0%|          | 0/137 [00:00<?, ?it/s]",
      "application/vnd.jupyter.widget-view+json": {
       "version_major": 2,
       "version_minor": 0,
       "model_id": "05c4d2cc2180475ea29795308cc9b658"
      }
     },
     "metadata": {},
     "output_type": "display_data"
    },
    {
     "name": "stdout",
     "output_type": "stream",
     "text": [
      "Generated 0 invalid samples out of total 256 samples generated. Sampling efficiency is: 100.0000%\n"
     ]
    },
    {
     "name": "stderr",
     "output_type": "stream",
     "text": [
      "/Users/sebastian/PycharmProjects/model-compression/venv/lib/python3.11/site-packages/realtabformer/realtabformer.py:77: UserWarning: The device=cuda is not available, using device=cpu instead.\n",
      "  warnings.warn(\n"
     ]
    },
    {
     "data": {
      "text/plain": "  0%|          | 0/137 [00:00<?, ?it/s]",
      "application/vnd.jupyter.widget-view+json": {
       "version_major": 2,
       "version_minor": 0,
       "model_id": "e0f492c33c89498b85078f8741a5895d"
      }
     },
     "metadata": {},
     "output_type": "display_data"
    },
    {
     "name": "stdout",
     "output_type": "stream",
     "text": [
      "Generated 0 invalid samples out of total 256 samples generated. Sampling efficiency is: 100.0000%\n"
     ]
    },
    {
     "name": "stderr",
     "output_type": "stream",
     "text": [
      "/Users/sebastian/PycharmProjects/model-compression/venv/lib/python3.11/site-packages/realtabformer/realtabformer.py:77: UserWarning: The device=cuda is not available, using device=cpu instead.\n",
      "  warnings.warn(\n"
     ]
    },
    {
     "data": {
      "text/plain": "  0%|          | 0/137 [00:00<?, ?it/s]",
      "application/vnd.jupyter.widget-view+json": {
       "version_major": 2,
       "version_minor": 0,
       "model_id": "b35cc78793ac466d9176d0ff106b0cd4"
      }
     },
     "metadata": {},
     "output_type": "display_data"
    },
    {
     "name": "stdout",
     "output_type": "stream",
     "text": [
      "Generated 0 invalid samples out of total 256 samples generated. Sampling efficiency is: 100.0000%\n"
     ]
    },
    {
     "data": {
      "text/plain": "           Model  Avg Column Shapes  Avg Column Pair Trends  \\\n0    small_model           0.492263                0.614016   \n1  regular_model           0.918540                0.922007   \n\n   Avg Data Validity  Avg Data Structure  Avg Total Score  \n0           0.942402                 1.0         0.762170  \n1           0.994559                 1.0         0.958776  ",
      "text/html": "<div>\n<style scoped>\n    .dataframe tbody tr th:only-of-type {\n        vertical-align: middle;\n    }\n\n    .dataframe tbody tr th {\n        vertical-align: top;\n    }\n\n    .dataframe thead th {\n        text-align: right;\n    }\n</style>\n<table border=\"1\" class=\"dataframe\">\n  <thead>\n    <tr style=\"text-align: right;\">\n      <th></th>\n      <th>Model</th>\n      <th>Avg Column Shapes</th>\n      <th>Avg Column Pair Trends</th>\n      <th>Avg Data Validity</th>\n      <th>Avg Data Structure</th>\n      <th>Avg Total Score</th>\n    </tr>\n  </thead>\n  <tbody>\n    <tr>\n      <th>0</th>\n      <td>small_model</td>\n      <td>0.492263</td>\n      <td>0.614016</td>\n      <td>0.942402</td>\n      <td>1.0</td>\n      <td>0.762170</td>\n    </tr>\n    <tr>\n      <th>1</th>\n      <td>regular_model</td>\n      <td>0.918540</td>\n      <td>0.922007</td>\n      <td>0.994559</td>\n      <td>1.0</td>\n      <td>0.958776</td>\n    </tr>\n  </tbody>\n</table>\n</div>"
     },
     "execution_count": 10,
     "metadata": {},
     "output_type": "execute_result"
    }
   ],
   "source": [
    "# Number of eval rounds\n",
    "n_generations = 5\n",
    "\n",
    "# loop through different models\n",
    "for model_name, model_path in models_dict.items():\n",
    "    # load the model\n",
    "    model = REaLTabFormer.load_from_dir(model_path)\n",
    "    \n",
    "    # Initialize accumulators for scores\n",
    "    column_shapes_scores = []\n",
    "    column_pair_trends_scores = []\n",
    "    data_validity_scores = []\n",
    "    data_structure_scores = []\n",
    "    \n",
    "    # Generate multiple synthetic datasets and compute the scores\n",
    "    for _ in range(n_generations):\n",
    "        synthetic_data = model.sample(n_samples=len(test_data))\n",
    "        \n",
    "        # Generate quality and diagnostic reports\n",
    "        quality = QualityReport()\n",
    "        quality.generate(test_data, synthetic_data, my_metadata_dict, verbose=False)\n",
    "        diagnostic = DiagnosticReport()\n",
    "        diagnostic.generate(test_data, synthetic_data, my_metadata_dict, verbose=False)\n",
    "        \n",
    "        # Extract individual scores\n",
    "        column_shapes = quality.get_properties().loc[\n",
    "            quality.get_properties()['Property'] == 'Column Shapes', 'Score'\n",
    "        ].values[0]\n",
    "        column_pair_trends = quality.get_properties().loc[\n",
    "            quality.get_properties()['Property'] == 'Column Pair Trends', 'Score'\n",
    "        ].values[0]\n",
    "        data_validity = diagnostic.get_properties().loc[\n",
    "            diagnostic.get_properties()['Property'] == 'Data Validity', 'Score'\n",
    "        ].values[0]\n",
    "        data_structure = diagnostic.get_properties().loc[\n",
    "            diagnostic.get_properties()['Property'] == 'Data Structure', 'Score'\n",
    "        ].values[0]\n",
    "        \n",
    "        # Append scores to accumulators\n",
    "        column_shapes_scores.append(column_shapes)\n",
    "        column_pair_trends_scores.append(column_pair_trends)\n",
    "        data_validity_scores.append(data_validity)\n",
    "        data_structure_scores.append(data_structure)\n",
    "    \n",
    "    # Calculate average scores\n",
    "    avg_column_shapes = sum(column_shapes_scores) / n_generations\n",
    "    avg_column_pair_trends = sum(column_pair_trends_scores) / n_generations\n",
    "    avg_data_validity = sum(data_validity_scores) / n_generations\n",
    "    avg_data_structure = sum(data_structure_scores) / n_generations\n",
    "    \n",
    "    # Calculate total score (different weights could be applied to each, but for simplicity 0.25 is used)\n",
    "    avg_total_score = (\n",
    "        0.25 * avg_column_shapes +\n",
    "        0.25 * avg_column_pair_trends +\n",
    "        0.25 * avg_data_validity +\n",
    "        0.25 * avg_data_structure\n",
    "    )\n",
    "    \n",
    "    # Append results\n",
    "    results.append({\n",
    "        \"Model\": model_name,\n",
    "        \"Avg Column Shapes\": avg_column_shapes,\n",
    "        \"Avg Column Pair Trends\": avg_column_pair_trends,\n",
    "        \"Avg Data Validity\": avg_data_validity,\n",
    "        \"Avg Data Structure\": avg_data_structure,\n",
    "        \"Avg Total Score\": avg_total_score\n",
    "    })\n",
    "\n",
    "# Convert results to DataFrame\n",
    "results_df = pd.DataFrame(results)\n",
    "\n",
    "results_df"
   ],
   "metadata": {
    "collapsed": false,
    "ExecuteTime": {
     "end_time": "2025-01-30T20:14:32.349336Z",
     "start_time": "2025-01-30T20:13:11.136644Z"
    }
   },
   "id": "b7c9959e15f04ce0"
  },
  {
   "cell_type": "code",
   "execution_count": 11,
   "outputs": [
    {
     "name": "stderr",
     "output_type": "stream",
     "text": [
      "/Users/sebastian/PycharmProjects/model-compression/venv/lib/python3.11/site-packages/realtabformer/realtabformer.py:77: UserWarning: The device=cuda is not available, using device=cpu instead.\n",
      "  warnings.warn(\n"
     ]
    },
    {
     "data": {
      "text/plain": "  0%|          | 0/137 [00:00<?, ?it/s]",
      "application/vnd.jupyter.widget-view+json": {
       "version_major": 2,
       "version_minor": 0,
       "model_id": "049ff6579b40494292965aa60e8b8a1a"
      }
     },
     "metadata": {},
     "output_type": "display_data"
    },
    {
     "name": "stdout",
     "output_type": "stream",
     "text": [
      "Generated 0 invalid samples out of total 256 samples generated. Sampling efficiency is: 100.0000%\n"
     ]
    },
    {
     "name": "stderr",
     "output_type": "stream",
     "text": [
      "/Users/sebastian/PycharmProjects/model-compression/venv/lib/python3.11/site-packages/realtabformer/realtabformer.py:77: UserWarning: The device=cuda is not available, using device=cpu instead.\n",
      "  warnings.warn(\n"
     ]
    },
    {
     "data": {
      "text/plain": "  0%|          | 0/137 [00:00<?, ?it/s]",
      "application/vnd.jupyter.widget-view+json": {
       "version_major": 2,
       "version_minor": 0,
       "model_id": "fc7116e1eb2142aa9fc17634b2736db4"
      }
     },
     "metadata": {},
     "output_type": "display_data"
    },
    {
     "name": "stdout",
     "output_type": "stream",
     "text": [
      "Generated 0 invalid samples out of total 256 samples generated. Sampling efficiency is: 100.0000%\n"
     ]
    },
    {
     "name": "stderr",
     "output_type": "stream",
     "text": [
      "/Users/sebastian/PycharmProjects/model-compression/venv/lib/python3.11/site-packages/realtabformer/realtabformer.py:77: UserWarning: The device=cuda is not available, using device=cpu instead.\n",
      "  warnings.warn(\n"
     ]
    },
    {
     "data": {
      "text/plain": "  0%|          | 0/137 [00:00<?, ?it/s]",
      "application/vnd.jupyter.widget-view+json": {
       "version_major": 2,
       "version_minor": 0,
       "model_id": "c0fa42bfc8ec47ac97f405c4371f81fe"
      }
     },
     "metadata": {},
     "output_type": "display_data"
    },
    {
     "name": "stdout",
     "output_type": "stream",
     "text": [
      "Generated 0 invalid samples out of total 256 samples generated. Sampling efficiency is: 100.0000%\n"
     ]
    },
    {
     "name": "stderr",
     "output_type": "stream",
     "text": [
      "/Users/sebastian/PycharmProjects/model-compression/venv/lib/python3.11/site-packages/realtabformer/realtabformer.py:77: UserWarning: The device=cuda is not available, using device=cpu instead.\n",
      "  warnings.warn(\n"
     ]
    },
    {
     "data": {
      "text/plain": "  0%|          | 0/137 [00:00<?, ?it/s]",
      "application/vnd.jupyter.widget-view+json": {
       "version_major": 2,
       "version_minor": 0,
       "model_id": "7a8041e917fb41e6887a2b376bbd58a8"
      }
     },
     "metadata": {},
     "output_type": "display_data"
    },
    {
     "name": "stdout",
     "output_type": "stream",
     "text": [
      "Generated 0 invalid samples out of total 256 samples generated. Sampling efficiency is: 100.0000%\n"
     ]
    },
    {
     "name": "stderr",
     "output_type": "stream",
     "text": [
      "/Users/sebastian/PycharmProjects/model-compression/venv/lib/python3.11/site-packages/realtabformer/realtabformer.py:77: UserWarning: The device=cuda is not available, using device=cpu instead.\n",
      "  warnings.warn(\n"
     ]
    },
    {
     "data": {
      "text/plain": "  0%|          | 0/137 [00:00<?, ?it/s]",
      "application/vnd.jupyter.widget-view+json": {
       "version_major": 2,
       "version_minor": 0,
       "model_id": "d0addfac20904298acb5062a8770ac58"
      }
     },
     "metadata": {},
     "output_type": "display_data"
    },
    {
     "name": "stdout",
     "output_type": "stream",
     "text": [
      "Generated 0 invalid samples out of total 256 samples generated. Sampling efficiency is: 100.0000%\n",
      "Average Evaluation for model ../models/rtf_small/id000017342868701547638784: 0.29873013278537963\n"
     ]
    },
    {
     "name": "stderr",
     "output_type": "stream",
     "text": [
      "/Users/sebastian/PycharmProjects/model-compression/venv/lib/python3.11/site-packages/realtabformer/realtabformer.py:77: UserWarning: The device=cuda is not available, using device=cpu instead.\n",
      "  warnings.warn(\n"
     ]
    },
    {
     "data": {
      "text/plain": "  0%|          | 0/137 [00:00<?, ?it/s]",
      "application/vnd.jupyter.widget-view+json": {
       "version_major": 2,
       "version_minor": 0,
       "model_id": "97fd8751837c4fb8abc348d19d4c7e7b"
      }
     },
     "metadata": {},
     "output_type": "display_data"
    },
    {
     "name": "stdout",
     "output_type": "stream",
     "text": [
      "Generated 0 invalid samples out of total 256 samples generated. Sampling efficiency is: 100.0000%\n"
     ]
    },
    {
     "name": "stderr",
     "output_type": "stream",
     "text": [
      "/Users/sebastian/PycharmProjects/model-compression/venv/lib/python3.11/site-packages/realtabformer/realtabformer.py:77: UserWarning: The device=cuda is not available, using device=cpu instead.\n",
      "  warnings.warn(\n"
     ]
    },
    {
     "data": {
      "text/plain": "  0%|          | 0/137 [00:00<?, ?it/s]",
      "application/vnd.jupyter.widget-view+json": {
       "version_major": 2,
       "version_minor": 0,
       "model_id": "de550bc47a6849588a170ee55f366186"
      }
     },
     "metadata": {},
     "output_type": "display_data"
    },
    {
     "name": "stdout",
     "output_type": "stream",
     "text": [
      "Generated 0 invalid samples out of total 256 samples generated. Sampling efficiency is: 100.0000%\n"
     ]
    },
    {
     "name": "stderr",
     "output_type": "stream",
     "text": [
      "/Users/sebastian/PycharmProjects/model-compression/venv/lib/python3.11/site-packages/realtabformer/realtabformer.py:77: UserWarning: The device=cuda is not available, using device=cpu instead.\n",
      "  warnings.warn(\n"
     ]
    },
    {
     "data": {
      "text/plain": "  0%|          | 0/137 [00:00<?, ?it/s]",
      "application/vnd.jupyter.widget-view+json": {
       "version_major": 2,
       "version_minor": 0,
       "model_id": "ed95fde77fd5467c999f87ec7626dfa3"
      }
     },
     "metadata": {},
     "output_type": "display_data"
    },
    {
     "name": "stdout",
     "output_type": "stream",
     "text": [
      "Generated 0 invalid samples out of total 256 samples generated. Sampling efficiency is: 100.0000%\n"
     ]
    },
    {
     "name": "stderr",
     "output_type": "stream",
     "text": [
      "/Users/sebastian/PycharmProjects/model-compression/venv/lib/python3.11/site-packages/realtabformer/realtabformer.py:77: UserWarning: The device=cuda is not available, using device=cpu instead.\n",
      "  warnings.warn(\n"
     ]
    },
    {
     "data": {
      "text/plain": "  0%|          | 0/137 [00:00<?, ?it/s]",
      "application/vnd.jupyter.widget-view+json": {
       "version_major": 2,
       "version_minor": 0,
       "model_id": "6331d71635704684827f4c98984759c5"
      }
     },
     "metadata": {},
     "output_type": "display_data"
    },
    {
     "name": "stdout",
     "output_type": "stream",
     "text": [
      "Generated 0 invalid samples out of total 256 samples generated. Sampling efficiency is: 100.0000%\n"
     ]
    },
    {
     "name": "stderr",
     "output_type": "stream",
     "text": [
      "/Users/sebastian/PycharmProjects/model-compression/venv/lib/python3.11/site-packages/realtabformer/realtabformer.py:77: UserWarning: The device=cuda is not available, using device=cpu instead.\n",
      "  warnings.warn(\n"
     ]
    },
    {
     "data": {
      "text/plain": "  0%|          | 0/137 [00:00<?, ?it/s]",
      "application/vnd.jupyter.widget-view+json": {
       "version_major": 2,
       "version_minor": 0,
       "model_id": "441a5a35a7ab4f949a6cb482cf440b27"
      }
     },
     "metadata": {},
     "output_type": "display_data"
    },
    {
     "name": "stdout",
     "output_type": "stream",
     "text": [
      "Generated 0 invalid samples out of total 256 samples generated. Sampling efficiency is: 100.0000%\n",
      "Average Evaluation for model ../models/rtf_regular/id000017342890144858071040: 0.9169137818622868\n"
     ]
    },
    {
     "name": "stderr",
     "output_type": "stream",
     "text": [
      "/Users/sebastian/PycharmProjects/model-compression/venv/lib/python3.11/site-packages/realtabformer/realtabformer.py:77: UserWarning: The device=cuda is not available, using device=cpu instead.\n",
      "  warnings.warn(\n"
     ]
    },
    {
     "data": {
      "text/plain": "  0%|          | 0/137 [00:00<?, ?it/s]",
      "application/vnd.jupyter.widget-view+json": {
       "version_major": 2,
       "version_minor": 0,
       "model_id": "7da65c53b9694580bd5aca25cfd53c12"
      }
     },
     "metadata": {},
     "output_type": "display_data"
    },
    {
     "name": "stdout",
     "output_type": "stream",
     "text": [
      "Generated 0 invalid samples out of total 256 samples generated. Sampling efficiency is: 100.0000%\n"
     ]
    },
    {
     "name": "stderr",
     "output_type": "stream",
     "text": [
      "/Users/sebastian/PycharmProjects/model-compression/venv/lib/python3.11/site-packages/realtabformer/realtabformer.py:77: UserWarning: The device=cuda is not available, using device=cpu instead.\n",
      "  warnings.warn(\n"
     ]
    },
    {
     "data": {
      "text/plain": "  0%|          | 0/137 [00:00<?, ?it/s]",
      "application/vnd.jupyter.widget-view+json": {
       "version_major": 2,
       "version_minor": 0,
       "model_id": "a9959e7deb8949e3b3ee38c0c01575f2"
      }
     },
     "metadata": {},
     "output_type": "display_data"
    },
    {
     "name": "stdout",
     "output_type": "stream",
     "text": [
      "Generated 0 invalid samples out of total 256 samples generated. Sampling efficiency is: 100.0000%\n"
     ]
    },
    {
     "name": "stderr",
     "output_type": "stream",
     "text": [
      "/Users/sebastian/PycharmProjects/model-compression/venv/lib/python3.11/site-packages/realtabformer/realtabformer.py:77: UserWarning: The device=cuda is not available, using device=cpu instead.\n",
      "  warnings.warn(\n"
     ]
    },
    {
     "data": {
      "text/plain": "  0%|          | 0/137 [00:00<?, ?it/s]",
      "application/vnd.jupyter.widget-view+json": {
       "version_major": 2,
       "version_minor": 0,
       "model_id": "617804725fc049bc85f851081168e494"
      }
     },
     "metadata": {},
     "output_type": "display_data"
    },
    {
     "name": "stdout",
     "output_type": "stream",
     "text": [
      "Generated 0 invalid samples out of total 256 samples generated. Sampling efficiency is: 100.0000%\n"
     ]
    },
    {
     "name": "stderr",
     "output_type": "stream",
     "text": [
      "/Users/sebastian/PycharmProjects/model-compression/venv/lib/python3.11/site-packages/realtabformer/realtabformer.py:77: UserWarning: The device=cuda is not available, using device=cpu instead.\n",
      "  warnings.warn(\n"
     ]
    },
    {
     "data": {
      "text/plain": "  0%|          | 0/137 [00:00<?, ?it/s]",
      "application/vnd.jupyter.widget-view+json": {
       "version_major": 2,
       "version_minor": 0,
       "model_id": "674e07f0807442feb605233d15e650d8"
      }
     },
     "metadata": {},
     "output_type": "display_data"
    },
    {
     "name": "stdout",
     "output_type": "stream",
     "text": [
      "Generated 0 invalid samples out of total 256 samples generated. Sampling efficiency is: 100.0000%\n"
     ]
    },
    {
     "name": "stderr",
     "output_type": "stream",
     "text": [
      "/Users/sebastian/PycharmProjects/model-compression/venv/lib/python3.11/site-packages/realtabformer/realtabformer.py:77: UserWarning: The device=cuda is not available, using device=cpu instead.\n",
      "  warnings.warn(\n"
     ]
    },
    {
     "data": {
      "text/plain": "  0%|          | 0/137 [00:00<?, ?it/s]",
      "application/vnd.jupyter.widget-view+json": {
       "version_major": 2,
       "version_minor": 0,
       "model_id": "558cf0f964e548de807b62028a379750"
      }
     },
     "metadata": {},
     "output_type": "display_data"
    },
    {
     "name": "stdout",
     "output_type": "stream",
     "text": [
      "Generated 0 invalid samples out of total 256 samples generated. Sampling efficiency is: 100.0000%\n",
      "Average Evaluation for model ../models/rtf_large/id000017342929846661560320: 0.8949550788769803\n"
     ]
    }
   ],
   "source": [
    "def load_and_generate_synthetic_data(model_dir, n_samples, metadata):\n",
    "    model = REaLTabFormer.load_from_dir(model_dir)\n",
    "    synthetic_data = model.sample(n_samples=n_samples)\n",
    "    return synthetic_data\n",
    "\n",
    "def evaluate_model(test_data, synthetic_data, target, metadata):\n",
    "    return BinaryDecisionTreeClassifier.compute(\n",
    "        test_data=test_data,\n",
    "        train_data=synthetic_data,\n",
    "        target=target,\n",
    "        metadata=metadata\n",
    "    )\n",
    "\n",
    "# Model directories\n",
    "model_dirs = [\n",
    "    \"../models/rtf_small/id000017342868701547638784\",\n",
    "    \"../models/rtf_regular/id000017342890144858071040\",\n",
    "    \"../models/rtf_large/id000017342929846661560320\"\n",
    "]\n",
    "\n",
    "# Number of runs\n",
    "n_runs = 5\n",
    "\n",
    "# Evaluate each model\n",
    "for model_dir in model_dirs:\n",
    "    scores = []\n",
    "    for _ in range(n_runs):\n",
    "        # Generate synthetic data\n",
    "        synthetic_data = load_and_generate_synthetic_data(model_dir, len(test_data), my_metadata_dict)\n",
    "        \n",
    "        # Evaluate the synthetic data\n",
    "        evaluation_score = evaluate_model(test_data, synthetic_data, target='Class', metadata=my_metadata_dict)\n",
    "        \n",
    "        # Append score to list\n",
    "        scores.append(evaluation_score)\n",
    "\n",
    "    # Compute average score\n",
    "    average_score = np.mean(scores)\n",
    "    print(f\"Average Evaluation for model {model_dir}: {average_score}\")\n"
   ],
   "metadata": {
    "collapsed": false,
    "ExecuteTime": {
     "end_time": "2025-01-30T20:17:13.072274Z",
     "start_time": "2025-01-30T20:14:32.357593Z"
    }
   },
   "id": "831ae2fb5fc1e6d4"
  },
  {
   "cell_type": "code",
   "execution_count": 12,
   "outputs": [],
   "source": [
    "def print_tensor(model):\n",
    "    sparse_model = model\n",
    "    for name, param in model.named_parameters():\n",
    "        if param.dim() == 2:\n",
    "            print(name,param.size())\n",
    "\n",
    "# Attempt to convert to sparse (Sparse tensors not allowed for REalTabFormer)\n",
    "def convert_to_sparse(model):\n",
    "    test = model\n",
    "    for name, param in test.named_parameters():\n",
    "        if param.dim() == 2:  # Apply to weight matrices\n",
    "            # Convert to sparse tensor\n",
    "            param  = param.data.to_sparse()\n",
    "        \n",
    "    return test"
   ],
   "metadata": {
    "collapsed": false,
    "ExecuteTime": {
     "end_time": "2025-01-30T20:17:13.072995Z",
     "start_time": "2025-01-30T20:17:13.063218Z"
    }
   },
   "id": "7861a9a6e790d0c9"
  },
  {
   "cell_type": "code",
   "execution_count": 13,
   "outputs": [
    {
     "name": "stdout",
     "output_type": "stream",
     "text": [
      "transformer.h.0.attn.c_attn\n",
      "transformer.h.0.attn.c_proj\n",
      "transformer.h.0.mlp.c_fc\n",
      "transformer.h.0.mlp.c_proj\n",
      "transformer.h.1.attn.c_attn\n",
      "transformer.h.1.attn.c_proj\n",
      "transformer.h.1.mlp.c_fc\n",
      "transformer.h.1.mlp.c_proj\n",
      "transformer.h.2.attn.c_attn\n",
      "transformer.h.2.attn.c_proj\n",
      "transformer.h.2.mlp.c_fc\n",
      "transformer.h.2.mlp.c_proj\n",
      "transformer.h.3.attn.c_attn\n",
      "transformer.h.3.attn.c_proj\n",
      "transformer.h.3.mlp.c_fc\n",
      "transformer.h.3.mlp.c_proj\n",
      "transformer.h.4.attn.c_attn\n",
      "transformer.h.4.attn.c_proj\n",
      "transformer.h.4.mlp.c_fc\n",
      "transformer.h.4.mlp.c_proj\n",
      "transformer.h.5.attn.c_attn\n",
      "transformer.h.5.attn.c_proj\n",
      "transformer.h.5.mlp.c_fc\n",
      "transformer.h.5.mlp.c_proj\n"
     ]
    }
   ],
   "source": [
    "for name, module in model.model.named_modules():        \n",
    "    if isinstance(module, transformers.pytorch_utils.Conv1D):\n",
    "            print(name)"
   ],
   "metadata": {
    "collapsed": false,
    "ExecuteTime": {
     "end_time": "2025-01-30T20:17:13.153935Z",
     "start_time": "2025-01-30T20:17:13.072791Z"
    }
   },
   "id": "d67297ae05891bc2"
  },
  {
   "cell_type": "code",
   "execution_count": 14,
   "outputs": [
    {
     "name": "stdout",
     "output_type": "stream",
     "text": [
      "Sparsity: 0.00%\n",
      "Total: 43435008\n",
      "Zero: 0\n"
     ]
    }
   ],
   "source": [
    "def compute_sparsity(model):\n",
    "    total_params = 0\n",
    "    zero_params = 0\n",
    "    for param in model.parameters():\n",
    "        total_params += param.numel()\n",
    "        zero_params += (param == 0).sum().item()\n",
    "    \n",
    "    sparsity = zero_params / total_params\n",
    "    return sparsity,total_params, zero_params\n",
    "\n",
    "# Example usage\n",
    "sparsity, total_params, zero_params = compute_sparsity(model.model)\n",
    "print(f\"Sparsity: {sparsity * 100:.2f}%\")\n",
    "print(f\"Total: {total_params}\")\n",
    "print(f\"Zero: {zero_params}\")"
   ],
   "metadata": {
    "collapsed": false,
    "ExecuteTime": {
     "end_time": "2025-01-30T20:17:13.226427Z",
     "start_time": "2025-01-30T20:17:13.083822Z"
    }
   },
   "id": "f002c9f686256399"
  },
  {
   "cell_type": "code",
   "execution_count": 15,
   "outputs": [
    {
     "name": "stdout",
     "output_type": "stream",
     "text": [
      "Copying artefacts from: best-disc-model\n",
      "Copying artefacts from: mean-best-disc-model\n",
      "Copying artefacts from: not-best-disc-model\n",
      "Copying artefacts from: last-epoch-model\n"
     ]
    }
   ],
   "source": [
    "model.save(\"../models/small/\")"
   ],
   "metadata": {
    "collapsed": false,
    "ExecuteTime": {
     "end_time": "2025-01-30T20:17:14.048061Z",
     "start_time": "2025-01-30T20:17:13.213151Z"
    }
   },
   "id": "13c356210b8649f6"
  }
 ],
 "metadata": {
  "kernelspec": {
   "display_name": "Python 3",
   "language": "python",
   "name": "python3"
  },
  "language_info": {
   "codemirror_mode": {
    "name": "ipython",
    "version": 2
   },
   "file_extension": ".py",
   "mimetype": "text/x-python",
   "name": "python",
   "nbconvert_exporter": "python",
   "pygments_lexer": "ipython2",
   "version": "2.7.6"
  }
 },
 "nbformat": 4,
 "nbformat_minor": 5
}
