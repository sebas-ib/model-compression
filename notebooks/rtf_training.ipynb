{
 "cells": [
  {
   "cell_type": "code",
   "execution_count": 8,
   "outputs": [],
   "source": [
    "# @title Import Libraries\n",
    "import pandas as pd\n",
    "import tracemalloc\n",
    "import time\n",
    "import psutil\n",
    "from realtabformer import REaLTabFormer\n",
    "from transformers import GPT2Config\n",
    "from src.data_processing import csv_data_split"
   ],
   "metadata": {
    "collapsed": false,
    "ExecuteTime": {
     "end_time": "2024-12-09T20:03:29.071037Z",
     "start_time": "2024-12-09T20:03:29.049817Z"
    }
   },
   "id": "ef12a17b7a6eb356"
  },
  {
   "cell_type": "code",
   "execution_count": 9,
   "outputs": [],
   "source": [
    "train_data, test_data, sample_data = csv_data_split(\"../data/breast-cancer-wisconsin.csv\")"
   ],
   "metadata": {
    "collapsed": false,
    "ExecuteTime": {
     "end_time": "2024-12-09T20:03:30.047452Z",
     "start_time": "2024-12-09T20:03:30.032587Z"
    }
   },
   "id": "6390e044f616349b"
  },
  {
   "cell_type": "code",
   "execution_count": 10,
   "outputs": [],
   "source": [
    "# Initialize an empty DataFrame to store results\n",
    "results = pd.DataFrame(columns=[\"Model\", \"Time (s)\", \"Memory Current (MB)\", \"Memory Peak (MB)\"])"
   ],
   "metadata": {
    "collapsed": false,
    "ExecuteTime": {
     "end_time": "2024-12-09T20:03:30.974471Z",
     "start_time": "2024-12-09T20:03:30.950226Z"
    }
   },
   "id": "cd91d8979ae8768c"
  },
  {
   "cell_type": "code",
   "execution_count": 36,
   "outputs": [
    {
     "data": {
      "text/plain": "           Model     Time (s)  Memory Current (MB)  Memory Peak (MB)  Layers  \\\n0    small_model   566.675813            42.637881         47.304494       4   \n1  regular_model  1790.282550             1.735398          2.291640       6   \n2    large_model  4983.763235             1.624654          2.558731      12   \n\n   Heads  Embedding Dim  DS Size  System Memory Usage (MB)  \n0      8            512      273                         0  \n1     12            768      273                         0  \n2     12            768      273                         0  ",
      "text/html": "<div>\n<style scoped>\n    .dataframe tbody tr th:only-of-type {\n        vertical-align: middle;\n    }\n\n    .dataframe tbody tr th {\n        vertical-align: top;\n    }\n\n    .dataframe thead th {\n        text-align: right;\n    }\n</style>\n<table border=\"1\" class=\"dataframe\">\n  <thead>\n    <tr style=\"text-align: right;\">\n      <th></th>\n      <th>Model</th>\n      <th>Time (s)</th>\n      <th>Memory Current (MB)</th>\n      <th>Memory Peak (MB)</th>\n      <th>Layers</th>\n      <th>Heads</th>\n      <th>Embedding Dim</th>\n      <th>DS Size</th>\n      <th>System Memory Usage (MB)</th>\n    </tr>\n  </thead>\n  <tbody>\n    <tr>\n      <th>0</th>\n      <td>small_model</td>\n      <td>566.675813</td>\n      <td>42.637881</td>\n      <td>47.304494</td>\n      <td>4</td>\n      <td>8</td>\n      <td>512</td>\n      <td>273</td>\n      <td>0</td>\n    </tr>\n    <tr>\n      <th>1</th>\n      <td>regular_model</td>\n      <td>1790.282550</td>\n      <td>1.735398</td>\n      <td>2.291640</td>\n      <td>6</td>\n      <td>12</td>\n      <td>768</td>\n      <td>273</td>\n      <td>0</td>\n    </tr>\n    <tr>\n      <th>2</th>\n      <td>large_model</td>\n      <td>4983.763235</td>\n      <td>1.624654</td>\n      <td>2.558731</td>\n      <td>12</td>\n      <td>12</td>\n      <td>768</td>\n      <td>273</td>\n      <td>0</td>\n    </tr>\n  </tbody>\n</table>\n</div>"
     },
     "execution_count": 36,
     "metadata": {},
     "output_type": "execute_result"
    }
   ],
   "source": [
    "results[\"System Memory Usage (MB)\"] = 0\n",
    "results"
   ],
   "metadata": {
    "collapsed": false,
    "ExecuteTime": {
     "end_time": "2024-12-06T04:18:15.806029Z",
     "start_time": "2024-12-06T04:18:15.766100Z"
    }
   },
   "id": "202cea217a8c29cd"
  },
  {
   "cell_type": "code",
   "execution_count": 42,
   "outputs": [
    {
     "data": {
      "text/plain": "Empty DataFrame\nColumns: [Model, Time (s), Memory Current (MB), Memory Peak (MB), System Memory Usage (MB)]\nIndex: []",
      "text/html": "<div>\n<style scoped>\n    .dataframe tbody tr th:only-of-type {\n        vertical-align: middle;\n    }\n\n    .dataframe tbody tr th {\n        vertical-align: top;\n    }\n\n    .dataframe thead th {\n        text-align: right;\n    }\n</style>\n<table border=\"1\" class=\"dataframe\">\n  <thead>\n    <tr style=\"text-align: right;\">\n      <th></th>\n      <th>Model</th>\n      <th>Time (s)</th>\n      <th>Memory Current (MB)</th>\n      <th>Memory Peak (MB)</th>\n      <th>System Memory Usage (MB)</th>\n    </tr>\n  </thead>\n  <tbody>\n  </tbody>\n</table>\n</div>"
     },
     "execution_count": 42,
     "metadata": {},
     "output_type": "execute_result"
    }
   ],
   "source": [
    "new_results = pd.DataFrame(columns=[\"Model\", \"Time (s)\", \"Memory Current (MB)\", \"Memory Peak (MB)\", \"System Memory Usage (MB)\"])\n",
    "new_results"
   ],
   "metadata": {
    "collapsed": false,
    "ExecuteTime": {
     "end_time": "2024-12-06T04:20:13.475873Z",
     "start_time": "2024-12-06T04:20:13.419880Z"
    }
   },
   "id": "5a18486f95592fba"
  },
  {
   "cell_type": "code",
   "execution_count": 43,
   "outputs": [],
   "source": [
    "def fit_and_track_memory(model, data, model_name):\n",
    "    tracemalloc.start()\n",
    "    start_time = time.time()\n",
    "\n",
    "    process = psutil.Process()\n",
    "    initial_memory = process.memory_info().rss\n",
    "\n",
    "    model.fit(data)\n",
    "\n",
    "    end_time = time.time()\n",
    "    elapsed_time = end_time - start_time\n",
    "\n",
    "    final_memory = process.memory_info().rss\n",
    "    current, peak = tracemalloc.get_traced_memory()\n",
    "\n",
    "    print(f\"Model: {model_name}\")\n",
    "    print(f\"System Memory Usage: {((final_memory - initial_memory) / 1024**2):.2f} MB\")\n",
    "    print(f\"Python Current Memory: {current / 1024**2:.2f} MB\")\n",
    "    print(f\"Python Peak Memory: {peak / 1024**2:.2f} MB\")\n",
    "\n",
    "    tracemalloc.stop()\n",
    "\n",
    "    new_results.loc[len(results)] = [\n",
    "        model_name,\n",
    "        elapsed_time,\n",
    "        current / 1024**2,\n",
    "        peak / 1024**2,\n",
    "        (final_memory - initial_memory) / 1024**2\n",
    "    ]\n",
    "\n",
    "    model.save(f\"../models/{model_name}\")"
   ],
   "metadata": {
    "collapsed": false,
    "ExecuteTime": {
     "end_time": "2024-12-06T04:20:17.173825Z",
     "start_time": "2024-12-06T04:20:17.151120Z"
    }
   },
   "id": "c003a42401956129"
  },
  {
   "cell_type": "code",
   "execution_count": 43,
   "outputs": [],
   "source": [
    "def fit_and_track(model, data, model_name):\n",
    "    start_time = time.time()\n",
    "    model.fit(data)\n",
    "    end_time = time.time()\n",
    "    elapsed_time = end_time - start_time\n",
    "\n",
    "\n",
    "    new_results.loc[len(results)] = [\n",
    "        model_name,\n",
    "        elapsed_time\n",
    "    ]\n",
    "\n",
    "    model.save(f\"../models/{model_name}\")"
   ],
   "metadata": {
    "collapsed": false
   },
   "id": "b0f285c073e6f422"
  },
  {
   "cell_type": "code",
   "execution_count": 44,
   "outputs": [
    {
     "name": "stdout",
     "output_type": "stream",
     "text": [
      "Computing the sensitivity threshold...\n",
      "Using parallel computation!!!\n"
     ]
    },
    {
     "name": "stderr",
     "output_type": "stream",
     "text": [
      "/Users/sebastian/PycharmProjects/realtabformer-compression/venv/lib/python3.11/site-packages/realtabformer/realtabformer.py:288: UserWarning: The `bos_token_id`, `eos_token_id`, and `vocab_size` attributes will                     be replaced when the `.fit` method is run.\n",
      "  warnings.warn(\n",
      "/Users/sebastian/PycharmProjects/realtabformer-compression/venv/lib/python3.11/site-packages/realtabformer/realtabformer.py:77: UserWarning: The device=cuda is not available, using device=cpu instead.\n",
      "  warnings.warn(\n",
      "/Users/sebastian/PycharmProjects/realtabformer-compression/venv/lib/python3.11/site-packages/realtabformer/realtabformer.py:597: UserWarning: qt_interval adjusted from 100 to 4...\n",
      "  warnings.warn(\n"
     ]
    },
    {
     "data": {
      "text/plain": "Bootstrap round:   0%|          | 0/500 [00:00<?, ?it/s]",
      "application/vnd.jupyter.widget-view+json": {
       "version_major": 2,
       "version_minor": 0,
       "model_id": "7704bf2471094528b3ba2f7cd7999c71"
      }
     },
     "metadata": {},
     "output_type": "display_data"
    },
    {
     "name": "stdout",
     "output_type": "stream",
     "text": [
      "Sensitivity threshold summary:\n",
      "count    500.000000\n",
      "mean       0.004391\n",
      "std        0.013035\n",
      "min       -0.021667\n",
      "25%       -0.005000\n",
      "50%        0.002500\n",
      "75%        0.011806\n",
      "max        0.057778\n",
      "dtype: float64\n",
      "Sensitivity threshold: 0.02722222222222222 qt_max: 0.05\n"
     ]
    },
    {
     "data": {
      "text/plain": "Map:   0%|          | 0/546 [00:00<?, ? examples/s]",
      "application/vnd.jupyter.widget-view+json": {
       "version_major": 2,
       "version_minor": 0,
       "model_id": "c52717b6c72f4e7ca5af3e6b96b30c7d"
      }
     },
     "metadata": {},
     "output_type": "display_data"
    },
    {
     "data": {
      "text/plain": "<IPython.core.display.HTML object>",
      "text/html": "\n    <div>\n      \n      <progress value='2' max='40' style='width:300px; height:20px; vertical-align: middle;'></progress>\n      [ 2/40 : < :, Epoch 0.11/5]\n    </div>\n    <table border=\"1\" class=\"dataframe\">\n  <thead>\n <tr style=\"text-align: left;\">\n      <th>Step</th>\n      <th>Training Loss</th>\n    </tr>\n  </thead>\n  <tbody>\n  </tbody>\n</table><p>"
     },
     "metadata": {},
     "output_type": "display_data"
    },
    {
     "data": {
      "text/plain": "  0%|          | 0/270 [00:00<?, ?it/s]",
      "application/vnd.jupyter.widget-view+json": {
       "version_major": 2,
       "version_minor": 0,
       "model_id": "e1551aaa3eb247959d23b77a27bcb93f"
      }
     },
     "metadata": {},
     "output_type": "display_data"
    },
    {
     "name": "stdout",
     "output_type": "stream",
     "text": [
      "Generated 0 invalid samples out of total 384 samples generated. Sampling efficiency is: 100.0000%\n",
      "Critic round: 5,                     sensitivity_threshold: 0.02722222222222222,                         val_sensitivity: -0.01725925925925926,                             val_sensitivities: [-0.025, -0.014444444444444446, -0.025, -0.02388888888888889, -0.019444444444444445, -0.01, -0.019444444444444445, -0.001666666666666667, -0.015, -0.012777777777777779, -0.007222222222222222, -0.025, -0.02277777777777778, -0.015555555555555557, -0.021666666666666667]\n"
     ]
    },
    {
     "data": {
      "text/plain": "<IPython.core.display.HTML object>",
      "text/html": "\n    <div>\n      \n      <progress value='42' max='80' style='width:300px; height:20px; vertical-align: middle;'></progress>\n      [42/80 : < :, Epoch 5.11/10]\n    </div>\n    <table border=\"1\" class=\"dataframe\">\n  <thead>\n <tr style=\"text-align: left;\">\n      <th>Step</th>\n      <th>Training Loss</th>\n    </tr>\n  </thead>\n  <tbody>\n  </tbody>\n</table><p>"
     },
     "metadata": {},
     "output_type": "display_data"
    },
    {
     "data": {
      "text/plain": "  0%|          | 0/270 [00:00<?, ?it/s]",
      "application/vnd.jupyter.widget-view+json": {
       "version_major": 2,
       "version_minor": 0,
       "model_id": "25489fe38d5944c3af8f9bf73407ba62"
      }
     },
     "metadata": {},
     "output_type": "display_data"
    },
    {
     "name": "stdout",
     "output_type": "stream",
     "text": [
      "Generated 0 invalid samples out of total 384 samples generated. Sampling efficiency is: 100.0000%\n",
      "Critic round: 10,                     sensitivity_threshold: 0.02722222222222222,                         val_sensitivity: -0.01488888888888889,                             val_sensitivities: [-0.025, -0.009444444444444445, -0.025, -0.02388888888888889, -0.020555555555555556, -0.017222222222222222, -0.01888888888888889, -0.008333333333333333, -0.01611111111111111, -0.016666666666666666, 0.006666666666666667, -0.017777777777777778, -0.015, 0.0005555555555555548, -0.01666666666666667]\n"
     ]
    },
    {
     "data": {
      "text/plain": "<IPython.core.display.HTML object>",
      "text/html": "\n    <div>\n      \n      <progress value='82' max='120' style='width:300px; height:20px; vertical-align: middle;'></progress>\n      [ 82/120 : < :, Epoch 10.11/15]\n    </div>\n    <table border=\"1\" class=\"dataframe\">\n  <thead>\n <tr style=\"text-align: left;\">\n      <th>Step</th>\n      <th>Training Loss</th>\n    </tr>\n  </thead>\n  <tbody>\n  </tbody>\n</table><p>"
     },
     "metadata": {},
     "output_type": "display_data"
    },
    {
     "data": {
      "text/plain": "  0%|          | 0/270 [00:00<?, ?it/s]",
      "application/vnd.jupyter.widget-view+json": {
       "version_major": 2,
       "version_minor": 0,
       "model_id": "664ff7af58d84d0782cb2c394e4c93fd"
      }
     },
     "metadata": {},
     "output_type": "display_data"
    },
    {
     "name": "stdout",
     "output_type": "stream",
     "text": [
      "Generated 0 invalid samples out of total 384 samples generated. Sampling efficiency is: 100.0000%\n",
      "Critic round: 15,                     sensitivity_threshold: 0.02722222222222222,                         val_sensitivity: -0.015370370370370373,                             val_sensitivities: [-0.025, -0.015000000000000001, -0.02277777777777778, -0.02388888888888889, -0.021666666666666667, -0.01888888888888889, -0.023333333333333334, -0.017222222222222222, -0.02, -0.018333333333333333, 0.011111111111111112, -0.01888888888888889, -0.015, 0.008888888888888889, -0.010555555555555556]\n"
     ]
    },
    {
     "data": {
      "text/plain": "<IPython.core.display.HTML object>",
      "text/html": "\n    <div>\n      \n      <progress value='122' max='160' style='width:300px; height:20px; vertical-align: middle;'></progress>\n      [122/160 : < :, Epoch 15.11/20]\n    </div>\n    <table border=\"1\" class=\"dataframe\">\n  <thead>\n <tr style=\"text-align: left;\">\n      <th>Step</th>\n      <th>Training Loss</th>\n    </tr>\n  </thead>\n  <tbody>\n  </tbody>\n</table><p>"
     },
     "metadata": {},
     "output_type": "display_data"
    },
    {
     "data": {
      "text/plain": "  0%|          | 0/270 [00:00<?, ?it/s]",
      "application/vnd.jupyter.widget-view+json": {
       "version_major": 2,
       "version_minor": 0,
       "model_id": "863dfa0e870d4528b4f5108db75e55e2"
      }
     },
     "metadata": {},
     "output_type": "display_data"
    },
    {
     "name": "stdout",
     "output_type": "stream",
     "text": [
      "Generated 0 invalid samples out of total 384 samples generated. Sampling efficiency is: 100.0000%\n",
      "Critic round: 20,                     sensitivity_threshold: 0.02722222222222222,                         val_sensitivity: -0.009888888888888888,                             val_sensitivities: [-0.025, -0.009444444444444445, -0.019444444444444445, -0.020555555555555556, -0.01666666666666667, -0.00888888888888889, -0.01888888888888889, -0.0011111111111111113, -0.013333333333333334, -0.015555555555555555, 0.02666666666666667, -0.011111111111111112, -0.015, 0.012222222222222223, -0.012222222222222223]\n"
     ]
    },
    {
     "data": {
      "text/plain": "<IPython.core.display.HTML object>",
      "text/html": "\n    <div>\n      \n      <progress value='162' max='200' style='width:300px; height:20px; vertical-align: middle;'></progress>\n      [162/200 : < :, Epoch 20.11/25]\n    </div>\n    <table border=\"1\" class=\"dataframe\">\n  <thead>\n <tr style=\"text-align: left;\">\n      <th>Step</th>\n      <th>Training Loss</th>\n    </tr>\n  </thead>\n  <tbody>\n  </tbody>\n</table><p>"
     },
     "metadata": {},
     "output_type": "display_data"
    },
    {
     "data": {
      "text/plain": "  0%|          | 0/270 [00:00<?, ?it/s]",
      "application/vnd.jupyter.widget-view+json": {
       "version_major": 2,
       "version_minor": 0,
       "model_id": "f38beeec0ffe4910a31ac609199d3772"
      }
     },
     "metadata": {},
     "output_type": "display_data"
    },
    {
     "name": "stdout",
     "output_type": "stream",
     "text": [
      "Generated 0 invalid samples out of total 384 samples generated. Sampling efficiency is: 100.0000%\n",
      "Critic round: 25,                     sensitivity_threshold: 0.02722222222222222,                         val_sensitivity: -0.012703703703703705,                             val_sensitivities: [-0.022222222222222223, -0.0011111111111111105, -0.02, -0.016666666666666666, -0.006666666666666666, -0.012222222222222221, -0.02, -0.007222222222222222, -0.015000000000000001, -0.020555555555555556, 0.008333333333333333, -0.017777777777777778, -0.01611111111111111, -0.01, -0.013333333333333334]\n"
     ]
    },
    {
     "data": {
      "text/plain": "<IPython.core.display.HTML object>",
      "text/html": "\n    <div>\n      \n      <progress value='202' max='240' style='width:300px; height:20px; vertical-align: middle;'></progress>\n      [202/240 : < :, Epoch 25.11/30]\n    </div>\n    <table border=\"1\" class=\"dataframe\">\n  <thead>\n <tr style=\"text-align: left;\">\n      <th>Step</th>\n      <th>Training Loss</th>\n    </tr>\n  </thead>\n  <tbody>\n  </tbody>\n</table><p>"
     },
     "metadata": {},
     "output_type": "display_data"
    },
    {
     "data": {
      "text/plain": "  0%|          | 0/270 [00:00<?, ?it/s]",
      "application/vnd.jupyter.widget-view+json": {
       "version_major": 2,
       "version_minor": 0,
       "model_id": "e4ee4e9c5e9345c28d75c63710743069"
      }
     },
     "metadata": {},
     "output_type": "display_data"
    },
    {
     "name": "stdout",
     "output_type": "stream",
     "text": [
      "Generated 0 invalid samples out of total 384 samples generated. Sampling efficiency is: 100.0000%\n",
      "Critic round: 30,                     sensitivity_threshold: 0.02722222222222222,                         val_sensitivity: -0.016185185185185188,                             val_sensitivities: [-0.02388888888888889, -0.012222222222222223, -0.022222222222222223, -0.02388888888888889, -0.013333333333333334, -0.02277777777777778, -0.025, -0.014444444444444446, -0.021111111111111112, -0.025, 0.006666666666666667, -0.01388888888888889, -0.017222222222222222, 0.002222222222222221, -0.01666666666666667]\n"
     ]
    },
    {
     "data": {
      "text/plain": "<IPython.core.display.HTML object>",
      "text/html": "\n    <div>\n      \n      <progress value='242' max='280' style='width:300px; height:20px; vertical-align: middle;'></progress>\n      [242/280 : < :, Epoch 30.11/35]\n    </div>\n    <table border=\"1\" class=\"dataframe\">\n  <thead>\n <tr style=\"text-align: left;\">\n      <th>Step</th>\n      <th>Training Loss</th>\n    </tr>\n  </thead>\n  <tbody>\n  </tbody>\n</table><p>"
     },
     "metadata": {},
     "output_type": "display_data"
    },
    {
     "data": {
      "text/plain": "  0%|          | 0/270 [00:00<?, ?it/s]",
      "application/vnd.jupyter.widget-view+json": {
       "version_major": 2,
       "version_minor": 0,
       "model_id": "e61b0d12fe4f40589b8e27e37a648a0f"
      }
     },
     "metadata": {},
     "output_type": "display_data"
    },
    {
     "name": "stdout",
     "output_type": "stream",
     "text": [
      "Generated 0 invalid samples out of total 384 samples generated. Sampling efficiency is: 100.0000%\n",
      "Critic round: 35,                     sensitivity_threshold: 0.02722222222222222,                         val_sensitivity: -0.011888888888888892,                             val_sensitivities: [-0.017222222222222222, -0.008888888888888889, -0.013888888888888888, -0.015, -0.010555555555555556, -0.009444444444444445, -0.021111111111111112, -0.0011111111111111118, -0.012222222222222223, -0.011666666666666667, 0.004444444444444444, -0.019444444444444445, -0.02277777777777778, -0.001666666666666667, -0.01777777777777778]\n"
     ]
    },
    {
     "data": {
      "text/plain": "<IPython.core.display.HTML object>",
      "text/html": "\n    <div>\n      \n      <progress value='282' max='320' style='width:300px; height:20px; vertical-align: middle;'></progress>\n      [282/320 : < :, Epoch 35.11/40]\n    </div>\n    <table border=\"1\" class=\"dataframe\">\n  <thead>\n <tr style=\"text-align: left;\">\n      <th>Step</th>\n      <th>Training Loss</th>\n    </tr>\n  </thead>\n  <tbody>\n  </tbody>\n</table><p>"
     },
     "metadata": {},
     "output_type": "display_data"
    },
    {
     "data": {
      "text/plain": "  0%|          | 0/270 [00:00<?, ?it/s]",
      "application/vnd.jupyter.widget-view+json": {
       "version_major": 2,
       "version_minor": 0,
       "model_id": "b217fcb70c9d45c6ac62a962ca4a0387"
      }
     },
     "metadata": {},
     "output_type": "display_data"
    },
    {
     "name": "stdout",
     "output_type": "stream",
     "text": [
      "Generated 0 invalid samples out of total 384 samples generated. Sampling efficiency is: 100.0000%\n",
      "Critic round: 40,                     sensitivity_threshold: 0.02722222222222222,                         val_sensitivity: -0.013592592592592594,                             val_sensitivities: [-0.025, -0.006666666666666666, -0.02, -0.019444444444444445, -0.013333333333333334, -0.011111111111111112, -0.021666666666666667, 0.0011111111111111113, -0.01611111111111111, -0.015555555555555557, 0.006666666666666667, -0.021666666666666667, -0.021666666666666667, 0.0011111111111111113, -0.020555555555555556]\n"
     ]
    },
    {
     "data": {
      "text/plain": "<IPython.core.display.HTML object>",
      "text/html": "\n    <div>\n      \n      <progress value='322' max='360' style='width:300px; height:20px; vertical-align: middle;'></progress>\n      [322/360 : < :, Epoch 40.11/45]\n    </div>\n    <table border=\"1\" class=\"dataframe\">\n  <thead>\n <tr style=\"text-align: left;\">\n      <th>Step</th>\n      <th>Training Loss</th>\n    </tr>\n  </thead>\n  <tbody>\n  </tbody>\n</table><p>"
     },
     "metadata": {},
     "output_type": "display_data"
    },
    {
     "data": {
      "text/plain": "  0%|          | 0/270 [00:00<?, ?it/s]",
      "application/vnd.jupyter.widget-view+json": {
       "version_major": 2,
       "version_minor": 0,
       "model_id": "edae3c7e81fb40659071f6a09c6e1e9f"
      }
     },
     "metadata": {},
     "output_type": "display_data"
    },
    {
     "name": "stdout",
     "output_type": "stream",
     "text": [
      "Generated 0 invalid samples out of total 384 samples generated. Sampling efficiency is: 100.0000%\n",
      "Critic round: 45,                     sensitivity_threshold: 0.02722222222222222,                         val_sensitivity: -0.012740740740740743,                             val_sensitivities: [-0.02277777777777778, -0.012777777777777779, -0.02, -0.017777777777777778, -0.015555555555555555, -0.01611111111111111, -0.01888888888888889, -0.011111111111111112, -0.015, -0.018333333333333333, 0.012222222222222223, -0.015555555555555557, -0.012777777777777777, 0.0038888888888888888, -0.010555555555555556]\n"
     ]
    },
    {
     "data": {
      "text/plain": "<IPython.core.display.HTML object>",
      "text/html": "\n    <div>\n      \n      <progress value='362' max='400' style='width:300px; height:20px; vertical-align: middle;'></progress>\n      [362/400 : < :, Epoch 45.11/50]\n    </div>\n    <table border=\"1\" class=\"dataframe\">\n  <thead>\n <tr style=\"text-align: left;\">\n      <th>Step</th>\n      <th>Training Loss</th>\n    </tr>\n  </thead>\n  <tbody>\n  </tbody>\n</table><p>"
     },
     "metadata": {},
     "output_type": "display_data"
    },
    {
     "data": {
      "text/plain": "  0%|          | 0/270 [00:00<?, ?it/s]",
      "application/vnd.jupyter.widget-view+json": {
       "version_major": 2,
       "version_minor": 0,
       "model_id": "ee9fb8f04ba94799b9a4521385e6f14f"
      }
     },
     "metadata": {},
     "output_type": "display_data"
    },
    {
     "name": "stdout",
     "output_type": "stream",
     "text": [
      "Generated 0 invalid samples out of total 384 samples generated. Sampling efficiency is: 100.0000%\n",
      "Critic round: 50,                     sensitivity_threshold: 0.02722222222222222,                         val_sensitivity: -0.013888888888888888,                             val_sensitivities: [-0.016666666666666666, -0.001111111111111111, -0.017777777777777778, -0.005555555555555555, -0.004999999999999999, -0.020555555555555556, -0.023333333333333334, -0.009444444444444445, -0.017222222222222222, -0.02, -0.0022222222222222235, -0.021666666666666667, -0.020555555555555556, -0.0077777777777777776, -0.019444444444444445]\n"
     ]
    },
    {
     "data": {
      "text/plain": "<IPython.core.display.HTML object>",
      "text/html": "\n    <div>\n      \n      <progress value='402' max='440' style='width:300px; height:20px; vertical-align: middle;'></progress>\n      [402/440 : < :, Epoch 50.11/55]\n    </div>\n    <table border=\"1\" class=\"dataframe\">\n  <thead>\n <tr style=\"text-align: left;\">\n      <th>Step</th>\n      <th>Training Loss</th>\n    </tr>\n  </thead>\n  <tbody>\n  </tbody>\n</table><p>"
     },
     "metadata": {},
     "output_type": "display_data"
    },
    {
     "data": {
      "text/plain": "  0%|          | 0/270 [00:00<?, ?it/s]",
      "application/vnd.jupyter.widget-view+json": {
       "version_major": 2,
       "version_minor": 0,
       "model_id": "2391673c17cc48598bfa181a864b5631"
      }
     },
     "metadata": {},
     "output_type": "display_data"
    },
    {
     "name": "stdout",
     "output_type": "stream",
     "text": [
      "Generated 0 invalid samples out of total 384 samples generated. Sampling efficiency is: 100.0000%\n",
      "Critic round: 55,                     sensitivity_threshold: 0.02722222222222222,                         val_sensitivity: -0.011703703703703706,                             val_sensitivities: [-0.02388888888888889, -0.007222222222222223, -0.015555555555555557, -0.018333333333333333, -0.0061111111111111106, -0.006111111111111111, -0.019444444444444445, 0.005555555555555556, -0.012777777777777779, -0.009444444444444445, 0.0016666666666666661, -0.019444444444444445, -0.020555555555555556, -0.005555555555555555, -0.018333333333333333]\n"
     ]
    },
    {
     "data": {
      "text/plain": "<IPython.core.display.HTML object>",
      "text/html": "\n    <div>\n      \n      <progress value='442' max='480' style='width:300px; height:20px; vertical-align: middle;'></progress>\n      [442/480 : < :, Epoch 55.11/60]\n    </div>\n    <table border=\"1\" class=\"dataframe\">\n  <thead>\n <tr style=\"text-align: left;\">\n      <th>Step</th>\n      <th>Training Loss</th>\n    </tr>\n  </thead>\n  <tbody>\n  </tbody>\n</table><p>"
     },
     "metadata": {},
     "output_type": "display_data"
    },
    {
     "data": {
      "text/plain": "  0%|          | 0/270 [00:00<?, ?it/s]",
      "application/vnd.jupyter.widget-view+json": {
       "version_major": 2,
       "version_minor": 0,
       "model_id": "4e8a6f3d3207444ca3105f42201be83c"
      }
     },
     "metadata": {},
     "output_type": "display_data"
    },
    {
     "name": "stdout",
     "output_type": "stream",
     "text": [
      "Generated 0 invalid samples out of total 384 samples generated. Sampling efficiency is: 100.0000%\n",
      "Critic round: 60,                     sensitivity_threshold: 0.02722222222222222,                         val_sensitivity: -0.006925925925925927,                             val_sensitivities: [-0.021666666666666667, -0.0038888888888888888, -0.017222222222222222, -0.018333333333333333, -0.011666666666666667, -0.0022222222222222227, -0.015555555555555557, 0.004999999999999999, -0.004444444444444445, -0.008888888888888889, 0.021111111111111112, -0.008888888888888889, -0.012777777777777777, 0.006666666666666666, -0.011111111111111112]\n"
     ]
    },
    {
     "data": {
      "text/plain": "<IPython.core.display.HTML object>",
      "text/html": "\n    <div>\n      \n      <progress value='482' max='520' style='width:300px; height:20px; vertical-align: middle;'></progress>\n      [482/520 : < :, Epoch 60.11/65]\n    </div>\n    <table border=\"1\" class=\"dataframe\">\n  <thead>\n <tr style=\"text-align: left;\">\n      <th>Step</th>\n      <th>Training Loss</th>\n    </tr>\n  </thead>\n  <tbody>\n  </tbody>\n</table><p>"
     },
     "metadata": {},
     "output_type": "display_data"
    },
    {
     "data": {
      "text/plain": "  0%|          | 0/270 [00:00<?, ?it/s]",
      "application/vnd.jupyter.widget-view+json": {
       "version_major": 2,
       "version_minor": 0,
       "model_id": "c444c7d308504a4888076d06238efbf8"
      }
     },
     "metadata": {},
     "output_type": "display_data"
    },
    {
     "name": "stdout",
     "output_type": "stream",
     "text": [
      "Generated 0 invalid samples out of total 384 samples generated. Sampling efficiency is: 100.0000%\n",
      "Critic round: 65,                     sensitivity_threshold: 0.02722222222222222,                         val_sensitivity: -0.0064444444444444445,                             val_sensitivities: [-0.017777777777777778, 0.006666666666666666, -0.013888888888888888, -0.012777777777777777, -0.0038888888888888888, -0.011666666666666665, -0.02, -0.0027777777777777783, -0.008333333333333333, -0.015555555555555557, 0.025555555555555554, -0.011666666666666667, -0.013888888888888888, 0.01388888888888889, -0.010555555555555556]\n"
     ]
    },
    {
     "data": {
      "text/plain": "<IPython.core.display.HTML object>",
      "text/html": "\n    <div>\n      \n      <progress value='522' max='560' style='width:300px; height:20px; vertical-align: middle;'></progress>\n      [522/560 : < :, Epoch 65.11/70]\n    </div>\n    <table border=\"1\" class=\"dataframe\">\n  <thead>\n <tr style=\"text-align: left;\">\n      <th>Step</th>\n      <th>Training Loss</th>\n    </tr>\n  </thead>\n  <tbody>\n  </tbody>\n</table><p>"
     },
     "metadata": {},
     "output_type": "display_data"
    },
    {
     "data": {
      "text/plain": "  0%|          | 0/270 [00:00<?, ?it/s]",
      "application/vnd.jupyter.widget-view+json": {
       "version_major": 2,
       "version_minor": 0,
       "model_id": "c5985c9be7454b70848e38b0a6564870"
      }
     },
     "metadata": {},
     "output_type": "display_data"
    },
    {
     "name": "stdout",
     "output_type": "stream",
     "text": [
      "Generated 0 invalid samples out of total 384 samples generated. Sampling efficiency is: 100.0000%\n",
      "Critic round: 70,                     sensitivity_threshold: 0.02722222222222222,                         val_sensitivity: -0.00974074074074074,                             val_sensitivities: [-0.02277777777777778, 0.00111111111111111, -0.012777777777777779, -0.012222222222222223, -0.008333333333333333, -0.012777777777777779, -0.02277777777777778, -0.007222222222222222, -0.011111111111111112, -0.012777777777777779, 0.011111111111111112, -0.012222222222222223, -0.011666666666666667, -0.0011111111111111113, -0.010555555555555556]\n"
     ]
    },
    {
     "data": {
      "text/plain": "<IPython.core.display.HTML object>",
      "text/html": "\n    <div>\n      \n      <progress value='562' max='600' style='width:300px; height:20px; vertical-align: middle;'></progress>\n      [562/600 : < :, Epoch 70.11/75]\n    </div>\n    <table border=\"1\" class=\"dataframe\">\n  <thead>\n <tr style=\"text-align: left;\">\n      <th>Step</th>\n      <th>Training Loss</th>\n    </tr>\n  </thead>\n  <tbody>\n  </tbody>\n</table><p>"
     },
     "metadata": {},
     "output_type": "display_data"
    },
    {
     "data": {
      "text/plain": "  0%|          | 0/270 [00:00<?, ?it/s]",
      "application/vnd.jupyter.widget-view+json": {
       "version_major": 2,
       "version_minor": 0,
       "model_id": "d94bed8cb58f4d6989f9dd214935ea19"
      }
     },
     "metadata": {},
     "output_type": "display_data"
    },
    {
     "name": "stdout",
     "output_type": "stream",
     "text": [
      "Generated 0 invalid samples out of total 384 samples generated. Sampling efficiency is: 100.0000%\n",
      "Critic round: 75,                     sensitivity_threshold: 0.02722222222222222,                         val_sensitivity: -0.010703703703703705,                             val_sensitivities: [-0.02388888888888889, -0.010555555555555556, -0.019444444444444445, -0.019444444444444445, -0.01666666666666667, -0.018333333333333333, -0.020555555555555556, -0.010555555555555556, -0.013888888888888888, -0.017777777777777778, 0.02722222222222222, -0.01, -0.003333333333333333, 0.01, -0.013333333333333334]\n",
      "Model: small_model_full\n",
      "System Memory Usage: -104.24 MB\n",
      "Python Current Memory: 23.20 MB\n",
      "Python Peak Memory: 26.57 MB\n",
      "Copying artefacts from: best-disc-model\n",
      "Copying artefacts from: mean-best-disc-model\n",
      "Copying artefacts from: not-best-disc-model\n",
      "Copying artefacts from: last-epoch-model\n",
      "Computing the sensitivity threshold...\n",
      "Using parallel computation!!!\n"
     ]
    },
    {
     "name": "stderr",
     "output_type": "stream",
     "text": [
      "/Users/sebastian/PycharmProjects/realtabformer-compression/venv/lib/python3.11/site-packages/realtabformer/realtabformer.py:77: UserWarning: The device=cuda is not available, using device=cpu instead.\n",
      "  warnings.warn(\n",
      "/Users/sebastian/PycharmProjects/realtabformer-compression/venv/lib/python3.11/site-packages/realtabformer/realtabformer.py:597: UserWarning: qt_interval adjusted from 100 to 4...\n",
      "  warnings.warn(\n"
     ]
    },
    {
     "data": {
      "text/plain": "Bootstrap round:   0%|          | 0/500 [00:00<?, ?it/s]",
      "application/vnd.jupyter.widget-view+json": {
       "version_major": 2,
       "version_minor": 0,
       "model_id": "08285390c9b84a4e8b2e28610da6c98a"
      }
     },
     "metadata": {},
     "output_type": "display_data"
    },
    {
     "name": "stdout",
     "output_type": "stream",
     "text": [
      "Sensitivity threshold summary:\n",
      "count    500.000000\n",
      "mean       0.004157\n",
      "std        0.012505\n",
      "min       -0.020556\n",
      "25%       -0.005000\n",
      "50%        0.002778\n",
      "75%        0.011806\n",
      "max        0.047222\n",
      "dtype: float64\n",
      "Sensitivity threshold: 0.028333333333333332 qt_max: 0.05\n"
     ]
    },
    {
     "data": {
      "text/plain": "Map:   0%|          | 0/546 [00:00<?, ? examples/s]",
      "application/vnd.jupyter.widget-view+json": {
       "version_major": 2,
       "version_minor": 0,
       "model_id": "eceb03fcf2b449958aa34753afae2256"
      }
     },
     "metadata": {},
     "output_type": "display_data"
    },
    {
     "data": {
      "text/plain": "<IPython.core.display.HTML object>",
      "text/html": "\n    <div>\n      \n      <progress value='2' max='40' style='width:300px; height:20px; vertical-align: middle;'></progress>\n      [ 2/40 : < :, Epoch 0.11/5]\n    </div>\n    <table border=\"1\" class=\"dataframe\">\n  <thead>\n <tr style=\"text-align: left;\">\n      <th>Step</th>\n      <th>Training Loss</th>\n    </tr>\n  </thead>\n  <tbody>\n  </tbody>\n</table><p>"
     },
     "metadata": {},
     "output_type": "display_data"
    },
    {
     "data": {
      "text/plain": "  0%|          | 0/270 [00:00<?, ?it/s]",
      "application/vnd.jupyter.widget-view+json": {
       "version_major": 2,
       "version_minor": 0,
       "model_id": "4b3dbc059ec847eeb7ec3f6d12b196fb"
      }
     },
     "metadata": {},
     "output_type": "display_data"
    },
    {
     "name": "stdout",
     "output_type": "stream",
     "text": [
      "Generated 0 invalid samples out of total 384 samples generated. Sampling efficiency is: 100.0000%\n",
      "Critic round: 5,                     sensitivity_threshold: 0.028333333333333332,                         val_sensitivity: -0.013703703703703708,                             val_sensitivities: [-0.02277777777777778, -0.0038888888888888888, -0.01611111111111111, -0.01611111111111111, -0.003333333333333334, -0.021666666666666667, -0.02388888888888889, -0.01388888888888889, -0.019444444444444445, -0.02277777777777778, 0.012777777777777779, -0.017222222222222222, -0.021666666666666667, -0.0016666666666666679, -0.01388888888888889]\n"
     ]
    },
    {
     "data": {
      "text/plain": "<IPython.core.display.HTML object>",
      "text/html": "\n    <div>\n      \n      <progress value='42' max='80' style='width:300px; height:20px; vertical-align: middle;'></progress>\n      [42/80 : < :, Epoch 5.11/10]\n    </div>\n    <table border=\"1\" class=\"dataframe\">\n  <thead>\n <tr style=\"text-align: left;\">\n      <th>Step</th>\n      <th>Training Loss</th>\n    </tr>\n  </thead>\n  <tbody>\n  </tbody>\n</table><p>"
     },
     "metadata": {},
     "output_type": "display_data"
    },
    {
     "data": {
      "text/plain": "  0%|          | 0/270 [00:00<?, ?it/s]",
      "application/vnd.jupyter.widget-view+json": {
       "version_major": 2,
       "version_minor": 0,
       "model_id": "9f96ffa4480c4f9cbe457d2c2d9fd18c"
      }
     },
     "metadata": {},
     "output_type": "display_data"
    },
    {
     "name": "stdout",
     "output_type": "stream",
     "text": [
      "Generated 0 invalid samples out of total 384 samples generated. Sampling efficiency is: 100.0000%\n",
      "Critic round: 10,                     sensitivity_threshold: 0.028333333333333332,                         val_sensitivity: -0.013555555555555559,                             val_sensitivities: [-0.02388888888888889, -0.0033333333333333322, -0.019444444444444445, -0.017222222222222222, -0.005000000000000001, -0.019444444444444445, -0.021666666666666667, -0.010555555555555556, -0.017777777777777778, -0.022222222222222223, 0.016111111111111114, -0.020555555555555556, -0.021666666666666667, 0.0027777777777777775, -0.019444444444444445]\n"
     ]
    },
    {
     "data": {
      "text/plain": "<IPython.core.display.HTML object>",
      "text/html": "\n    <div>\n      \n      <progress value='82' max='120' style='width:300px; height:20px; vertical-align: middle;'></progress>\n      [ 82/120 : < :, Epoch 10.11/15]\n    </div>\n    <table border=\"1\" class=\"dataframe\">\n  <thead>\n <tr style=\"text-align: left;\">\n      <th>Step</th>\n      <th>Training Loss</th>\n    </tr>\n  </thead>\n  <tbody>\n  </tbody>\n</table><p>"
     },
     "metadata": {},
     "output_type": "display_data"
    },
    {
     "data": {
      "text/plain": "  0%|          | 0/270 [00:00<?, ?it/s]",
      "application/vnd.jupyter.widget-view+json": {
       "version_major": 2,
       "version_minor": 0,
       "model_id": "81a734104dd141eea569655754111303"
      }
     },
     "metadata": {},
     "output_type": "display_data"
    },
    {
     "name": "stdout",
     "output_type": "stream",
     "text": [
      "Generated 0 invalid samples out of total 384 samples generated. Sampling efficiency is: 100.0000%\n",
      "Critic round: 15,                     sensitivity_threshold: 0.028333333333333332,                         val_sensitivity: -0.010185185185185184,                             val_sensitivities: [-0.022222222222222223, -0.0033333333333333327, -0.017222222222222222, -0.01888888888888889, -0.012222222222222223, -0.016666666666666666, -0.021111111111111112, -0.007222222222222222, -0.018333333333333333, -0.01611111111111111, 0.027777777777777776, -0.020555555555555556, -0.008333333333333333, 0.012222222222222223, -0.010555555555555556]\n"
     ]
    },
    {
     "data": {
      "text/plain": "<IPython.core.display.HTML object>",
      "text/html": "\n    <div>\n      \n      <progress value='122' max='160' style='width:300px; height:20px; vertical-align: middle;'></progress>\n      [122/160 : < :, Epoch 15.11/20]\n    </div>\n    <table border=\"1\" class=\"dataframe\">\n  <thead>\n <tr style=\"text-align: left;\">\n      <th>Step</th>\n      <th>Training Loss</th>\n    </tr>\n  </thead>\n  <tbody>\n  </tbody>\n</table><p>"
     },
     "metadata": {},
     "output_type": "display_data"
    },
    {
     "data": {
      "text/plain": "  0%|          | 0/270 [00:00<?, ?it/s]",
      "application/vnd.jupyter.widget-view+json": {
       "version_major": 2,
       "version_minor": 0,
       "model_id": "a0218cf69fbe4ef49f481469183e8dd0"
      }
     },
     "metadata": {},
     "output_type": "display_data"
    },
    {
     "name": "stdout",
     "output_type": "stream",
     "text": [
      "Generated 0 invalid samples out of total 384 samples generated. Sampling efficiency is: 100.0000%\n",
      "Critic round: 20,                     sensitivity_threshold: 0.028333333333333332,                         val_sensitivity: -0.011333333333333332,                             val_sensitivities: [-0.020555555555555556, 0.0016666666666666657, -0.018333333333333333, -0.009444444444444445, -0.012222222222222223, -0.014444444444444444, -0.02277777777777778, -0.010555555555555556, -0.017222222222222222, -0.020555555555555556, 0.012777777777777779, -0.016666666666666666, -0.012777777777777779, 0.0077777777777777776, -0.01666666666666667]\n"
     ]
    },
    {
     "data": {
      "text/plain": "<IPython.core.display.HTML object>",
      "text/html": "\n    <div>\n      \n      <progress value='162' max='200' style='width:300px; height:20px; vertical-align: middle;'></progress>\n      [162/200 : < :, Epoch 20.11/25]\n    </div>\n    <table border=\"1\" class=\"dataframe\">\n  <thead>\n <tr style=\"text-align: left;\">\n      <th>Step</th>\n      <th>Training Loss</th>\n    </tr>\n  </thead>\n  <tbody>\n  </tbody>\n</table><p>"
     },
     "metadata": {},
     "output_type": "display_data"
    },
    {
     "data": {
      "text/plain": "  0%|          | 0/270 [00:00<?, ?it/s]",
      "application/vnd.jupyter.widget-view+json": {
       "version_major": 2,
       "version_minor": 0,
       "model_id": "79332feec97845d1a37281c946c56144"
      }
     },
     "metadata": {},
     "output_type": "display_data"
    },
    {
     "name": "stdout",
     "output_type": "stream",
     "text": [
      "Generated 0 invalid samples out of total 384 samples generated. Sampling efficiency is: 100.0000%\n",
      "Critic round: 25,                     sensitivity_threshold: 0.028333333333333332,                         val_sensitivity: -0.005740740740740741,                             val_sensitivities: [-0.017222222222222222, -0.0011111111111111105, -0.011666666666666665, -0.013333333333333332, -0.008333333333333333, -0.013888888888888888, -0.017222222222222222, -0.008333333333333333, -0.013333333333333334, -0.01611111111111111, 0.042777777777777776, -0.01, -0.009444444444444445, 0.015, -0.0038888888888888888]\n"
     ]
    },
    {
     "data": {
      "text/plain": "<IPython.core.display.HTML object>",
      "text/html": "\n    <div>\n      \n      <progress value='202' max='240' style='width:300px; height:20px; vertical-align: middle;'></progress>\n      [202/240 : < :, Epoch 25.11/30]\n    </div>\n    <table border=\"1\" class=\"dataframe\">\n  <thead>\n <tr style=\"text-align: left;\">\n      <th>Step</th>\n      <th>Training Loss</th>\n    </tr>\n  </thead>\n  <tbody>\n  </tbody>\n</table><p>"
     },
     "metadata": {},
     "output_type": "display_data"
    },
    {
     "data": {
      "text/plain": "  0%|          | 0/270 [00:00<?, ?it/s]",
      "application/vnd.jupyter.widget-view+json": {
       "version_major": 2,
       "version_minor": 0,
       "model_id": "275f67f1c06c4199ad79d6cd0a293eee"
      }
     },
     "metadata": {},
     "output_type": "display_data"
    },
    {
     "name": "stdout",
     "output_type": "stream",
     "text": [
      "Generated 0 invalid samples out of total 384 samples generated. Sampling efficiency is: 100.0000%\n",
      "Critic round: 30,                     sensitivity_threshold: 0.028333333333333332,                         val_sensitivity: -0.00025925925925925937,                             val_sensitivities: [-0.015555555555555555, 0.0016666666666666653, -0.013888888888888888, -0.010555555555555556, 0.007222222222222222, -0.004444444444444445, -0.021666666666666667, 0.007222222222222222, -0.010555555555555556, -0.012777777777777779, 0.03222222222222222, 0.0016666666666666653, 0.0077777777777777776, 0.026111111111111113, 0.001666666666666666]\n"
     ]
    },
    {
     "data": {
      "text/plain": "<IPython.core.display.HTML object>",
      "text/html": "\n    <div>\n      \n      <progress value='242' max='280' style='width:300px; height:20px; vertical-align: middle;'></progress>\n      [242/280 : < :, Epoch 30.11/35]\n    </div>\n    <table border=\"1\" class=\"dataframe\">\n  <thead>\n <tr style=\"text-align: left;\">\n      <th>Step</th>\n      <th>Training Loss</th>\n    </tr>\n  </thead>\n  <tbody>\n  </tbody>\n</table><p>"
     },
     "metadata": {},
     "output_type": "display_data"
    },
    {
     "data": {
      "text/plain": "  0%|          | 0/270 [00:00<?, ?it/s]",
      "application/vnd.jupyter.widget-view+json": {
       "version_major": 2,
       "version_minor": 0,
       "model_id": "64dbf988167e45589042d1c4817e15a5"
      }
     },
     "metadata": {},
     "output_type": "display_data"
    },
    {
     "name": "stdout",
     "output_type": "stream",
     "text": [
      "Generated 0 invalid samples out of total 384 samples generated. Sampling efficiency is: 100.0000%\n",
      "Critic round: 35,                     sensitivity_threshold: 0.028333333333333332,                         val_sensitivity: 0.007962962962962965,                             val_sensitivities: [-0.015, 0.0027777777777777766, -0.013333333333333332, -0.006666666666666667, -0.000555555555555555, 0.009444444444444445, -0.011111111111111112, 0.01777777777777778, 0.0005555555555555544, -0.004444444444444444, 0.06277777777777778, 0.012222222222222223, 0.012777777777777779, 0.043333333333333335, 0.008888888888888889]\n"
     ]
    },
    {
     "data": {
      "text/plain": "<IPython.core.display.HTML object>",
      "text/html": "\n    <div>\n      \n      <progress value='282' max='320' style='width:300px; height:20px; vertical-align: middle;'></progress>\n      [282/320 : < :, Epoch 35.11/40]\n    </div>\n    <table border=\"1\" class=\"dataframe\">\n  <thead>\n <tr style=\"text-align: left;\">\n      <th>Step</th>\n      <th>Training Loss</th>\n    </tr>\n  </thead>\n  <tbody>\n  </tbody>\n</table><p>"
     },
     "metadata": {},
     "output_type": "display_data"
    },
    {
     "data": {
      "text/plain": "  0%|          | 0/270 [00:00<?, ?it/s]",
      "application/vnd.jupyter.widget-view+json": {
       "version_major": 2,
       "version_minor": 0,
       "model_id": "e50c3cc2d0294b67ae149911ab294986"
      }
     },
     "metadata": {},
     "output_type": "display_data"
    },
    {
     "name": "stdout",
     "output_type": "stream",
     "text": [
      "Generated 0 invalid samples out of total 384 samples generated. Sampling efficiency is: 100.0000%\n",
      "Critic round: 40,                     sensitivity_threshold: 0.028333333333333332,                         val_sensitivity: 0.010925925925925926,                             val_sensitivities: [-0.004999999999999999, 0.009999999999999998, 0.0011111111111111122, 0.006111111111111112, 0.012777777777777777, 0.030555555555555555, -0.0061111111111111106, 0.03166666666666667, 0.01888888888888889, 0.008333333333333333, 0.04166666666666667, -0.0027777777777777783, -0.005555555555555556, 0.029444444444444447, -0.007222222222222222]\n"
     ]
    },
    {
     "data": {
      "text/plain": "<IPython.core.display.HTML object>",
      "text/html": "\n    <div>\n      \n      <progress value='322' max='360' style='width:300px; height:20px; vertical-align: middle;'></progress>\n      [322/360 : < :, Epoch 40.11/45]\n    </div>\n    <table border=\"1\" class=\"dataframe\">\n  <thead>\n <tr style=\"text-align: left;\">\n      <th>Step</th>\n      <th>Training Loss</th>\n    </tr>\n  </thead>\n  <tbody>\n  </tbody>\n</table><p>"
     },
     "metadata": {},
     "output_type": "display_data"
    },
    {
     "data": {
      "text/plain": "  0%|          | 0/270 [00:00<?, ?it/s]",
      "application/vnd.jupyter.widget-view+json": {
       "version_major": 2,
       "version_minor": 0,
       "model_id": "ea1d565a82ab4ec780fc9f0c2ce61a12"
      }
     },
     "metadata": {},
     "output_type": "display_data"
    },
    {
     "name": "stdout",
     "output_type": "stream",
     "text": [
      "Generated 0 invalid samples out of total 384 samples generated. Sampling efficiency is: 100.0000%\n",
      "Critic round: 45,                     sensitivity_threshold: 0.028333333333333332,                         val_sensitivity: 0.00848148148148148,                             val_sensitivities: [-0.020555555555555556, 0.01388888888888889, -0.0044444444444444444, -0.010555555555555556, 0.005555555555555555, 0.015, -0.01611111111111111, 0.028333333333333332, 0.011111111111111112, 0.007777777777777778, 0.03944444444444444, 0.0077777777777777776, 0.0077777777777777776, 0.04, 0.0022222222222222214]\n"
     ]
    },
    {
     "data": {
      "text/plain": "<IPython.core.display.HTML object>",
      "text/html": "\n    <div>\n      \n      <progress value='362' max='400' style='width:300px; height:20px; vertical-align: middle;'></progress>\n      [362/400 : < :, Epoch 45.11/50]\n    </div>\n    <table border=\"1\" class=\"dataframe\">\n  <thead>\n <tr style=\"text-align: left;\">\n      <th>Step</th>\n      <th>Training Loss</th>\n    </tr>\n  </thead>\n  <tbody>\n  </tbody>\n</table><p>"
     },
     "metadata": {},
     "output_type": "display_data"
    },
    {
     "data": {
      "text/plain": "  0%|          | 0/270 [00:00<?, ?it/s]",
      "application/vnd.jupyter.widget-view+json": {
       "version_major": 2,
       "version_minor": 0,
       "model_id": "cfa1779799a44778b3861edf8bc18519"
      }
     },
     "metadata": {},
     "output_type": "display_data"
    },
    {
     "name": "stdout",
     "output_type": "stream",
     "text": [
      "Generated 0 invalid samples out of total 384 samples generated. Sampling efficiency is: 100.0000%\n",
      "Critic round: 50,                     sensitivity_threshold: 0.028333333333333332,                         val_sensitivity: 0.008925925925925926,                             val_sensitivities: [-0.013333333333333332, 0.021111111111111112, -0.008333333333333333, -0.0005555555555555554, 0.012777777777777779, 0.007222222222222223, -0.009444444444444445, 0.017222222222222222, 0.008888888888888887, 0.0033333333333333322, 0.06, -0.0077777777777777776, 0.011111111111111112, 0.028333333333333332, 0.003333333333333334]\n"
     ]
    },
    {
     "data": {
      "text/plain": "<IPython.core.display.HTML object>",
      "text/html": "\n    <div>\n      \n      <progress value='402' max='440' style='width:300px; height:20px; vertical-align: middle;'></progress>\n      [402/440 : < :, Epoch 50.11/55]\n    </div>\n    <table border=\"1\" class=\"dataframe\">\n  <thead>\n <tr style=\"text-align: left;\">\n      <th>Step</th>\n      <th>Training Loss</th>\n    </tr>\n  </thead>\n  <tbody>\n  </tbody>\n</table><p>"
     },
     "metadata": {},
     "output_type": "display_data"
    },
    {
     "data": {
      "text/plain": "  0%|          | 0/270 [00:00<?, ?it/s]",
      "application/vnd.jupyter.widget-view+json": {
       "version_major": 2,
       "version_minor": 0,
       "model_id": "a5a2cc93264148b5bc0bf903a3d2c0f9"
      }
     },
     "metadata": {},
     "output_type": "display_data"
    },
    {
     "name": "stdout",
     "output_type": "stream",
     "text": [
      "Generated 0 invalid samples out of total 384 samples generated. Sampling efficiency is: 100.0000%\n",
      "Critic round: 55,                     sensitivity_threshold: 0.028333333333333332,                         val_sensitivity: 0.02511111111111111,                             val_sensitivities: [-0.01611111111111111, 0.03666666666666667, 0.0, 0.006666666666666666, 0.014444444444444446, 0.04111111111111111, 0.0011111111111111115, 0.05, 0.02888888888888889, 0.025, 0.06722222222222222, 0.016666666666666666, 0.02722222222222222, 0.05, 0.027777777777777776]\n"
     ]
    },
    {
     "data": {
      "text/plain": "<IPython.core.display.HTML object>",
      "text/html": "\n    <div>\n      \n      <progress value='442' max='480' style='width:300px; height:20px; vertical-align: middle;'></progress>\n      [442/480 : < :, Epoch 55.11/60]\n    </div>\n    <table border=\"1\" class=\"dataframe\">\n  <thead>\n <tr style=\"text-align: left;\">\n      <th>Step</th>\n      <th>Training Loss</th>\n    </tr>\n  </thead>\n  <tbody>\n  </tbody>\n</table><p>"
     },
     "metadata": {},
     "output_type": "display_data"
    },
    {
     "data": {
      "text/plain": "  0%|          | 0/270 [00:00<?, ?it/s]",
      "application/vnd.jupyter.widget-view+json": {
       "version_major": 2,
       "version_minor": 0,
       "model_id": "df32b337e8344b88a82d4f7329c3d27d"
      }
     },
     "metadata": {},
     "output_type": "display_data"
    },
    {
     "name": "stdout",
     "output_type": "stream",
     "text": [
      "Generated 0 invalid samples out of total 384 samples generated. Sampling efficiency is: 100.0000%\n",
      "Saving not-best model...\n",
      "Critic round: 60,                     sensitivity_threshold: 0.028333333333333332,                         val_sensitivity: 0.02907407407407407,                             val_sensitivities: [0.004444444444444444, 0.052777777777777785, 0.018333333333333333, 0.019444444444444445, 0.03833333333333333, 0.04, 0.009444444444444445, 0.058333333333333334, 0.02888888888888889, 0.023333333333333334, 0.05666666666666666, 0.013333333333333334, 0.013333333333333332, 0.042777777777777776, 0.01666666666666667]\n"
     ]
    },
    {
     "data": {
      "text/plain": "<IPython.core.display.HTML object>",
      "text/html": "\n    <div>\n      \n      <progress value='482' max='520' style='width:300px; height:20px; vertical-align: middle;'></progress>\n      [482/520 : < :, Epoch 60.11/65]\n    </div>\n    <table border=\"1\" class=\"dataframe\">\n  <thead>\n <tr style=\"text-align: left;\">\n      <th>Step</th>\n      <th>Training Loss</th>\n    </tr>\n  </thead>\n  <tbody>\n  </tbody>\n</table><p>"
     },
     "metadata": {},
     "output_type": "display_data"
    },
    {
     "data": {
      "text/plain": "  0%|          | 0/270 [00:00<?, ?it/s]",
      "application/vnd.jupyter.widget-view+json": {
       "version_major": 2,
       "version_minor": 0,
       "model_id": "572c30a968674d05aff7fea57a6a14a2"
      }
     },
     "metadata": {},
     "output_type": "display_data"
    },
    {
     "name": "stdout",
     "output_type": "stream",
     "text": [
      "Generated 0 invalid samples out of total 384 samples generated. Sampling efficiency is: 100.0000%\n",
      "Critic round: 65,                     sensitivity_threshold: 0.028333333333333332,                         val_sensitivity: 0.04222222222222223,                             val_sensitivities: [0.004999999999999999, 0.02611111111111111, 0.02277777777777778, 0.019999999999999997, 0.034999999999999996, 0.04166666666666667, 0.01388888888888889, 0.05333333333333333, 0.03277777777777778, 0.018333333333333333, 0.12833333333333335, 0.03944444444444445, 0.05444444444444445, 0.09888888888888889, 0.043333333333333335]\n",
      "Stopping training, no improvement in critic...\n",
      "Model: regular_model_full\n",
      "System Memory Usage: -328.23 MB\n",
      "Python Current Memory: 1.09 MB\n",
      "Python Peak Memory: 4.51 MB\n",
      "Copying artefacts from: best-disc-model\n",
      "Copying artefacts from: mean-best-disc-model\n",
      "Copying artefacts from: not-best-disc-model\n",
      "Copying artefacts from: last-epoch-model\n",
      "           Model     Time (s)  Memory Current (MB)  Memory Peak (MB)  Layers  \\\n",
      "0    small_model   566.675813            42.637881         47.304494       4   \n",
      "1  regular_model  1790.282550             1.735398          2.291640       6   \n",
      "2    large_model  4983.763235             1.624654          2.558731      12   \n",
      "\n",
      "   Heads  Embedding Dim  DS Size  System Memory Usage (MB)  \n",
      "0      8            512      273                         0  \n",
      "1     12            768      273                         0  \n",
      "2     12            768      273                         0  \n"
     ]
    }
   ],
   "source": [
    "config_small = GPT2Config(\n",
    "    n_embd=512,\n",
    "    n_layer=4,\n",
    "    n_head=8\n",
    ")\n",
    "\n",
    "rtf_model_small = REaLTabFormer(\n",
    "    model_type=\"tabular\",\n",
    "    tabular_config=config_small,\n",
    "    batch_size=16,\n",
    "    epochs=75,\n",
    "    mask_rate=0.1,\n",
    ")\n",
    "\n",
    "rtf_model_reg = REaLTabFormer(\n",
    "    model_type=\"tabular\",\n",
    "    batch_size=16,\n",
    "    epochs=75,\n",
    "    mask_rate=0.1,\n",
    ")\n",
    "\n",
    "# rtf_model_large = REaLTabFormer(\n",
    "#     model_type=\"tabular\",\n",
    "#     tabular_config=config_large,\n",
    "#     batch_size=16,\n",
    "#     epochs=75,\n",
    "#     mask_rate=0.3,\n",
    "# )\n",
    "\n",
    "# Fit models and track performance\n",
    "fit_and_track_memory(rtf_model_small, train_data, \"small_model_full\")\n",
    "fit_and_track_memory(rtf_model_reg, train_data, \"regular_model_full\")\n",
    "# fit_and_track_memory(rtf_model_large, sample_df, \"large_model\")\n",
    "\n",
    "# Display the results\n",
    "print(results)"
   ],
   "metadata": {
    "collapsed": false,
    "ExecuteTime": {
     "end_time": "2024-12-06T05:27:17.849389Z",
     "start_time": "2024-12-06T04:23:25.710606Z"
    }
   },
   "id": "6fa4346215db0123"
  },
  {
   "cell_type": "code",
   "execution_count": 57,
   "outputs": [
    {
     "data": {
      "text/plain": "                Model     Time (s)  Memory Current (MB)  Memory Peak (MB)  \\\n3  regular_model_full  2710.346546             1.090179          4.505012   \n2    small_model_full  1101.653454            23.200000         26.570000   \n\n   System Memory Usage (MB)  \n3               -328.234375  \n2               -104.240000  ",
      "text/html": "<div>\n<style scoped>\n    .dataframe tbody tr th:only-of-type {\n        vertical-align: middle;\n    }\n\n    .dataframe tbody tr th {\n        vertical-align: top;\n    }\n\n    .dataframe thead th {\n        text-align: right;\n    }\n</style>\n<table border=\"1\" class=\"dataframe\">\n  <thead>\n    <tr style=\"text-align: right;\">\n      <th></th>\n      <th>Model</th>\n      <th>Time (s)</th>\n      <th>Memory Current (MB)</th>\n      <th>Memory Peak (MB)</th>\n      <th>System Memory Usage (MB)</th>\n    </tr>\n  </thead>\n  <tbody>\n    <tr>\n      <th>3</th>\n      <td>regular_model_full</td>\n      <td>2710.346546</td>\n      <td>1.090179</td>\n      <td>4.505012</td>\n      <td>-328.234375</td>\n    </tr>\n    <tr>\n      <th>2</th>\n      <td>small_model_full</td>\n      <td>1101.653454</td>\n      <td>23.200000</td>\n      <td>26.570000</td>\n      <td>-104.240000</td>\n    </tr>\n  </tbody>\n</table>\n</div>"
     },
     "execution_count": 57,
     "metadata": {},
     "output_type": "execute_result"
    }
   ],
   "source": [
    "new_results.loc[2] = ['small_model_full',1101.653454,23.20,26.57,-104.24]\n",
    "new_results"
   ],
   "metadata": {
    "collapsed": false,
    "ExecuteTime": {
     "end_time": "2024-12-06T16:56:30.119623Z",
     "start_time": "2024-12-06T16:56:30.074196Z"
    }
   },
   "id": "23a34f8389ec0411"
  },
  {
   "cell_type": "code",
   "execution_count": null,
   "outputs": [],
   "source": [
    "2710.346546"
   ],
   "metadata": {
    "collapsed": false
   },
   "id": "68de9685fae5a1fe"
  },
  {
   "cell_type": "code",
   "execution_count": 16,
   "outputs": [
    {
     "data": {
      "text/plain": "           Model     Time (s)  Layers  Heads  Embedding Dim  DS Size\n0    small_model   566.675813       4      8            512      273\n1  regular_model  1790.282550       6     12            768      273\n2    large_model  4983.763235      12     12            768      273",
      "text/html": "<div>\n<style scoped>\n    .dataframe tbody tr th:only-of-type {\n        vertical-align: middle;\n    }\n\n    .dataframe tbody tr th {\n        vertical-align: top;\n    }\n\n    .dataframe thead th {\n        text-align: right;\n    }\n</style>\n<table border=\"1\" class=\"dataframe\">\n  <thead>\n    <tr style=\"text-align: right;\">\n      <th></th>\n      <th>Model</th>\n      <th>Time (s)</th>\n      <th>Layers</th>\n      <th>Heads</th>\n      <th>Embedding Dim</th>\n      <th>DS Size</th>\n    </tr>\n  </thead>\n  <tbody>\n    <tr>\n      <th>0</th>\n      <td>small_model</td>\n      <td>566.675813</td>\n      <td>4</td>\n      <td>8</td>\n      <td>512</td>\n      <td>273</td>\n    </tr>\n    <tr>\n      <th>1</th>\n      <td>regular_model</td>\n      <td>1790.282550</td>\n      <td>6</td>\n      <td>12</td>\n      <td>768</td>\n      <td>273</td>\n    </tr>\n    <tr>\n      <th>2</th>\n      <td>large_model</td>\n      <td>4983.763235</td>\n      <td>12</td>\n      <td>12</td>\n      <td>768</td>\n      <td>273</td>\n    </tr>\n  </tbody>\n</table>\n</div>"
     },
     "execution_count": 16,
     "metadata": {},
     "output_type": "execute_result"
    }
   ],
   "source": [
    "layers = [4,6,12]\n",
    "heads = [8,12,12]\n",
    "n_embd = [512,768,768]\n",
    "train_length = [len(sample_df),len(sample_df),len(sample_df)]\n",
    "\n",
    "results['Layers'] = layers\n",
    "results['Heads'] = heads\n",
    "results['Embedding Dim'] = n_embd\n",
    "results['DS Size'] = train_length\n",
    "\n",
    "\n",
    "good_results = results[['Model','Time (s)','Layers','Heads','Embedding Dim','DS Size']]\n",
    "good_results"
   ],
   "metadata": {
    "collapsed": false,
    "ExecuteTime": {
     "end_time": "2024-12-06T03:21:47.453298Z",
     "start_time": "2024-12-06T03:21:47.416439Z"
    }
   },
   "id": "ed6d7e6de2f90289"
  },
  {
   "cell_type": "code",
   "execution_count": 18,
   "outputs": [],
   "source": [
    "good_results.to_csv('logs.csv')"
   ],
   "metadata": {
    "collapsed": false,
    "ExecuteTime": {
     "end_time": "2024-12-06T03:22:53.584944Z",
     "start_time": "2024-12-06T03:22:53.569112Z"
    }
   },
   "id": "a8bf747d7fed849a"
  },
  {
   "cell_type": "code",
   "execution_count": null,
   "outputs": [],
   "source": [],
   "metadata": {
    "collapsed": false
   },
   "id": "996ae79b5052648a"
  }
 ],
 "metadata": {
  "kernelspec": {
   "display_name": "Python 3",
   "language": "python",
   "name": "python3"
  },
  "language_info": {
   "codemirror_mode": {
    "name": "ipython",
    "version": 2
   },
   "file_extension": ".py",
   "mimetype": "text/x-python",
   "name": "python",
   "nbconvert_exporter": "python",
   "pygments_lexer": "ipython2",
   "version": "2.7.6"
  }
 },
 "nbformat": 4,
 "nbformat_minor": 5
}
