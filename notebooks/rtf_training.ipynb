{
 "cells": [
  {
   "cell_type": "code",
   "execution_count": 5,
   "outputs": [],
   "source": [
    "# @title Import Libraries\n",
    "import pandas as pd\n",
    "import time\n",
    "from realtabformer import REaLTabFormer\n",
    "from transformers import GPT2Config\n",
    "from src.data_processing import csv_data_split"
   ],
   "metadata": {
    "collapsed": false,
    "ExecuteTime": {
     "end_time": "2025-01-28T20:17:48.230699Z",
     "start_time": "2025-01-28T20:17:48.226732Z"
    }
   },
   "id": "ef12a17b7a6eb356"
  },
  {
   "cell_type": "code",
   "execution_count": 6,
   "outputs": [
    {
     "data": {
      "text/plain": "          ID  CT  UCSi  UCSh  Madh  SECS  BN  BC  NN  Mi  Class\n198  1017061   1     1     1     1     0   1   3   1   1      0\n359   501111   5     1     1     0     0   1   0   1   1      0\n481  1181567   1     1     1     1     1   1   1   1   1      0\n125  1177007   3     1     1     1     0   1   3   1   1      0\n598  1016631   0     3     1     1     0   1   0   1   1      0\n..       ...  ..   ...   ...   ...   ...  ..  ..  ..  ..    ...\n485  1001565   6     1     1     1     0   1   3   1   1      0\n260   301107  10     8     8     0     3   1   8   7   8      1\n364   657753   3     1     1     1     3   1   0   0   1      0\n623  1077790   5     1     1     3     0   1   1   1   1      0\n508   670113   7     5     6    10     1  10   5   3   1      1\n\n[546 rows x 11 columns]",
      "text/html": "<div>\n<style scoped>\n    .dataframe tbody tr th:only-of-type {\n        vertical-align: middle;\n    }\n\n    .dataframe tbody tr th {\n        vertical-align: top;\n    }\n\n    .dataframe thead th {\n        text-align: right;\n    }\n</style>\n<table border=\"1\" class=\"dataframe\">\n  <thead>\n    <tr style=\"text-align: right;\">\n      <th></th>\n      <th>ID</th>\n      <th>CT</th>\n      <th>UCSi</th>\n      <th>UCSh</th>\n      <th>Madh</th>\n      <th>SECS</th>\n      <th>BN</th>\n      <th>BC</th>\n      <th>NN</th>\n      <th>Mi</th>\n      <th>Class</th>\n    </tr>\n  </thead>\n  <tbody>\n    <tr>\n      <th>198</th>\n      <td>1017061</td>\n      <td>1</td>\n      <td>1</td>\n      <td>1</td>\n      <td>1</td>\n      <td>0</td>\n      <td>1</td>\n      <td>3</td>\n      <td>1</td>\n      <td>1</td>\n      <td>0</td>\n    </tr>\n    <tr>\n      <th>359</th>\n      <td>501111</td>\n      <td>5</td>\n      <td>1</td>\n      <td>1</td>\n      <td>0</td>\n      <td>0</td>\n      <td>1</td>\n      <td>0</td>\n      <td>1</td>\n      <td>1</td>\n      <td>0</td>\n    </tr>\n    <tr>\n      <th>481</th>\n      <td>1181567</td>\n      <td>1</td>\n      <td>1</td>\n      <td>1</td>\n      <td>1</td>\n      <td>1</td>\n      <td>1</td>\n      <td>1</td>\n      <td>1</td>\n      <td>1</td>\n      <td>0</td>\n    </tr>\n    <tr>\n      <th>125</th>\n      <td>1177007</td>\n      <td>3</td>\n      <td>1</td>\n      <td>1</td>\n      <td>1</td>\n      <td>0</td>\n      <td>1</td>\n      <td>3</td>\n      <td>1</td>\n      <td>1</td>\n      <td>0</td>\n    </tr>\n    <tr>\n      <th>598</th>\n      <td>1016631</td>\n      <td>0</td>\n      <td>3</td>\n      <td>1</td>\n      <td>1</td>\n      <td>0</td>\n      <td>1</td>\n      <td>0</td>\n      <td>1</td>\n      <td>1</td>\n      <td>0</td>\n    </tr>\n    <tr>\n      <th>...</th>\n      <td>...</td>\n      <td>...</td>\n      <td>...</td>\n      <td>...</td>\n      <td>...</td>\n      <td>...</td>\n      <td>...</td>\n      <td>...</td>\n      <td>...</td>\n      <td>...</td>\n      <td>...</td>\n    </tr>\n    <tr>\n      <th>485</th>\n      <td>1001565</td>\n      <td>6</td>\n      <td>1</td>\n      <td>1</td>\n      <td>1</td>\n      <td>0</td>\n      <td>1</td>\n      <td>3</td>\n      <td>1</td>\n      <td>1</td>\n      <td>0</td>\n    </tr>\n    <tr>\n      <th>260</th>\n      <td>301107</td>\n      <td>10</td>\n      <td>8</td>\n      <td>8</td>\n      <td>0</td>\n      <td>3</td>\n      <td>1</td>\n      <td>8</td>\n      <td>7</td>\n      <td>8</td>\n      <td>1</td>\n    </tr>\n    <tr>\n      <th>364</th>\n      <td>657753</td>\n      <td>3</td>\n      <td>1</td>\n      <td>1</td>\n      <td>1</td>\n      <td>3</td>\n      <td>1</td>\n      <td>0</td>\n      <td>0</td>\n      <td>1</td>\n      <td>0</td>\n    </tr>\n    <tr>\n      <th>623</th>\n      <td>1077790</td>\n      <td>5</td>\n      <td>1</td>\n      <td>1</td>\n      <td>3</td>\n      <td>0</td>\n      <td>1</td>\n      <td>1</td>\n      <td>1</td>\n      <td>1</td>\n      <td>0</td>\n    </tr>\n    <tr>\n      <th>508</th>\n      <td>670113</td>\n      <td>7</td>\n      <td>5</td>\n      <td>6</td>\n      <td>10</td>\n      <td>1</td>\n      <td>10</td>\n      <td>5</td>\n      <td>3</td>\n      <td>1</td>\n      <td>1</td>\n    </tr>\n  </tbody>\n</table>\n<p>546 rows × 11 columns</p>\n</div>"
     },
     "execution_count": 6,
     "metadata": {},
     "output_type": "execute_result"
    }
   ],
   "source": [
    "# Splits the data into train test and sample\n",
    "train_data, test_data, sample_data = csv_data_split(\"../data/breast-cancer-wisconsin.csv\")\n",
    "train_data"
   ],
   "metadata": {
    "collapsed": false,
    "ExecuteTime": {
     "end_time": "2025-01-28T20:17:48.305315Z",
     "start_time": "2025-01-28T20:17:48.234220Z"
    }
   },
   "id": "6390e044f616349b"
  },
  {
   "cell_type": "code",
   "execution_count": 7,
   "outputs": [],
   "source": [
    "# Keeps track of the time taken to train the model\n",
    "results = pd.DataFrame(columns=[\"Model\", \"Time (s)\"])"
   ],
   "metadata": {
    "collapsed": false,
    "ExecuteTime": {
     "end_time": "2025-01-28T20:17:48.317817Z",
     "start_time": "2025-01-28T20:17:48.307758Z"
    }
   },
   "id": "5a18486f95592fba"
  },
  {
   "cell_type": "code",
   "execution_count": 8,
   "outputs": [],
   "source": [
    "# function to train the models\n",
    "def fit_and_track(model, data, model_name):\n",
    "    start_time = time.time()\n",
    "\n",
    "    model.fit(data,num_bootstrap=20,target_col=\"Class\")\n",
    "\n",
    "    end_time = time.time()\n",
    "    elapsed_time = end_time - start_time\n",
    "\n",
    "\n",
    "    print(f\"Model: {model_name}\")\n",
    "\n",
    "\n",
    "    results.loc[len(results)] = [\n",
    "        model_name,\n",
    "        elapsed_time\n",
    "    ]\n",
    "\n",
    "    model.save(f\"../models/{model_name}\")"
   ],
   "metadata": {
    "collapsed": false,
    "ExecuteTime": {
     "end_time": "2025-01-28T20:17:48.353111Z",
     "start_time": "2025-01-28T20:17:48.317633Z"
    }
   },
   "id": "c003a42401956129"
  },
  {
   "cell_type": "code",
   "execution_count": 9,
   "outputs": [
    {
     "name": "stderr",
     "output_type": "stream",
     "text": [
      "/Users/sebastian/PycharmProjects/model-compression/venv/lib/python3.11/site-packages/realtabformer/realtabformer.py:288: UserWarning: The `bos_token_id`, `eos_token_id`, and `vocab_size` attributes will                     be replaced when the `.fit` method is run.\n",
      "  warnings.warn(\n"
     ]
    }
   ],
   "source": [
    "#Small configuration\n",
    "config_small = GPT2Config(\n",
    "    n_embd=512,\n",
    "    n_layer=4,\n",
    "    n_head=8\n",
    ")\n",
    "rtf_model_small = REaLTabFormer(\n",
    "    model_type=\"tabular\",\n",
    "    tabular_config=config_small,\n",
    "    epochs=50,\n",
    "    batch_size=8,\n",
    "    mask_rate=0.15\n",
    ")\n",
    "\n",
    "#Large configuration \n",
    "config_large = GPT2Config()\n",
    "rtf_model_large = REaLTabFormer(\n",
    "    model_type=\"tabular\",\n",
    "    tabular_config=config_large,\n",
    "    epochs=50,\n",
    "    batch_size=8,\n",
    "    mask_rate=0.15\n",
    ")\n",
    "\n",
    "# Regular configuration\n",
    "rtf_model_reg = REaLTabFormer(\n",
    "    model_type=\"tabular\",\n",
    "    epochs=50,\n",
    "    batch_size=8,\n",
    "    mask_rate=0.15\n",
    ")\n",
    "\n",
    "\n",
    "# Fit models and track performance\n",
    "# fit_and_track(rtf_model_small, train_data, \"rtf_small_test\")\n",
    "# fit_and_track(rtf_model_reg, train_data, \"rtf_regular\")\n",
    "# fit_and_track(rtf_model_large, train_data, \"rtf_large\")\n"
   ],
   "metadata": {
    "collapsed": false,
    "ExecuteTime": {
     "end_time": "2025-01-28T20:17:48.354261Z",
     "start_time": "2025-01-28T20:17:48.333306Z"
    }
   },
   "id": "6fa4346215db0123"
  },
  {
   "cell_type": "code",
   "execution_count": 9,
   "outputs": [],
   "source": [],
   "metadata": {
    "collapsed": false,
    "ExecuteTime": {
     "end_time": "2025-01-28T20:17:48.354613Z",
     "start_time": "2025-01-28T20:17:48.340520Z"
    }
   },
   "id": "b82bd9ec4f14a989"
  }
 ],
 "metadata": {
  "kernelspec": {
   "display_name": "Python 3",
   "language": "python",
   "name": "python3"
  },
  "language_info": {
   "codemirror_mode": {
    "name": "ipython",
    "version": 2
   },
   "file_extension": ".py",
   "mimetype": "text/x-python",
   "name": "python",
   "nbconvert_exporter": "python",
   "pygments_lexer": "ipython2",
   "version": "2.7.6"
  }
 },
 "nbformat": 4,
 "nbformat_minor": 5
}
