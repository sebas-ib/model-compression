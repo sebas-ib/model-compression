{
 "cells": [
  {
   "cell_type": "code",
   "execution_count": 1,
   "outputs": [],
   "source": [
    "# @title Import Libraries\n",
    "import pandas as pd\n",
    "import time\n",
    "from realtabformer import REaLTabFormer\n",
    "from transformers import GPT2Config\n",
    "from src.data_processing import csv_data_split"
   ],
   "metadata": {
    "collapsed": false,
    "ExecuteTime": {
     "end_time": "2024-12-18T04:25:14.791584Z",
     "start_time": "2024-12-18T04:25:08.588027Z"
    }
   },
   "id": "ef12a17b7a6eb356"
  },
  {
   "cell_type": "code",
   "execution_count": 2,
   "outputs": [
    {
     "data": {
      "text/plain": "          ID  CT  UCSi  UCSh  Madh  SECS  BN  BC  NN  Mi  Class\n198  1017061   1     1     1     1     0   1   3   1   1      0\n359   501111   5     1     1     0     0   1   0   1   1      0\n481  1181567   1     1     1     1     1   1   1   1   1      0\n125  1177007   3     1     1     1     0   1   3   1   1      0\n598  1016631   0     3     1     1     0   1   0   1   1      0\n..       ...  ..   ...   ...   ...   ...  ..  ..  ..  ..    ...\n485  1001565   6     1     1     1     0   1   3   1   1      0\n260   301107  10     8     8     0     3   1   8   7   8      1\n364   657753   3     1     1     1     3   1   0   0   1      0\n623  1077790   5     1     1     3     0   1   1   1   1      0\n508   670113   7     5     6    10     1  10   5   3   1      1\n\n[546 rows x 11 columns]",
      "text/html": "<div>\n<style scoped>\n    .dataframe tbody tr th:only-of-type {\n        vertical-align: middle;\n    }\n\n    .dataframe tbody tr th {\n        vertical-align: top;\n    }\n\n    .dataframe thead th {\n        text-align: right;\n    }\n</style>\n<table border=\"1\" class=\"dataframe\">\n  <thead>\n    <tr style=\"text-align: right;\">\n      <th></th>\n      <th>ID</th>\n      <th>CT</th>\n      <th>UCSi</th>\n      <th>UCSh</th>\n      <th>Madh</th>\n      <th>SECS</th>\n      <th>BN</th>\n      <th>BC</th>\n      <th>NN</th>\n      <th>Mi</th>\n      <th>Class</th>\n    </tr>\n  </thead>\n  <tbody>\n    <tr>\n      <th>198</th>\n      <td>1017061</td>\n      <td>1</td>\n      <td>1</td>\n      <td>1</td>\n      <td>1</td>\n      <td>0</td>\n      <td>1</td>\n      <td>3</td>\n      <td>1</td>\n      <td>1</td>\n      <td>0</td>\n    </tr>\n    <tr>\n      <th>359</th>\n      <td>501111</td>\n      <td>5</td>\n      <td>1</td>\n      <td>1</td>\n      <td>0</td>\n      <td>0</td>\n      <td>1</td>\n      <td>0</td>\n      <td>1</td>\n      <td>1</td>\n      <td>0</td>\n    </tr>\n    <tr>\n      <th>481</th>\n      <td>1181567</td>\n      <td>1</td>\n      <td>1</td>\n      <td>1</td>\n      <td>1</td>\n      <td>1</td>\n      <td>1</td>\n      <td>1</td>\n      <td>1</td>\n      <td>1</td>\n      <td>0</td>\n    </tr>\n    <tr>\n      <th>125</th>\n      <td>1177007</td>\n      <td>3</td>\n      <td>1</td>\n      <td>1</td>\n      <td>1</td>\n      <td>0</td>\n      <td>1</td>\n      <td>3</td>\n      <td>1</td>\n      <td>1</td>\n      <td>0</td>\n    </tr>\n    <tr>\n      <th>598</th>\n      <td>1016631</td>\n      <td>0</td>\n      <td>3</td>\n      <td>1</td>\n      <td>1</td>\n      <td>0</td>\n      <td>1</td>\n      <td>0</td>\n      <td>1</td>\n      <td>1</td>\n      <td>0</td>\n    </tr>\n    <tr>\n      <th>...</th>\n      <td>...</td>\n      <td>...</td>\n      <td>...</td>\n      <td>...</td>\n      <td>...</td>\n      <td>...</td>\n      <td>...</td>\n      <td>...</td>\n      <td>...</td>\n      <td>...</td>\n      <td>...</td>\n    </tr>\n    <tr>\n      <th>485</th>\n      <td>1001565</td>\n      <td>6</td>\n      <td>1</td>\n      <td>1</td>\n      <td>1</td>\n      <td>0</td>\n      <td>1</td>\n      <td>3</td>\n      <td>1</td>\n      <td>1</td>\n      <td>0</td>\n    </tr>\n    <tr>\n      <th>260</th>\n      <td>301107</td>\n      <td>10</td>\n      <td>8</td>\n      <td>8</td>\n      <td>0</td>\n      <td>3</td>\n      <td>1</td>\n      <td>8</td>\n      <td>7</td>\n      <td>8</td>\n      <td>1</td>\n    </tr>\n    <tr>\n      <th>364</th>\n      <td>657753</td>\n      <td>3</td>\n      <td>1</td>\n      <td>1</td>\n      <td>1</td>\n      <td>3</td>\n      <td>1</td>\n      <td>0</td>\n      <td>0</td>\n      <td>1</td>\n      <td>0</td>\n    </tr>\n    <tr>\n      <th>623</th>\n      <td>1077790</td>\n      <td>5</td>\n      <td>1</td>\n      <td>1</td>\n      <td>3</td>\n      <td>0</td>\n      <td>1</td>\n      <td>1</td>\n      <td>1</td>\n      <td>1</td>\n      <td>0</td>\n    </tr>\n    <tr>\n      <th>508</th>\n      <td>670113</td>\n      <td>7</td>\n      <td>5</td>\n      <td>6</td>\n      <td>10</td>\n      <td>1</td>\n      <td>10</td>\n      <td>5</td>\n      <td>3</td>\n      <td>1</td>\n      <td>1</td>\n    </tr>\n  </tbody>\n</table>\n<p>546 rows × 11 columns</p>\n</div>"
     },
     "execution_count": 2,
     "metadata": {},
     "output_type": "execute_result"
    }
   ],
   "source": [
    "train_data, test_data, sample_data = csv_data_split(\"../data/breast-cancer-wisconsin.csv\")\n",
    "train_data"
   ],
   "metadata": {
    "collapsed": false,
    "ExecuteTime": {
     "end_time": "2024-12-18T04:17:20.366959Z",
     "start_time": "2024-12-18T04:17:20.332132Z"
    }
   },
   "id": "6390e044f616349b"
  },
  {
   "cell_type": "code",
   "execution_count": 3,
   "outputs": [
    {
     "data": {
      "text/plain": "Empty DataFrame\nColumns: [Model, Time (s)]\nIndex: []",
      "text/html": "<div>\n<style scoped>\n    .dataframe tbody tr th:only-of-type {\n        vertical-align: middle;\n    }\n\n    .dataframe tbody tr th {\n        vertical-align: top;\n    }\n\n    .dataframe thead th {\n        text-align: right;\n    }\n</style>\n<table border=\"1\" class=\"dataframe\">\n  <thead>\n    <tr style=\"text-align: right;\">\n      <th></th>\n      <th>Model</th>\n      <th>Time (s)</th>\n    </tr>\n  </thead>\n  <tbody>\n  </tbody>\n</table>\n</div>"
     },
     "execution_count": 3,
     "metadata": {},
     "output_type": "execute_result"
    }
   ],
   "source": [
    "results = pd.DataFrame(columns=[\"Model\", \"Time (s)\"])\n",
    "results"
   ],
   "metadata": {
    "collapsed": false,
    "ExecuteTime": {
     "end_time": "2024-12-18T04:17:20.382870Z",
     "start_time": "2024-12-18T04:17:20.374567Z"
    }
   },
   "id": "5a18486f95592fba"
  },
  {
   "cell_type": "code",
   "execution_count": 19,
   "outputs": [],
   "source": [
    "def fit_and_track(model, data, model_name):\n",
    "    start_time = time.time()\n",
    "\n",
    "    model.fit(data,num_bootstrap=20,target_col=\"Class\")\n",
    "\n",
    "    end_time = time.time()\n",
    "    elapsed_time = end_time - start_time\n",
    "\n",
    "\n",
    "    print(f\"Model: {model_name}\")\n",
    "\n",
    "\n",
    "    results.loc[len(results)] = [\n",
    "        model_name,\n",
    "        elapsed_time\n",
    "    ]\n",
    "\n",
    "    model.save(f\"../models/{model_name}\")"
   ],
   "metadata": {
    "collapsed": false,
    "ExecuteTime": {
     "end_time": "2024-12-18T04:06:29.295244Z",
     "start_time": "2024-12-18T04:06:29.216512Z"
    }
   },
   "id": "c003a42401956129"
  },
  {
   "cell_type": "code",
   "execution_count": 20,
   "outputs": [
    {
     "name": "stderr",
     "output_type": "stream",
     "text": [
      "/Users/sebastian/PycharmProjects/model-compression/venv/lib/python3.11/site-packages/realtabformer/realtabformer.py:288: UserWarning: The `bos_token_id`, `eos_token_id`, and `vocab_size` attributes will                     be replaced when the `.fit` method is run.\n",
      "  warnings.warn(\n"
     ]
    }
   ],
   "source": [
    "config_small = GPT2Config(\n",
    "    n_embd=512,\n",
    "    n_layer=4,\n",
    "    n_head=8\n",
    ")\n",
    "\n",
    "rtf_model_small = REaLTabFormer(\n",
    "    model_type=\"tabular\",\n",
    "    tabular_config=config_small,\n",
    "    epochs=50,\n",
    "    batch_size=8,\n",
    "    mask_rate=0.1\n",
    ")\n",
    "\n",
    "rtf_model_reg = REaLTabFormer(\n",
    "    model_type=\"tabular\",\n",
    "    epochs=50,\n",
    "    batch_size=8,\n",
    "    mask_rate=0.1\n",
    ")\n",
    "\n",
    "rtf_model_large = REaLTabFormer(\n",
    "    model_type=\"tabular\",\n",
    "    tabular_config=config_large,\n",
    "    epochs=50,\n",
    "    mask_rate=0.15\n",
    ")\n",
    "\n",
    "# Fit models and track performance\n",
    "# fit_and_track(rtf_model_small, train_data, \"rtf_small_test\")\n",
    "# fit_and_track(rtf_model_reg, train_data, \"rtf_regular\")\n",
    "# fit_and_track(rtf_model_large, train_data, \"rtf_large\")\n",
    "\n",
    "\n",
    "# Display the results\n",
    "# results"
   ],
   "metadata": {
    "collapsed": false,
    "ExecuteTime": {
     "end_time": "2024-12-18T04:06:30.962059Z",
     "start_time": "2024-12-18T04:06:30.947842Z"
    }
   },
   "id": "6fa4346215db0123"
  },
  {
   "cell_type": "code",
   "execution_count": 21,
   "outputs": [
    {
     "name": "stderr",
     "output_type": "stream",
     "text": [
      "/Users/sebastian/PycharmProjects/model-compression/venv/lib/python3.11/site-packages/realtabformer/realtabformer.py:288: UserWarning: The `bos_token_id`, `eos_token_id`, and `vocab_size` attributes will                     be replaced when the `.fit` method is run.\n",
      "  warnings.warn(\n"
     ]
    }
   ],
   "source": [
    "rtf = REaLTabFormer(\n",
    "    model_type=\"tabular\",\n",
    "    tabular_config=config_small,\n",
    "    epochs=1,\n",
    "    mask_rate=0.15\n",
    ")"
   ],
   "metadata": {
    "collapsed": false,
    "ExecuteTime": {
     "end_time": "2024-12-18T04:06:32.333161Z",
     "start_time": "2024-12-18T04:06:32.321917Z"
    }
   },
   "id": "70f9ed6d248b6898"
  },
  {
   "cell_type": "code",
   "execution_count": 22,
   "outputs": [
    {
     "name": "stdout",
     "output_type": "stream",
     "text": [
      "Computing the sensitivity threshold...\n",
      "Using parallel computation!!!\n"
     ]
    },
    {
     "name": "stderr",
     "output_type": "stream",
     "text": [
      "/Users/sebastian/PycharmProjects/model-compression/venv/lib/python3.11/site-packages/realtabformer/realtabformer.py:77: UserWarning: The device=cuda is not available, using device=cpu instead.\n",
      "  warnings.warn(\n",
      "/Users/sebastian/PycharmProjects/model-compression/venv/lib/python3.11/site-packages/realtabformer/realtabformer.py:597: UserWarning: qt_interval adjusted from 100 to 2...\n",
      "  warnings.warn(\n"
     ]
    },
    {
     "data": {
      "text/plain": "Bootstrap round:   0%|          | 0/1 [00:00<?, ?it/s]",
      "application/vnd.jupyter.widget-view+json": {
       "version_major": 2,
       "version_minor": 0,
       "model_id": "2c9bbcbc2c4e4276b8b5d51bb1dcb294"
      }
     },
     "metadata": {},
     "output_type": "display_data"
    },
    {
     "name": "stdout",
     "output_type": "stream",
     "text": [
      "Sensitivity threshold summary:\n",
      "count    1.000000\n",
      "mean    -0.000556\n",
      "std           NaN\n",
      "min     -0.000556\n",
      "25%     -0.000556\n",
      "50%     -0.000556\n",
      "75%     -0.000556\n",
      "max     -0.000556\n",
      "dtype: float64\n",
      "Sensitivity threshold: -0.0005555555555555565 qt_max: 0.05\n"
     ]
    },
    {
     "data": {
      "text/plain": "Map:   0%|          | 0/273 [00:00<?, ? examples/s]",
      "application/vnd.jupyter.widget-view+json": {
       "version_major": 2,
       "version_minor": 0,
       "model_id": "4d3382d97efd444899dcc5c5e26c57ee"
      }
     },
     "metadata": {},
     "output_type": "display_data"
    },
    {
     "data": {
      "text/plain": "<IPython.core.display.HTML object>",
      "text/html": "\n    <div>\n      \n      <progress value='2' max='8' style='width:300px; height:20px; vertical-align: middle;'></progress>\n      [2/8 : < :, Epoch 0.11/1]\n    </div>\n    <table border=\"1\" class=\"dataframe\">\n  <thead>\n <tr style=\"text-align: left;\">\n      <th>Step</th>\n      <th>Training Loss</th>\n    </tr>\n  </thead>\n  <tbody>\n  </tbody>\n</table><p>"
     },
     "metadata": {},
     "output_type": "display_data"
    },
    {
     "data": {
      "text/plain": "  0%|          | 0/135 [00:00<?, ?it/s]",
      "application/vnd.jupyter.widget-view+json": {
       "version_major": 2,
       "version_minor": 0,
       "model_id": "99c0339febbe4f9fbbf5697be81f6c7f"
      }
     },
     "metadata": {},
     "output_type": "display_data"
    },
    {
     "name": "stdout",
     "output_type": "stream",
     "text": [
      "Generated 0 invalid samples out of total 256 samples generated. Sampling efficiency is: 100.0000%\n",
      "Critic round: 5,                     sensitivity_threshold: -0.0005555555555555565,                         val_sensitivity: -0.020407407407407412,                             val_sensitivities: [-0.01611111111111111, -0.025, -0.025, -0.025, -0.025, -0.025, -0.01611111111111111, -0.025, -0.025, -0.011666666666666667, -0.018333333333333333, -0.025, -0.025, 0.001666666666666667, -0.020555555555555556]\n"
     ]
    },
    {
     "data": {
      "text/plain": "<realtabformer.rtf_trainer.ResumableTrainer at 0x12cdb1ad0>"
     },
     "execution_count": 22,
     "metadata": {},
     "output_type": "execute_result"
    }
   ],
   "source": [
    "rtf.fit(sample_data,num_bootstrap=1)"
   ],
   "metadata": {
    "collapsed": false,
    "ExecuteTime": {
     "end_time": "2024-12-18T04:07:01.951114Z",
     "start_time": "2024-12-18T04:06:34.808316Z"
    }
   },
   "id": "703a58c2a4feaa46"
  },
  {
   "cell_type": "code",
   "execution_count": 23,
   "outputs": [
    {
     "name": "stdout",
     "output_type": "stream",
     "text": [
      "Copying artefacts from: best-disc-model\n",
      "Copying artefacts from: mean-best-disc-model\n",
      "Copying artefacts from: not-best-disc-model\n",
      "Copying artefacts from: last-epoch-model\n"
     ]
    }
   ],
   "source": [
    "rtf.save(\"maybe/\")"
   ],
   "metadata": {
    "collapsed": false,
    "ExecuteTime": {
     "end_time": "2024-12-18T04:07:02.783031Z",
     "start_time": "2024-12-18T04:07:01.949632Z"
    }
   },
   "id": "7b6707724a912739"
  },
  {
   "cell_type": "code",
   "execution_count": 25,
   "outputs": [
    {
     "name": "stdout",
     "output_type": "stream",
     "text": [
      "Layer 0 has 4 attention heads.\n",
      "Layer 1 has 4 attention heads.\n",
      "Layer 2 has 4 attention heads.\n",
      "Layer 3 has 4 attention heads.\n"
     ]
    }
   ],
   "source": [
    "for i, block in enumerate(rtf.model.transformer.h):\n",
    "    num_heads = block.attn.num_heads\n",
    "    print(f\"Layer {i} has {num_heads} attention heads.\")"
   ],
   "metadata": {
    "collapsed": false,
    "ExecuteTime": {
     "end_time": "2024-12-18T04:07:49.294936Z",
     "start_time": "2024-12-18T04:07:49.278955Z"
    }
   },
   "id": "fa5281ba6e58afed"
  },
  {
   "cell_type": "code",
   "execution_count": 27,
   "outputs": [
    {
     "name": "stdout",
     "output_type": "stream",
     "text": [
      "transformer.wte.weight torch.Size([154, 512])\n",
      "transformer.wpe.weight torch.Size([1024, 512])\n",
      "transformer.h.0.attn.c_attn.weight torch.Size([512, 1536])\n",
      "transformer.h.0.attn.c_proj.weight torch.Size([512, 512])\n",
      "transformer.h.0.mlp.c_fc.weight torch.Size([512, 2048])\n",
      "transformer.h.0.mlp.c_proj.weight torch.Size([2048, 512])\n",
      "transformer.h.1.attn.c_attn.weight torch.Size([512, 1536])\n",
      "transformer.h.1.attn.c_proj.weight torch.Size([512, 512])\n",
      "transformer.h.1.mlp.c_fc.weight torch.Size([512, 2048])\n",
      "transformer.h.1.mlp.c_proj.weight torch.Size([2048, 512])\n",
      "transformer.h.2.attn.c_attn.weight torch.Size([512, 1536])\n",
      "transformer.h.2.attn.c_proj.weight torch.Size([512, 512])\n",
      "transformer.h.2.mlp.c_fc.weight torch.Size([512, 2048])\n",
      "transformer.h.2.mlp.c_proj.weight torch.Size([2048, 512])\n",
      "transformer.h.3.attn.c_attn.weight torch.Size([512, 1536])\n",
      "transformer.h.3.attn.c_proj.weight torch.Size([512, 512])\n",
      "transformer.h.3.mlp.c_fc.weight torch.Size([512, 2048])\n",
      "transformer.h.3.mlp.c_proj.weight torch.Size([2048, 512])\n"
     ]
    }
   ],
   "source": [
    "def print_tensor(model):\n",
    "    for name, param in model.named_parameters():\n",
    "        if param.dim() == 2:\n",
    "            print(name,param.size())\n",
    "print_tensor(rtf.model)"
   ],
   "metadata": {
    "collapsed": false,
    "ExecuteTime": {
     "end_time": "2024-12-18T04:12:01.171221Z",
     "start_time": "2024-12-18T04:12:01.164183Z"
    }
   },
   "id": "4a283d4dc3f7b361"
  },
  {
   "cell_type": "code",
   "execution_count": 28,
   "outputs": [
    {
     "data": {
      "text/plain": "3.0"
     },
     "execution_count": 28,
     "metadata": {},
     "output_type": "execute_result"
    }
   ],
   "source": [
    "1536/512"
   ],
   "metadata": {
    "collapsed": false,
    "ExecuteTime": {
     "end_time": "2024-12-18T04:12:29.920539Z",
     "start_time": "2024-12-18T04:12:29.883326Z"
    }
   },
   "id": "f83a566d84a0f708"
  },
  {
   "cell_type": "code",
   "execution_count": null,
   "outputs": [],
   "source": [],
   "metadata": {
    "collapsed": false
   },
   "id": "3e8b669da1f6892e"
  }
 ],
 "metadata": {
  "kernelspec": {
   "display_name": "Python 3",
   "language": "python",
   "name": "python3"
  },
  "language_info": {
   "codemirror_mode": {
    "name": "ipython",
    "version": 2
   },
   "file_extension": ".py",
   "mimetype": "text/x-python",
   "name": "python",
   "nbconvert_exporter": "python",
   "pygments_lexer": "ipython2",
   "version": "2.7.6"
  }
 },
 "nbformat": 4,
 "nbformat_minor": 5
}
