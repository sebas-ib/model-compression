{
 "cells": [
  {
   "cell_type": "code",
   "execution_count": 1,
   "outputs": [],
   "source": [
    "# @title Import Libraries\n",
    "import pandas as pd\n",
    "import time\n",
    "from realtabformer import REaLTabFormer\n",
    "from transformers import GPT2Config\n",
    "from src.data_processing import csv_data_split"
   ],
   "metadata": {
    "collapsed": false,
    "ExecuteTime": {
     "end_time": "2024-12-15T18:07:03.152371Z",
     "start_time": "2024-12-15T18:06:56.342389Z"
    }
   },
   "id": "ef12a17b7a6eb356"
  },
  {
   "cell_type": "code",
   "execution_count": 2,
   "outputs": [
    {
     "data": {
      "text/plain": "          ID  CT  UCSi  UCSh  Madh  SECS  BN  BC  NN  Mi  Class\n198  1017061   1     1     1     1     0   1   3   1   1      0\n359   501111   5     1     1     0     0   1   0   1   1      0\n481  1181567   1     1     1     1     1   1   1   1   1      0\n125  1177007   3     1     1     1     0   1   3   1   1      0\n598  1016631   0     3     1     1     0   1   0   1   1      0\n..       ...  ..   ...   ...   ...   ...  ..  ..  ..  ..    ...\n485  1001565   6     1     1     1     0   1   3   1   1      0\n260   301107  10     8     8     0     3   1   8   7   8      1\n364   657753   3     1     1     1     3   1   0   0   1      0\n623  1077790   5     1     1     3     0   1   1   1   1      0\n508   670113   7     5     6    10     1  10   5   3   1      1\n\n[546 rows x 11 columns]",
      "text/html": "<div>\n<style scoped>\n    .dataframe tbody tr th:only-of-type {\n        vertical-align: middle;\n    }\n\n    .dataframe tbody tr th {\n        vertical-align: top;\n    }\n\n    .dataframe thead th {\n        text-align: right;\n    }\n</style>\n<table border=\"1\" class=\"dataframe\">\n  <thead>\n    <tr style=\"text-align: right;\">\n      <th></th>\n      <th>ID</th>\n      <th>CT</th>\n      <th>UCSi</th>\n      <th>UCSh</th>\n      <th>Madh</th>\n      <th>SECS</th>\n      <th>BN</th>\n      <th>BC</th>\n      <th>NN</th>\n      <th>Mi</th>\n      <th>Class</th>\n    </tr>\n  </thead>\n  <tbody>\n    <tr>\n      <th>198</th>\n      <td>1017061</td>\n      <td>1</td>\n      <td>1</td>\n      <td>1</td>\n      <td>1</td>\n      <td>0</td>\n      <td>1</td>\n      <td>3</td>\n      <td>1</td>\n      <td>1</td>\n      <td>0</td>\n    </tr>\n    <tr>\n      <th>359</th>\n      <td>501111</td>\n      <td>5</td>\n      <td>1</td>\n      <td>1</td>\n      <td>0</td>\n      <td>0</td>\n      <td>1</td>\n      <td>0</td>\n      <td>1</td>\n      <td>1</td>\n      <td>0</td>\n    </tr>\n    <tr>\n      <th>481</th>\n      <td>1181567</td>\n      <td>1</td>\n      <td>1</td>\n      <td>1</td>\n      <td>1</td>\n      <td>1</td>\n      <td>1</td>\n      <td>1</td>\n      <td>1</td>\n      <td>1</td>\n      <td>0</td>\n    </tr>\n    <tr>\n      <th>125</th>\n      <td>1177007</td>\n      <td>3</td>\n      <td>1</td>\n      <td>1</td>\n      <td>1</td>\n      <td>0</td>\n      <td>1</td>\n      <td>3</td>\n      <td>1</td>\n      <td>1</td>\n      <td>0</td>\n    </tr>\n    <tr>\n      <th>598</th>\n      <td>1016631</td>\n      <td>0</td>\n      <td>3</td>\n      <td>1</td>\n      <td>1</td>\n      <td>0</td>\n      <td>1</td>\n      <td>0</td>\n      <td>1</td>\n      <td>1</td>\n      <td>0</td>\n    </tr>\n    <tr>\n      <th>...</th>\n      <td>...</td>\n      <td>...</td>\n      <td>...</td>\n      <td>...</td>\n      <td>...</td>\n      <td>...</td>\n      <td>...</td>\n      <td>...</td>\n      <td>...</td>\n      <td>...</td>\n      <td>...</td>\n    </tr>\n    <tr>\n      <th>485</th>\n      <td>1001565</td>\n      <td>6</td>\n      <td>1</td>\n      <td>1</td>\n      <td>1</td>\n      <td>0</td>\n      <td>1</td>\n      <td>3</td>\n      <td>1</td>\n      <td>1</td>\n      <td>0</td>\n    </tr>\n    <tr>\n      <th>260</th>\n      <td>301107</td>\n      <td>10</td>\n      <td>8</td>\n      <td>8</td>\n      <td>0</td>\n      <td>3</td>\n      <td>1</td>\n      <td>8</td>\n      <td>7</td>\n      <td>8</td>\n      <td>1</td>\n    </tr>\n    <tr>\n      <th>364</th>\n      <td>657753</td>\n      <td>3</td>\n      <td>1</td>\n      <td>1</td>\n      <td>1</td>\n      <td>3</td>\n      <td>1</td>\n      <td>0</td>\n      <td>0</td>\n      <td>1</td>\n      <td>0</td>\n    </tr>\n    <tr>\n      <th>623</th>\n      <td>1077790</td>\n      <td>5</td>\n      <td>1</td>\n      <td>1</td>\n      <td>3</td>\n      <td>0</td>\n      <td>1</td>\n      <td>1</td>\n      <td>1</td>\n      <td>1</td>\n      <td>0</td>\n    </tr>\n    <tr>\n      <th>508</th>\n      <td>670113</td>\n      <td>7</td>\n      <td>5</td>\n      <td>6</td>\n      <td>10</td>\n      <td>1</td>\n      <td>10</td>\n      <td>5</td>\n      <td>3</td>\n      <td>1</td>\n      <td>1</td>\n    </tr>\n  </tbody>\n</table>\n<p>546 rows × 11 columns</p>\n</div>"
     },
     "execution_count": 2,
     "metadata": {},
     "output_type": "execute_result"
    }
   ],
   "source": [
    "train_data, test_data, sample_data = csv_data_split(\"../data/breast-cancer-wisconsin.csv\")\n",
    "train_data"
   ],
   "metadata": {
    "collapsed": false,
    "ExecuteTime": {
     "end_time": "2024-12-15T18:07:03.192270Z",
     "start_time": "2024-12-15T18:07:03.155746Z"
    }
   },
   "id": "6390e044f616349b"
  },
  {
   "cell_type": "code",
   "execution_count": 3,
   "outputs": [
    {
     "data": {
      "text/plain": "Empty DataFrame\nColumns: [Model, Time (s)]\nIndex: []",
      "text/html": "<div>\n<style scoped>\n    .dataframe tbody tr th:only-of-type {\n        vertical-align: middle;\n    }\n\n    .dataframe tbody tr th {\n        vertical-align: top;\n    }\n\n    .dataframe thead th {\n        text-align: right;\n    }\n</style>\n<table border=\"1\" class=\"dataframe\">\n  <thead>\n    <tr style=\"text-align: right;\">\n      <th></th>\n      <th>Model</th>\n      <th>Time (s)</th>\n    </tr>\n  </thead>\n  <tbody>\n  </tbody>\n</table>\n</div>"
     },
     "execution_count": 3,
     "metadata": {},
     "output_type": "execute_result"
    }
   ],
   "source": [
    "results = pd.DataFrame(columns=[\"Model\", \"Time (s)\"])\n",
    "results"
   ],
   "metadata": {
    "collapsed": false,
    "ExecuteTime": {
     "end_time": "2024-12-15T18:07:03.203972Z",
     "start_time": "2024-12-15T18:07:03.194968Z"
    }
   },
   "id": "5a18486f95592fba"
  },
  {
   "cell_type": "code",
   "execution_count": 4,
   "outputs": [],
   "source": [
    "def fit_and_track(model, data, model_name):\n",
    "    start_time = time.time()\n",
    "\n",
    "    model.fit(data,num_bootstrap=20,target_col=\"Class\")\n",
    "\n",
    "    end_time = time.time()\n",
    "    elapsed_time = end_time - start_time\n",
    "\n",
    "\n",
    "    print(f\"Model: {model_name}\")\n",
    "\n",
    "\n",
    "    results.loc[len(results)] = [\n",
    "        model_name,\n",
    "        elapsed_time\n",
    "    ]\n",
    "\n",
    "    model.save(f\"../models/{model_name}\")"
   ],
   "metadata": {
    "collapsed": false,
    "ExecuteTime": {
     "end_time": "2024-12-15T18:07:03.238267Z",
     "start_time": "2024-12-15T18:07:03.206759Z"
    }
   },
   "id": "c003a42401956129"
  },
  {
   "cell_type": "code",
   "execution_count": 5,
   "outputs": [
    {
     "name": "stdout",
     "output_type": "stream",
     "text": [
      "Computing the sensitivity threshold...\n",
      "Using parallel computation!!!\n"
     ]
    },
    {
     "name": "stderr",
     "output_type": "stream",
     "text": [
      "/Users/sebastian/PycharmProjects/model-compression/venv/lib/python3.11/site-packages/realtabformer/realtabformer.py:288: UserWarning: The `bos_token_id`, `eos_token_id`, and `vocab_size` attributes will                     be replaced when the `.fit` method is run.\n",
      "  warnings.warn(\n",
      "/Users/sebastian/PycharmProjects/model-compression/venv/lib/python3.11/site-packages/realtabformer/realtabformer.py:77: UserWarning: The device=cuda is not available, using device=cpu instead.\n",
      "  warnings.warn(\n",
      "/Users/sebastian/PycharmProjects/model-compression/venv/lib/python3.11/site-packages/realtabformer/realtabformer.py:597: UserWarning: qt_interval adjusted from 100 to 4...\n",
      "  warnings.warn(\n"
     ]
    },
    {
     "data": {
      "text/plain": "Bootstrap round:   0%|          | 0/20 [00:00<?, ?it/s]",
      "application/vnd.jupyter.widget-view+json": {
       "version_major": 2,
       "version_minor": 0,
       "model_id": "74590ccb0d3c4b8db41a49c731e7b49e"
      }
     },
     "metadata": {},
     "output_type": "display_data"
    },
    {
     "name": "stdout",
     "output_type": "stream",
     "text": [
      "Sensitivity threshold summary:\n",
      "count    20.000000\n",
      "mean     -0.001361\n",
      "std       0.011289\n",
      "min      -0.018333\n",
      "25%      -0.009722\n",
      "50%      -0.001111\n",
      "75%       0.006806\n",
      "max       0.022222\n",
      "dtype: float64\n",
      "Sensitivity threshold: 0.014833333333333339 qt_max: 0.05\n"
     ]
    },
    {
     "data": {
      "text/plain": "Map:   0%|          | 0/546 [00:00<?, ? examples/s]",
      "application/vnd.jupyter.widget-view+json": {
       "version_major": 2,
       "version_minor": 0,
       "model_id": "b07c0b418b9249b9a4804fe9c012f463"
      }
     },
     "metadata": {},
     "output_type": "display_data"
    },
    {
     "data": {
      "text/plain": "<IPython.core.display.HTML object>",
      "text/html": "\n    <div>\n      \n      <progress value='2' max='85' style='width:300px; height:20px; vertical-align: middle;'></progress>\n      [ 2/85 : < :, Epoch 0.06/5]\n    </div>\n    <table border=\"1\" class=\"dataframe\">\n  <thead>\n <tr style=\"text-align: left;\">\n      <th>Step</th>\n      <th>Training Loss</th>\n    </tr>\n  </thead>\n  <tbody>\n  </tbody>\n</table><p>"
     },
     "metadata": {},
     "output_type": "display_data"
    },
    {
     "data": {
      "text/plain": "  0%|          | 0/270 [00:00<?, ?it/s]",
      "application/vnd.jupyter.widget-view+json": {
       "version_major": 2,
       "version_minor": 0,
       "model_id": "7465ec16366c4dbcb60cb958cb8cc0a6"
      }
     },
     "metadata": {},
     "output_type": "display_data"
    },
    {
     "name": "stdout",
     "output_type": "stream",
     "text": [
      "Generated 0 invalid samples out of total 384 samples generated. Sampling efficiency is: 100.0000%\n",
      "Critic round: 5,                     sensitivity_threshold: 0.014833333333333339,                         val_sensitivity: -0.015481481481481478,                             val_sensitivities: [-0.01666666666666667, -0.02388888888888889, -0.019444444444444445, -0.016666666666666666, -0.005555555555555556, -0.025, -0.020555555555555556, -0.005000000000000001, -0.011666666666666667, -0.011111111111111112, -0.005, -0.015, -0.020555555555555556, -0.016666666666666666, -0.019444444444444445]\n"
     ]
    },
    {
     "data": {
      "text/plain": "<IPython.core.display.HTML object>",
      "text/html": "\n    <div>\n      \n      <progress value='87' max='170' style='width:300px; height:20px; vertical-align: middle;'></progress>\n      [ 87/170 : < :, Epoch 5.06/10]\n    </div>\n    <table border=\"1\" class=\"dataframe\">\n  <thead>\n <tr style=\"text-align: left;\">\n      <th>Step</th>\n      <th>Training Loss</th>\n    </tr>\n  </thead>\n  <tbody>\n  </tbody>\n</table><p>"
     },
     "metadata": {},
     "output_type": "display_data"
    },
    {
     "data": {
      "text/plain": "  0%|          | 0/270 [00:00<?, ?it/s]",
      "application/vnd.jupyter.widget-view+json": {
       "version_major": 2,
       "version_minor": 0,
       "model_id": "fc9c22cb692344e187bfb4aef50d6896"
      }
     },
     "metadata": {},
     "output_type": "display_data"
    },
    {
     "name": "stdout",
     "output_type": "stream",
     "text": [
      "Generated 0 invalid samples out of total 384 samples generated. Sampling efficiency is: 100.0000%\n",
      "Critic round: 10,                     sensitivity_threshold: 0.014833333333333339,                         val_sensitivity: -0.017370370370370373,                             val_sensitivities: [-0.018333333333333333, -0.018333333333333333, -0.01611111111111111, -0.021666666666666667, -0.015, -0.02388888888888889, -0.020555555555555556, -0.007777777777777779, -0.015000000000000001, -0.015555555555555557, -0.0022222222222222235, -0.02388888888888889, -0.01777777777777778, -0.021666666666666667, -0.02277777777777778]\n"
     ]
    },
    {
     "data": {
      "text/plain": "<IPython.core.display.HTML object>",
      "text/html": "\n    <div>\n      \n      <progress value='172' max='255' style='width:300px; height:20px; vertical-align: middle;'></progress>\n      [172/255 : < :, Epoch 10.06/15]\n    </div>\n    <table border=\"1\" class=\"dataframe\">\n  <thead>\n <tr style=\"text-align: left;\">\n      <th>Step</th>\n      <th>Training Loss</th>\n    </tr>\n  </thead>\n  <tbody>\n  </tbody>\n</table><p>"
     },
     "metadata": {},
     "output_type": "display_data"
    },
    {
     "data": {
      "text/plain": "  0%|          | 0/270 [00:00<?, ?it/s]",
      "application/vnd.jupyter.widget-view+json": {
       "version_major": 2,
       "version_minor": 0,
       "model_id": "580ad954ba12427db1fb96360b08e406"
      }
     },
     "metadata": {},
     "output_type": "display_data"
    },
    {
     "name": "stdout",
     "output_type": "stream",
     "text": [
      "Generated 0 invalid samples out of total 384 samples generated. Sampling efficiency is: 100.0000%\n",
      "Critic round: 15,                     sensitivity_threshold: 0.014833333333333339,                         val_sensitivity: -0.007407407407407408,                             val_sensitivities: [-0.012777777777777779, -0.018333333333333333, -0.012222222222222223, -0.01611111111111111, -0.0027777777777777783, -0.017222222222222222, -0.01, 0.01888888888888889, 0.008333333333333333, 0.01611111111111111, 0.006666666666666666, -0.017222222222222222, -0.01666666666666667, -0.017777777777777778, -0.02]\n"
     ]
    },
    {
     "data": {
      "text/plain": "<IPython.core.display.HTML object>",
      "text/html": "\n    <div>\n      \n      <progress value='257' max='340' style='width:300px; height:20px; vertical-align: middle;'></progress>\n      [257/340 : < :, Epoch 15.06/20]\n    </div>\n    <table border=\"1\" class=\"dataframe\">\n  <thead>\n <tr style=\"text-align: left;\">\n      <th>Step</th>\n      <th>Training Loss</th>\n    </tr>\n  </thead>\n  <tbody>\n  </tbody>\n</table><p>"
     },
     "metadata": {},
     "output_type": "display_data"
    },
    {
     "data": {
      "text/plain": "  0%|          | 0/270 [00:00<?, ?it/s]",
      "application/vnd.jupyter.widget-view+json": {
       "version_major": 2,
       "version_minor": 0,
       "model_id": "b20847e528844fb191cc3b06b18cbb13"
      }
     },
     "metadata": {},
     "output_type": "display_data"
    },
    {
     "name": "stdout",
     "output_type": "stream",
     "text": [
      "Generated 0 invalid samples out of total 384 samples generated. Sampling efficiency is: 100.0000%\n",
      "Critic round: 20,                     sensitivity_threshold: 0.014833333333333339,                         val_sensitivity: -0.015148148148148145,                             val_sensitivities: [-0.011666666666666667, -0.02388888888888889, -0.014444444444444446, -0.014444444444444446, 0.007222222222222221, -0.02388888888888889, -0.02, -0.004444444444444445, -0.009444444444444445, -0.014444444444444446, -0.003333333333333333, -0.025, -0.020555555555555556, -0.02388888888888889, -0.025]\n"
     ]
    },
    {
     "data": {
      "text/plain": "<IPython.core.display.HTML object>",
      "text/html": "\n    <div>\n      \n      <progress value='342' max='425' style='width:300px; height:20px; vertical-align: middle;'></progress>\n      [342/425 : < :, Epoch 20.06/25]\n    </div>\n    <table border=\"1\" class=\"dataframe\">\n  <thead>\n <tr style=\"text-align: left;\">\n      <th>Step</th>\n      <th>Training Loss</th>\n    </tr>\n  </thead>\n  <tbody>\n  </tbody>\n</table><p>"
     },
     "metadata": {},
     "output_type": "display_data"
    },
    {
     "data": {
      "text/plain": "  0%|          | 0/270 [00:00<?, ?it/s]",
      "application/vnd.jupyter.widget-view+json": {
       "version_major": 2,
       "version_minor": 0,
       "model_id": "215576b0d90349389edeaf4a6d9b9024"
      }
     },
     "metadata": {},
     "output_type": "display_data"
    },
    {
     "name": "stdout",
     "output_type": "stream",
     "text": [
      "Generated 0 invalid samples out of total 384 samples generated. Sampling efficiency is: 100.0000%\n",
      "Critic round: 25,                     sensitivity_threshold: 0.014833333333333339,                         val_sensitivity: -0.014111111111111112,                             val_sensitivities: [-0.01388888888888889, -0.020555555555555556, -0.021111111111111112, -0.015555555555555555, -0.015, -0.02277777777777778, -0.013333333333333334, -0.006111111111111111, -0.0011111111111111118, 0.0022222222222222214, -0.005555555555555556, -0.020555555555555556, -0.019444444444444445, -0.020555555555555556, -0.018333333333333333]\n"
     ]
    },
    {
     "data": {
      "text/plain": "<IPython.core.display.HTML object>",
      "text/html": "\n    <div>\n      \n      <progress value='427' max='510' style='width:300px; height:20px; vertical-align: middle;'></progress>\n      [427/510 : < :, Epoch 25.06/30]\n    </div>\n    <table border=\"1\" class=\"dataframe\">\n  <thead>\n <tr style=\"text-align: left;\">\n      <th>Step</th>\n      <th>Training Loss</th>\n    </tr>\n  </thead>\n  <tbody>\n  </tbody>\n</table><p>"
     },
     "metadata": {},
     "output_type": "display_data"
    },
    {
     "data": {
      "text/plain": "  0%|          | 0/270 [00:00<?, ?it/s]",
      "application/vnd.jupyter.widget-view+json": {
       "version_major": 2,
       "version_minor": 0,
       "model_id": "6ea0fe53040145abb34feb0dc54613d6"
      }
     },
     "metadata": {},
     "output_type": "display_data"
    },
    {
     "name": "stdout",
     "output_type": "stream",
     "text": [
      "Generated 0 invalid samples out of total 384 samples generated. Sampling efficiency is: 100.0000%\n",
      "Critic round: 30,                     sensitivity_threshold: 0.014833333333333339,                         val_sensitivity: -0.005296296296296296,                             val_sensitivities: [-0.011111111111111112, -0.018333333333333333, -0.011111111111111112, -0.011111111111111112, 0.009444444444444445, -0.02277777777777778, -0.008333333333333333, 0.011111111111111112, 0.0022222222222222227, 0.0061111111111111106, 0.02, -0.006666666666666668, -0.012222222222222223, -0.014444444444444444, -0.012222222222222221]\n"
     ]
    },
    {
     "data": {
      "text/plain": "<IPython.core.display.HTML object>",
      "text/html": "\n    <div>\n      \n      <progress value='512' max='595' style='width:300px; height:20px; vertical-align: middle;'></progress>\n      [512/595 : < :, Epoch 30.06/35]\n    </div>\n    <table border=\"1\" class=\"dataframe\">\n  <thead>\n <tr style=\"text-align: left;\">\n      <th>Step</th>\n      <th>Training Loss</th>\n    </tr>\n  </thead>\n  <tbody>\n  </tbody>\n</table><p>"
     },
     "metadata": {},
     "output_type": "display_data"
    },
    {
     "data": {
      "text/plain": "  0%|          | 0/270 [00:00<?, ?it/s]",
      "application/vnd.jupyter.widget-view+json": {
       "version_major": 2,
       "version_minor": 0,
       "model_id": "acc7a7f7ba4540d1b8c9d5fdfaebdde3"
      }
     },
     "metadata": {},
     "output_type": "display_data"
    },
    {
     "name": "stdout",
     "output_type": "stream",
     "text": [
      "Generated 0 invalid samples out of total 384 samples generated. Sampling efficiency is: 100.0000%\n",
      "Critic round: 35,                     sensitivity_threshold: 0.014833333333333339,                         val_sensitivity: -0.008518518518518517,                             val_sensitivities: [-0.011111111111111112, -0.013888888888888888, -0.01388888888888889, -0.012777777777777779, -0.0027777777777777775, -0.025, -0.011666666666666667, 0.0077777777777777776, 0.0, -0.003333333333333334, 0.012777777777777777, -0.01611111111111111, -0.011111111111111112, -0.012777777777777779, -0.013888888888888888]\n"
     ]
    },
    {
     "data": {
      "text/plain": "<IPython.core.display.HTML object>",
      "text/html": "\n    <div>\n      \n      <progress value='597' max='680' style='width:300px; height:20px; vertical-align: middle;'></progress>\n      [597/680 : < :, Epoch 35.06/40]\n    </div>\n    <table border=\"1\" class=\"dataframe\">\n  <thead>\n <tr style=\"text-align: left;\">\n      <th>Step</th>\n      <th>Training Loss</th>\n    </tr>\n  </thead>\n  <tbody>\n  </tbody>\n</table><p>"
     },
     "metadata": {},
     "output_type": "display_data"
    },
    {
     "data": {
      "text/plain": "  0%|          | 0/270 [00:00<?, ?it/s]",
      "application/vnd.jupyter.widget-view+json": {
       "version_major": 2,
       "version_minor": 0,
       "model_id": "7956377494604359aebe9005e836c6ca"
      }
     },
     "metadata": {},
     "output_type": "display_data"
    },
    {
     "name": "stdout",
     "output_type": "stream",
     "text": [
      "Generated 0 invalid samples out of total 384 samples generated. Sampling efficiency is: 100.0000%\n",
      "Critic round: 40,                     sensitivity_threshold: 0.014833333333333339,                         val_sensitivity: -0.008,                             val_sensitivities: [-0.0061111111111111106, -0.012777777777777777, -0.009444444444444445, -0.005555555555555556, 0.008888888888888889, -0.021666666666666667, -0.01388888888888889, 0.001666666666666667, 0.0005555555555555552, -0.006666666666666666, 0.0027777777777777783, -0.013333333333333332, -0.018333333333333333, -0.012222222222222223, -0.013888888888888888]\n"
     ]
    },
    {
     "data": {
      "text/plain": "<IPython.core.display.HTML object>",
      "text/html": "\n    <div>\n      \n      <progress value='682' max='765' style='width:300px; height:20px; vertical-align: middle;'></progress>\n      [682/765 : < :, Epoch 40.06/45]\n    </div>\n    <table border=\"1\" class=\"dataframe\">\n  <thead>\n <tr style=\"text-align: left;\">\n      <th>Step</th>\n      <th>Training Loss</th>\n    </tr>\n  </thead>\n  <tbody>\n  </tbody>\n</table><p>"
     },
     "metadata": {},
     "output_type": "display_data"
    },
    {
     "data": {
      "text/plain": "  0%|          | 0/270 [00:00<?, ?it/s]",
      "application/vnd.jupyter.widget-view+json": {
       "version_major": 2,
       "version_minor": 0,
       "model_id": "b6a77e67c99b48fd8683b7ae13d3eb8d"
      }
     },
     "metadata": {},
     "output_type": "display_data"
    },
    {
     "name": "stdout",
     "output_type": "stream",
     "text": [
      "Generated 0 invalid samples out of total 384 samples generated. Sampling efficiency is: 100.0000%\n",
      "Critic round: 45,                     sensitivity_threshold: 0.014833333333333339,                         val_sensitivity: -0.009518518518518518,                             val_sensitivities: [-0.0077777777777777776, -0.014444444444444444, -0.010555555555555556, -0.006666666666666667, 0.005000000000000001, -0.021111111111111112, -0.013333333333333334, -0.0016666666666666679, -0.0061111111111111106, -0.0016666666666666679, -0.0011111111111111118, -0.020555555555555556, -0.01611111111111111, -0.010555555555555556, -0.01611111111111111]\n"
     ]
    },
    {
     "data": {
      "text/plain": "<IPython.core.display.HTML object>",
      "text/html": "\n    <div>\n      \n      <progress value='767' max='850' style='width:300px; height:20px; vertical-align: middle;'></progress>\n      [767/850 : < :, Epoch 45.06/50]\n    </div>\n    <table border=\"1\" class=\"dataframe\">\n  <thead>\n <tr style=\"text-align: left;\">\n      <th>Step</th>\n      <th>Training Loss</th>\n    </tr>\n  </thead>\n  <tbody>\n  </tbody>\n</table><p>"
     },
     "metadata": {},
     "output_type": "display_data"
    },
    {
     "data": {
      "text/plain": "  0%|          | 0/270 [00:00<?, ?it/s]",
      "application/vnd.jupyter.widget-view+json": {
       "version_major": 2,
       "version_minor": 0,
       "model_id": "1f3704b29dd64c05b71d139ed8eb320e"
      }
     },
     "metadata": {},
     "output_type": "display_data"
    },
    {
     "name": "stdout",
     "output_type": "stream",
     "text": [
      "Generated 0 invalid samples out of total 384 samples generated. Sampling efficiency is: 100.0000%\n",
      "Critic round: 50,                     sensitivity_threshold: 0.014833333333333339,                         val_sensitivity: -0.012851851851851852,                             val_sensitivities: [-0.01611111111111111, -0.021666666666666667, -0.014444444444444444, -0.013888888888888888, -0.005000000000000001, -0.025, -0.01611111111111111, -0.0022222222222222227, -0.006666666666666668, -0.008888888888888889, 0.005555555555555555, -0.017777777777777778, -0.012777777777777779, -0.017222222222222222, -0.020555555555555556]\n",
      "Model: rtf_small\n",
      "Copying artefacts from: best-disc-model\n",
      "Copying artefacts from: mean-best-disc-model\n",
      "Copying artefacts from: not-best-disc-model\n",
      "Copying artefacts from: last-epoch-model\n",
      "Computing the sensitivity threshold...\n",
      "Using parallel computation!!!\n"
     ]
    },
    {
     "name": "stderr",
     "output_type": "stream",
     "text": [
      "/Users/sebastian/PycharmProjects/model-compression/venv/lib/python3.11/site-packages/realtabformer/realtabformer.py:77: UserWarning: The device=cuda is not available, using device=cpu instead.\n",
      "  warnings.warn(\n",
      "/Users/sebastian/PycharmProjects/model-compression/venv/lib/python3.11/site-packages/realtabformer/realtabformer.py:597: UserWarning: qt_interval adjusted from 100 to 4...\n",
      "  warnings.warn(\n"
     ]
    },
    {
     "data": {
      "text/plain": "Bootstrap round:   0%|          | 0/20 [00:00<?, ?it/s]",
      "application/vnd.jupyter.widget-view+json": {
       "version_major": 2,
       "version_minor": 0,
       "model_id": "97c4883e677143eb85b986e9bede29a1"
      }
     },
     "metadata": {},
     "output_type": "display_data"
    },
    {
     "name": "stdout",
     "output_type": "stream",
     "text": [
      "Sensitivity threshold summary:\n",
      "count    20.000000\n",
      "mean      0.004500\n",
      "std       0.013377\n",
      "min      -0.021667\n",
      "25%      -0.004861\n",
      "50%       0.002500\n",
      "75%       0.013889\n",
      "max       0.032222\n",
      "dtype: float64\n",
      "Sensitivity threshold: 0.02694444444444445 qt_max: 0.05\n"
     ]
    },
    {
     "data": {
      "text/plain": "Map:   0%|          | 0/546 [00:00<?, ? examples/s]",
      "application/vnd.jupyter.widget-view+json": {
       "version_major": 2,
       "version_minor": 0,
       "model_id": "269e212ed37044ab97439d0e6f5f08d0"
      }
     },
     "metadata": {},
     "output_type": "display_data"
    },
    {
     "data": {
      "text/plain": "<IPython.core.display.HTML object>",
      "text/html": "\n    <div>\n      \n      <progress value='2' max='85' style='width:300px; height:20px; vertical-align: middle;'></progress>\n      [ 2/85 : < :, Epoch 0.06/5]\n    </div>\n    <table border=\"1\" class=\"dataframe\">\n  <thead>\n <tr style=\"text-align: left;\">\n      <th>Step</th>\n      <th>Training Loss</th>\n    </tr>\n  </thead>\n  <tbody>\n  </tbody>\n</table><p>"
     },
     "metadata": {},
     "output_type": "display_data"
    },
    {
     "data": {
      "text/plain": "  0%|          | 0/270 [00:00<?, ?it/s]",
      "application/vnd.jupyter.widget-view+json": {
       "version_major": 2,
       "version_minor": 0,
       "model_id": "11e608d0339c4ed385b5212a6207e5bf"
      }
     },
     "metadata": {},
     "output_type": "display_data"
    },
    {
     "name": "stdout",
     "output_type": "stream",
     "text": [
      "Generated 0 invalid samples out of total 384 samples generated. Sampling efficiency is: 100.0000%\n",
      "Critic round: 5,                     sensitivity_threshold: 0.02694444444444445,                         val_sensitivity: -0.01114814814814815,                             val_sensitivities: [-0.0005555555555555565, -0.016666666666666666, -0.008333333333333333, -0.006666666666666666, 0.004999999999999999, -0.020555555555555556, -0.012777777777777779, -0.0022222222222222222, -0.01, -0.0038888888888888888, -0.0027777777777777775, -0.020555555555555556, -0.018333333333333333, -0.02388888888888889, -0.025]\n"
     ]
    },
    {
     "data": {
      "text/plain": "<IPython.core.display.HTML object>",
      "text/html": "\n    <div>\n      \n      <progress value='87' max='170' style='width:300px; height:20px; vertical-align: middle;'></progress>\n      [ 87/170 : < :, Epoch 5.06/10]\n    </div>\n    <table border=\"1\" class=\"dataframe\">\n  <thead>\n <tr style=\"text-align: left;\">\n      <th>Step</th>\n      <th>Training Loss</th>\n    </tr>\n  </thead>\n  <tbody>\n  </tbody>\n</table><p>"
     },
     "metadata": {},
     "output_type": "display_data"
    },
    {
     "data": {
      "text/plain": "  0%|          | 0/270 [00:00<?, ?it/s]",
      "application/vnd.jupyter.widget-view+json": {
       "version_major": 2,
       "version_minor": 0,
       "model_id": "9411dfa8b0fb4580ac1ff7a7cd16488b"
      }
     },
     "metadata": {},
     "output_type": "display_data"
    },
    {
     "name": "stdout",
     "output_type": "stream",
     "text": [
      "Generated 0 invalid samples out of total 384 samples generated. Sampling efficiency is: 100.0000%\n",
      "Critic round: 10,                     sensitivity_threshold: 0.02694444444444445,                         val_sensitivity: -0.0035185185185185193,                             val_sensitivities: [0.0005555555555555557, -0.018333333333333333, -0.006666666666666668, -0.012777777777777779, 0.012222222222222221, -0.02388888888888889, -0.007777777777777779, 0.007777777777777778, -0.0027777777777777783, 0.0027777777777777775, 0.020555555555555556, -0.009444444444444445, -0.005000000000000001, -0.0016666666666666679, -0.008333333333333333]\n"
     ]
    },
    {
     "data": {
      "text/plain": "<IPython.core.display.HTML object>",
      "text/html": "\n    <div>\n      \n      <progress value='172' max='255' style='width:300px; height:20px; vertical-align: middle;'></progress>\n      [172/255 : < :, Epoch 10.06/15]\n    </div>\n    <table border=\"1\" class=\"dataframe\">\n  <thead>\n <tr style=\"text-align: left;\">\n      <th>Step</th>\n      <th>Training Loss</th>\n    </tr>\n  </thead>\n  <tbody>\n  </tbody>\n</table><p>"
     },
     "metadata": {},
     "output_type": "display_data"
    },
    {
     "data": {
      "text/plain": "  0%|          | 0/270 [00:00<?, ?it/s]",
      "application/vnd.jupyter.widget-view+json": {
       "version_major": 2,
       "version_minor": 0,
       "model_id": "fdd2ea58fff84e37bccda51903e6bfdb"
      }
     },
     "metadata": {},
     "output_type": "display_data"
    },
    {
     "name": "stdout",
     "output_type": "stream",
     "text": [
      "Generated 0 invalid samples out of total 384 samples generated. Sampling efficiency is: 100.0000%\n",
      "Critic round: 15,                     sensitivity_threshold: 0.02694444444444445,                         val_sensitivity: -0.007814814814814814,                             val_sensitivities: [-0.0027777777777777775, -0.012777777777777777, -0.015, -0.008333333333333333, 0.008888888888888889, -0.02388888888888889, -0.018333333333333333, -0.01, -0.016666666666666666, -0.01, 0.012777777777777777, -0.007222222222222222, -0.006111111111111112, -0.007222222222222222, -0.0005555555555555557]\n"
     ]
    },
    {
     "data": {
      "text/plain": "<IPython.core.display.HTML object>",
      "text/html": "\n    <div>\n      \n      <progress value='257' max='340' style='width:300px; height:20px; vertical-align: middle;'></progress>\n      [257/340 : < :, Epoch 15.06/20]\n    </div>\n    <table border=\"1\" class=\"dataframe\">\n  <thead>\n <tr style=\"text-align: left;\">\n      <th>Step</th>\n      <th>Training Loss</th>\n    </tr>\n  </thead>\n  <tbody>\n  </tbody>\n</table><p>"
     },
     "metadata": {},
     "output_type": "display_data"
    },
    {
     "data": {
      "text/plain": "  0%|          | 0/270 [00:00<?, ?it/s]",
      "application/vnd.jupyter.widget-view+json": {
       "version_major": 2,
       "version_minor": 0,
       "model_id": "0ee67967c4244c22842ba16b0204eb04"
      }
     },
     "metadata": {},
     "output_type": "display_data"
    },
    {
     "name": "stdout",
     "output_type": "stream",
     "text": [
      "Generated 0 invalid samples out of total 384 samples generated. Sampling efficiency is: 100.0000%\n",
      "Critic round: 20,                     sensitivity_threshold: 0.02694444444444445,                         val_sensitivity: -0.011259259259259257,                             val_sensitivities: [-0.011666666666666667, -0.017222222222222222, -0.012777777777777779, -0.01388888888888889, 0.0005555555555555544, -0.018333333333333333, -0.011666666666666667, -0.0005555555555555561, -0.005555555555555555, -0.0077777777777777776, 0.0011111111111111113, -0.020555555555555556, -0.012777777777777779, -0.01611111111111111, -0.021666666666666667]\n"
     ]
    },
    {
     "data": {
      "text/plain": "<IPython.core.display.HTML object>",
      "text/html": "\n    <div>\n      \n      <progress value='342' max='425' style='width:300px; height:20px; vertical-align: middle;'></progress>\n      [342/425 : < :, Epoch 20.06/25]\n    </div>\n    <table border=\"1\" class=\"dataframe\">\n  <thead>\n <tr style=\"text-align: left;\">\n      <th>Step</th>\n      <th>Training Loss</th>\n    </tr>\n  </thead>\n  <tbody>\n  </tbody>\n</table><p>"
     },
     "metadata": {},
     "output_type": "display_data"
    },
    {
     "data": {
      "text/plain": "  0%|          | 0/270 [00:00<?, ?it/s]",
      "application/vnd.jupyter.widget-view+json": {
       "version_major": 2,
       "version_minor": 0,
       "model_id": "165c7be05d4645ea85e4d6c3af6d1e64"
      }
     },
     "metadata": {},
     "output_type": "display_data"
    },
    {
     "name": "stdout",
     "output_type": "stream",
     "text": [
      "Generated 0 invalid samples out of total 384 samples generated. Sampling efficiency is: 100.0000%\n",
      "Critic round: 25,                     sensitivity_threshold: 0.02694444444444445,                         val_sensitivity: -0.002148148148148148,                             val_sensitivities: [-0.0061111111111111106, -0.015, -0.006666666666666666, -0.006111111111111111, 0.010555555555555556, -0.008333333333333333, -0.0038888888888888896, 0.010555555555555556, 0.011111111111111112, 0.009444444444444445, 0.008888888888888887, -0.0022222222222222227, -0.015555555555555557, -0.007222222222222222, -0.011666666666666665]\n"
     ]
    },
    {
     "data": {
      "text/plain": "<IPython.core.display.HTML object>",
      "text/html": "\n    <div>\n      \n      <progress value='427' max='510' style='width:300px; height:20px; vertical-align: middle;'></progress>\n      [427/510 : < :, Epoch 25.06/30]\n    </div>\n    <table border=\"1\" class=\"dataframe\">\n  <thead>\n <tr style=\"text-align: left;\">\n      <th>Step</th>\n      <th>Training Loss</th>\n    </tr>\n  </thead>\n  <tbody>\n  </tbody>\n</table><p>"
     },
     "metadata": {},
     "output_type": "display_data"
    },
    {
     "data": {
      "text/plain": "  0%|          | 0/270 [00:00<?, ?it/s]",
      "application/vnd.jupyter.widget-view+json": {
       "version_major": 2,
       "version_minor": 0,
       "model_id": "cba8530b86f942c58ede0e7ecb53fff8"
      }
     },
     "metadata": {},
     "output_type": "display_data"
    },
    {
     "name": "stdout",
     "output_type": "stream",
     "text": [
      "Generated 0 invalid samples out of total 384 samples generated. Sampling efficiency is: 100.0000%\n",
      "Critic round: 30,                     sensitivity_threshold: 0.02694444444444445,                         val_sensitivity: 0.004703703703703704,                             val_sensitivities: [0.010555555555555556, 0.0033333333333333322, 0.0077777777777777776, 0.008333333333333333, 0.043888888888888894, -0.01611111111111111, -0.011111111111111112, 0.0033333333333333327, -0.0038888888888888896, -0.007222222222222222, 0.024444444444444442, 0.008888888888888889, -0.0027777777777777783, 0.006111111111111112, -0.005000000000000001]\n"
     ]
    },
    {
     "data": {
      "text/plain": "<IPython.core.display.HTML object>",
      "text/html": "\n    <div>\n      \n      <progress value='512' max='595' style='width:300px; height:20px; vertical-align: middle;'></progress>\n      [512/595 : < :, Epoch 30.06/35]\n    </div>\n    <table border=\"1\" class=\"dataframe\">\n  <thead>\n <tr style=\"text-align: left;\">\n      <th>Step</th>\n      <th>Training Loss</th>\n    </tr>\n  </thead>\n  <tbody>\n  </tbody>\n</table><p>"
     },
     "metadata": {},
     "output_type": "display_data"
    },
    {
     "data": {
      "text/plain": "  0%|          | 0/270 [00:00<?, ?it/s]",
      "application/vnd.jupyter.widget-view+json": {
       "version_major": 2,
       "version_minor": 0,
       "model_id": "20fbaeb7ff6a458da05b0ec1e799fd4a"
      }
     },
     "metadata": {},
     "output_type": "display_data"
    },
    {
     "name": "stdout",
     "output_type": "stream",
     "text": [
      "Generated 0 invalid samples out of total 384 samples generated. Sampling efficiency is: 100.0000%\n",
      "Critic round: 35,                     sensitivity_threshold: 0.02694444444444445,                         val_sensitivity: 0.005851851851851852,                             val_sensitivities: [0.0005555555555555557, -0.01, 0.006666666666666666, 0.009444444444444443, 0.024444444444444446, -0.008333333333333333, 0.0, 0.0077777777777777776, 0.011111111111111112, 0.01388888888888889, 0.03666666666666667, 0.0044444444444444444, -0.007222222222222224, 0.0033333333333333322, -0.004999999999999999]\n"
     ]
    },
    {
     "data": {
      "text/plain": "<IPython.core.display.HTML object>",
      "text/html": "\n    <div>\n      \n      <progress value='597' max='680' style='width:300px; height:20px; vertical-align: middle;'></progress>\n      [597/680 : < :, Epoch 35.06/40]\n    </div>\n    <table border=\"1\" class=\"dataframe\">\n  <thead>\n <tr style=\"text-align: left;\">\n      <th>Step</th>\n      <th>Training Loss</th>\n    </tr>\n  </thead>\n  <tbody>\n  </tbody>\n</table><p>"
     },
     "metadata": {},
     "output_type": "display_data"
    },
    {
     "data": {
      "text/plain": "  0%|          | 0/270 [00:00<?, ?it/s]",
      "application/vnd.jupyter.widget-view+json": {
       "version_major": 2,
       "version_minor": 0,
       "model_id": "03aa73b350f1419eb14677c714f32a6e"
      }
     },
     "metadata": {},
     "output_type": "display_data"
    },
    {
     "name": "stdout",
     "output_type": "stream",
     "text": [
      "Generated 0 invalid samples out of total 384 samples generated. Sampling efficiency is: 100.0000%\n",
      "Critic round: 40,                     sensitivity_threshold: 0.02694444444444445,                         val_sensitivity: 0.022259259259259263,                             val_sensitivities: [0.03055555555555555, 0.0038888888888888888, 0.021111111111111112, 0.018333333333333333, 0.04666666666666666, 0.000555555555555555, 0.021666666666666667, 0.04833333333333333, 0.03777777777777778, 0.029444444444444447, 0.03666666666666667, 0.01, 0.01, 0.012222222222222221, 0.006666666666666666]\n"
     ]
    },
    {
     "data": {
      "text/plain": "<IPython.core.display.HTML object>",
      "text/html": "\n    <div>\n      \n      <progress value='682' max='765' style='width:300px; height:20px; vertical-align: middle;'></progress>\n      [682/765 : < :, Epoch 40.06/45]\n    </div>\n    <table border=\"1\" class=\"dataframe\">\n  <thead>\n <tr style=\"text-align: left;\">\n      <th>Step</th>\n      <th>Training Loss</th>\n    </tr>\n  </thead>\n  <tbody>\n  </tbody>\n</table><p>"
     },
     "metadata": {},
     "output_type": "display_data"
    },
    {
     "data": {
      "text/plain": "  0%|          | 0/270 [00:00<?, ?it/s]",
      "application/vnd.jupyter.widget-view+json": {
       "version_major": 2,
       "version_minor": 0,
       "model_id": "7b12f490a5e542cabf35cf2e088388b4"
      }
     },
     "metadata": {},
     "output_type": "display_data"
    },
    {
     "name": "stdout",
     "output_type": "stream",
     "text": [
      "Generated 0 invalid samples out of total 384 samples generated. Sampling efficiency is: 100.0000%\n",
      "Critic round: 45,                     sensitivity_threshold: 0.02694444444444445,                         val_sensitivity: 0.01877777777777778,                             val_sensitivities: [0.025555555555555554, -0.0016666666666666666, 0.02333333333333333, 0.01, 0.051111111111111114, -0.01, 0.004444444444444444, 0.031111111111111114, 0.01111111111111111, 0.025555555555555554, 0.06055555555555556, 0.008333333333333331, 0.012777777777777779, 0.02388888888888889, 0.005555555555555555]\n"
     ]
    },
    {
     "data": {
      "text/plain": "<IPython.core.display.HTML object>",
      "text/html": "\n    <div>\n      \n      <progress value='767' max='850' style='width:300px; height:20px; vertical-align: middle;'></progress>\n      [767/850 : < :, Epoch 45.06/50]\n    </div>\n    <table border=\"1\" class=\"dataframe\">\n  <thead>\n <tr style=\"text-align: left;\">\n      <th>Step</th>\n      <th>Training Loss</th>\n    </tr>\n  </thead>\n  <tbody>\n  </tbody>\n</table><p>"
     },
     "metadata": {},
     "output_type": "display_data"
    },
    {
     "data": {
      "text/plain": "  0%|          | 0/270 [00:00<?, ?it/s]",
      "application/vnd.jupyter.widget-view+json": {
       "version_major": 2,
       "version_minor": 0,
       "model_id": "654f99e26ea94557ab82f753c139e94d"
      }
     },
     "metadata": {},
     "output_type": "display_data"
    },
    {
     "name": "stdout",
     "output_type": "stream",
     "text": [
      "Generated 0 invalid samples out of total 384 samples generated. Sampling efficiency is: 100.0000%\n",
      "Critic round: 50,                     sensitivity_threshold: 0.02694444444444445,                         val_sensitivity: 0.02196296296296296,                             val_sensitivities: [0.035, 0.01611111111111111, 0.03222222222222222, 0.035, 0.05666666666666666, -0.0016666666666666666, 0.0077777777777777776, 0.020555555555555556, 0.021666666666666667, 0.015000000000000001, 0.052777777777777785, 0.010555555555555554, 0.0077777777777777776, 0.013333333333333332, 0.006666666666666667]\n",
      "Model: rtf_regular\n",
      "Copying artefacts from: best-disc-model\n",
      "Copying artefacts from: mean-best-disc-model\n",
      "Copying artefacts from: not-best-disc-model\n",
      "Copying artefacts from: last-epoch-model\n",
      "Computing the sensitivity threshold...\n",
      "Using parallel computation!!!\n"
     ]
    },
    {
     "name": "stderr",
     "output_type": "stream",
     "text": [
      "/Users/sebastian/PycharmProjects/model-compression/venv/lib/python3.11/site-packages/realtabformer/realtabformer.py:77: UserWarning: The device=cuda is not available, using device=cpu instead.\n",
      "  warnings.warn(\n",
      "/Users/sebastian/PycharmProjects/model-compression/venv/lib/python3.11/site-packages/realtabformer/realtabformer.py:597: UserWarning: qt_interval adjusted from 100 to 4...\n",
      "  warnings.warn(\n"
     ]
    },
    {
     "data": {
      "text/plain": "Bootstrap round:   0%|          | 0/20 [00:00<?, ?it/s]",
      "application/vnd.jupyter.widget-view+json": {
       "version_major": 2,
       "version_minor": 0,
       "model_id": "496b0e87bd64492dae199b9da722a9e4"
      }
     },
     "metadata": {},
     "output_type": "display_data"
    },
    {
     "name": "stdout",
     "output_type": "stream",
     "text": [
      "Sensitivity threshold summary:\n",
      "count    20.000000\n",
      "mean      0.005917\n",
      "std       0.014750\n",
      "min      -0.016111\n",
      "25%      -0.006806\n",
      "50%       0.005833\n",
      "75%       0.015000\n",
      "max       0.039444\n",
      "dtype: float64\n",
      "Sensitivity threshold: 0.02466666666666668 qt_max: 0.05\n"
     ]
    },
    {
     "data": {
      "text/plain": "Map:   0%|          | 0/546 [00:00<?, ? examples/s]",
      "application/vnd.jupyter.widget-view+json": {
       "version_major": 2,
       "version_minor": 0,
       "model_id": "801f468af3ac4d4ab8178f886163fa44"
      }
     },
     "metadata": {},
     "output_type": "display_data"
    },
    {
     "data": {
      "text/plain": "<IPython.core.display.HTML object>",
      "text/html": "\n    <div>\n      \n      <progress value='2' max='85' style='width:300px; height:20px; vertical-align: middle;'></progress>\n      [ 2/85 : < :, Epoch 0.06/5]\n    </div>\n    <table border=\"1\" class=\"dataframe\">\n  <thead>\n <tr style=\"text-align: left;\">\n      <th>Step</th>\n      <th>Training Loss</th>\n    </tr>\n  </thead>\n  <tbody>\n  </tbody>\n</table><p>"
     },
     "metadata": {},
     "output_type": "display_data"
    },
    {
     "data": {
      "text/plain": "  0%|          | 0/270 [00:00<?, ?it/s]",
      "application/vnd.jupyter.widget-view+json": {
       "version_major": 2,
       "version_minor": 0,
       "model_id": "49e50e85dcc34128b81ea455b2a3eb77"
      }
     },
     "metadata": {},
     "output_type": "display_data"
    },
    {
     "name": "stdout",
     "output_type": "stream",
     "text": [
      "Generated 0 invalid samples out of total 384 samples generated. Sampling efficiency is: 100.0000%\n",
      "Critic round: 5,                     sensitivity_threshold: 0.02466666666666668,                         val_sensitivity: -0.01474074074074074,                             val_sensitivities: [-0.02, -0.025, -0.021111111111111112, -0.020555555555555556, -0.012777777777777779, -0.02277777777777778, -0.015000000000000001, 0.0027777777777777775, -0.007222222222222224, 0.002222222222222222, -0.0022222222222222227, -0.021666666666666667, -0.01666666666666667, -0.019444444444444445, -0.021666666666666667]\n"
     ]
    },
    {
     "data": {
      "text/plain": "<IPython.core.display.HTML object>",
      "text/html": "\n    <div>\n      \n      <progress value='87' max='170' style='width:300px; height:20px; vertical-align: middle;'></progress>\n      [ 87/170 : < :, Epoch 5.06/10]\n    </div>\n    <table border=\"1\" class=\"dataframe\">\n  <thead>\n <tr style=\"text-align: left;\">\n      <th>Step</th>\n      <th>Training Loss</th>\n    </tr>\n  </thead>\n  <tbody>\n  </tbody>\n</table><p>"
     },
     "metadata": {},
     "output_type": "display_data"
    },
    {
     "data": {
      "text/plain": "  0%|          | 0/270 [00:00<?, ?it/s]",
      "application/vnd.jupyter.widget-view+json": {
       "version_major": 2,
       "version_minor": 0,
       "model_id": "bb8dcfa1080a4c329a001f6d7ac33f79"
      }
     },
     "metadata": {},
     "output_type": "display_data"
    },
    {
     "name": "stdout",
     "output_type": "stream",
     "text": [
      "Generated 0 invalid samples out of total 384 samples generated. Sampling efficiency is: 100.0000%\n",
      "Critic round: 10,                     sensitivity_threshold: 0.02466666666666668,                         val_sensitivity: -0.014518518518518517,                             val_sensitivities: [-0.015000000000000001, -0.02388888888888889, -0.018333333333333333, -0.017222222222222222, -0.006666666666666666, -0.02277777777777778, -0.014444444444444446, -8.673617379884035e-19, -0.008333333333333333, 0.0011111111111111105, -0.008888888888888889, -0.025, -0.020555555555555556, -0.01611111111111111, -0.021666666666666667]\n"
     ]
    },
    {
     "data": {
      "text/plain": "<IPython.core.display.HTML object>",
      "text/html": "\n    <div>\n      \n      <progress value='172' max='255' style='width:300px; height:20px; vertical-align: middle;'></progress>\n      [172/255 : < :, Epoch 10.06/15]\n    </div>\n    <table border=\"1\" class=\"dataframe\">\n  <thead>\n <tr style=\"text-align: left;\">\n      <th>Step</th>\n      <th>Training Loss</th>\n    </tr>\n  </thead>\n  <tbody>\n  </tbody>\n</table><p>"
     },
     "metadata": {},
     "output_type": "display_data"
    },
    {
     "data": {
      "text/plain": "  0%|          | 0/270 [00:00<?, ?it/s]",
      "application/vnd.jupyter.widget-view+json": {
       "version_major": 2,
       "version_minor": 0,
       "model_id": "6a646fb8afc64a3281912f4243ac21af"
      }
     },
     "metadata": {},
     "output_type": "display_data"
    },
    {
     "name": "stdout",
     "output_type": "stream",
     "text": [
      "Generated 0 invalid samples out of total 384 samples generated. Sampling efficiency is: 100.0000%\n",
      "Critic round: 15,                     sensitivity_threshold: 0.02466666666666668,                         val_sensitivity: -0.007703703703703705,                             val_sensitivities: [-0.01666666666666667, -0.02277777777777778, -0.02, -0.015, -0.0033333333333333322, -0.017222222222222222, -0.008888888888888889, 0.011111111111111112, 0.0027777777777777766, 0.0038888888888888883, 0.013333333333333334, -0.008333333333333333, -0.01388888888888889, -0.009444444444444445, -0.011111111111111112]\n"
     ]
    },
    {
     "data": {
      "text/plain": "<IPython.core.display.HTML object>",
      "text/html": "\n    <div>\n      \n      <progress value='257' max='340' style='width:300px; height:20px; vertical-align: middle;'></progress>\n      [257/340 : < :, Epoch 15.06/20]\n    </div>\n    <table border=\"1\" class=\"dataframe\">\n  <thead>\n <tr style=\"text-align: left;\">\n      <th>Step</th>\n      <th>Training Loss</th>\n    </tr>\n  </thead>\n  <tbody>\n  </tbody>\n</table><p>"
     },
     "metadata": {},
     "output_type": "display_data"
    },
    {
     "data": {
      "text/plain": "  0%|          | 0/270 [00:00<?, ?it/s]",
      "application/vnd.jupyter.widget-view+json": {
       "version_major": 2,
       "version_minor": 0,
       "model_id": "eeb7762047cc420d8c4fc3574c04a8b1"
      }
     },
     "metadata": {},
     "output_type": "display_data"
    },
    {
     "name": "stdout",
     "output_type": "stream",
     "text": [
      "Generated 0 invalid samples out of total 384 samples generated. Sampling efficiency is: 100.0000%\n",
      "Critic round: 20,                     sensitivity_threshold: 0.02466666666666668,                         val_sensitivity: -0.007629629629629629,                             val_sensitivities: [-0.005555555555555557, -0.01888888888888889, -0.011666666666666667, -0.008888888888888889, 0.0066666666666666645, -0.019444444444444445, -0.011111111111111112, -0.0005555555555555557, 0.0022222222222222214, 0.002777777777777777, 0.008333333333333333, -0.014444444444444444, -0.015555555555555557, -0.012222222222222221, -0.01611111111111111]\n"
     ]
    },
    {
     "data": {
      "text/plain": "<IPython.core.display.HTML object>",
      "text/html": "\n    <div>\n      \n      <progress value='342' max='425' style='width:300px; height:20px; vertical-align: middle;'></progress>\n      [342/425 : < :, Epoch 20.06/25]\n    </div>\n    <table border=\"1\" class=\"dataframe\">\n  <thead>\n <tr style=\"text-align: left;\">\n      <th>Step</th>\n      <th>Training Loss</th>\n    </tr>\n  </thead>\n  <tbody>\n  </tbody>\n</table><p>"
     },
     "metadata": {},
     "output_type": "display_data"
    },
    {
     "data": {
      "text/plain": "  0%|          | 0/270 [00:00<?, ?it/s]",
      "application/vnd.jupyter.widget-view+json": {
       "version_major": 2,
       "version_minor": 0,
       "model_id": "d98d672b819e4dbca13195ac85ca2f71"
      }
     },
     "metadata": {},
     "output_type": "display_data"
    },
    {
     "name": "stdout",
     "output_type": "stream",
     "text": [
      "Generated 0 invalid samples out of total 384 samples generated. Sampling efficiency is: 100.0000%\n",
      "Critic round: 25,                     sensitivity_threshold: 0.02466666666666668,                         val_sensitivity: -0.0029629629629629637,                             val_sensitivities: [0.0044444444444444444, -0.0022222222222222227, -0.0022222222222222235, 0.003888888888888888, 0.03277777777777778, -0.018333333333333333, -0.014444444444444446, 0.0011111111111111105, 0.0011111111111111105, -0.005, 0.006666666666666666, -0.013888888888888888, -0.015000000000000001, -0.01, -0.013333333333333332]\n"
     ]
    },
    {
     "data": {
      "text/plain": "<IPython.core.display.HTML object>",
      "text/html": "\n    <div>\n      \n      <progress value='427' max='510' style='width:300px; height:20px; vertical-align: middle;'></progress>\n      [427/510 : < :, Epoch 25.06/30]\n    </div>\n    <table border=\"1\" class=\"dataframe\">\n  <thead>\n <tr style=\"text-align: left;\">\n      <th>Step</th>\n      <th>Training Loss</th>\n    </tr>\n  </thead>\n  <tbody>\n  </tbody>\n</table><p>"
     },
     "metadata": {},
     "output_type": "display_data"
    },
    {
     "data": {
      "text/plain": "  0%|          | 0/270 [00:00<?, ?it/s]",
      "application/vnd.jupyter.widget-view+json": {
       "version_major": 2,
       "version_minor": 0,
       "model_id": "f41e2ce06a7a47509d990939346d621e"
      }
     },
     "metadata": {},
     "output_type": "display_data"
    },
    {
     "name": "stdout",
     "output_type": "stream",
     "text": [
      "Generated 0 invalid samples out of total 384 samples generated. Sampling efficiency is: 100.0000%\n",
      "Critic round: 30,                     sensitivity_threshold: 0.02466666666666668,                         val_sensitivity: 0.004518518518518518,                             val_sensitivities: [-0.003333333333333334, -0.014444444444444446, -0.0016666666666666679, -0.002222222222222222, 0.013333333333333332, -0.012777777777777777, -0.003333333333333334, 0.01611111111111111, 0.011666666666666667, 0.01388888888888889, 0.049444444444444444, -0.001666666666666667, 0.001666666666666667, 0.0016666666666666655, -0.0005555555555555557]\n"
     ]
    },
    {
     "data": {
      "text/plain": "<IPython.core.display.HTML object>",
      "text/html": "\n    <div>\n      \n      <progress value='512' max='595' style='width:300px; height:20px; vertical-align: middle;'></progress>\n      [512/595 : < :, Epoch 30.06/35]\n    </div>\n    <table border=\"1\" class=\"dataframe\">\n  <thead>\n <tr style=\"text-align: left;\">\n      <th>Step</th>\n      <th>Training Loss</th>\n    </tr>\n  </thead>\n  <tbody>\n  </tbody>\n</table><p>"
     },
     "metadata": {},
     "output_type": "display_data"
    },
    {
     "data": {
      "text/plain": "  0%|          | 0/270 [00:00<?, ?it/s]",
      "application/vnd.jupyter.widget-view+json": {
       "version_major": 2,
       "version_minor": 0,
       "model_id": "e3f7c80f78e340e2b0a87cd326d5d1f6"
      }
     },
     "metadata": {},
     "output_type": "display_data"
    },
    {
     "name": "stdout",
     "output_type": "stream",
     "text": [
      "Generated 0 invalid samples out of total 384 samples generated. Sampling efficiency is: 100.0000%\n",
      "Critic round: 35,                     sensitivity_threshold: 0.02466666666666668,                         val_sensitivity: 0.015111111111111112,                             val_sensitivities: [0.006666666666666666, -0.0011111111111111115, -0.0027777777777777783, 0.009444444444444445, 0.017222222222222222, -0.006666666666666666, 0.0016666666666666666, 0.02611111111111111, 0.018888888888888893, 0.022222222222222223, 0.07, 0.016666666666666666, 0.021666666666666667, 0.02611111111111111, 0.0005555555555555557]\n"
     ]
    },
    {
     "data": {
      "text/plain": "<IPython.core.display.HTML object>",
      "text/html": "\n    <div>\n      \n      <progress value='597' max='680' style='width:300px; height:20px; vertical-align: middle;'></progress>\n      [597/680 : < :, Epoch 35.06/40]\n    </div>\n    <table border=\"1\" class=\"dataframe\">\n  <thead>\n <tr style=\"text-align: left;\">\n      <th>Step</th>\n      <th>Training Loss</th>\n    </tr>\n  </thead>\n  <tbody>\n  </tbody>\n</table><p>"
     },
     "metadata": {},
     "output_type": "display_data"
    },
    {
     "data": {
      "text/plain": "  0%|          | 0/270 [00:00<?, ?it/s]",
      "application/vnd.jupyter.widget-view+json": {
       "version_major": 2,
       "version_minor": 0,
       "model_id": "bba93d31c6384ffea2dd8d1456eebd18"
      }
     },
     "metadata": {},
     "output_type": "display_data"
    },
    {
     "name": "stdout",
     "output_type": "stream",
     "text": [
      "Generated 0 invalid samples out of total 384 samples generated. Sampling efficiency is: 100.0000%\n",
      "Saving not-best model...\n",
      "Critic round: 40,                     sensitivity_threshold: 0.02466666666666668,                         val_sensitivity: 0.03240740740740741,                             val_sensitivities: [0.028333333333333332, 0.017222222222222222, 0.031111111111111114, 0.024999999999999998, 0.050555555555555555, 0.006666666666666666, 0.017777777777777778, 0.04666666666666667, 0.04, 0.04555555555555556, 0.052222222222222225, 0.04666666666666667, 0.015555555555555555, 0.03666666666666667, 0.026111111111111113]\n"
     ]
    },
    {
     "data": {
      "text/plain": "<IPython.core.display.HTML object>",
      "text/html": "\n    <div>\n      \n      <progress value='682' max='765' style='width:300px; height:20px; vertical-align: middle;'></progress>\n      [682/765 : < :, Epoch 40.06/45]\n    </div>\n    <table border=\"1\" class=\"dataframe\">\n  <thead>\n <tr style=\"text-align: left;\">\n      <th>Step</th>\n      <th>Training Loss</th>\n    </tr>\n  </thead>\n  <tbody>\n  </tbody>\n</table><p>"
     },
     "metadata": {},
     "output_type": "display_data"
    },
    {
     "data": {
      "text/plain": "  0%|          | 0/270 [00:00<?, ?it/s]",
      "application/vnd.jupyter.widget-view+json": {
       "version_major": 2,
       "version_minor": 0,
       "model_id": "3d659b0f314e405b9253f1cbc82def99"
      }
     },
     "metadata": {},
     "output_type": "display_data"
    },
    {
     "name": "stdout",
     "output_type": "stream",
     "text": [
      "Generated 0 invalid samples out of total 384 samples generated. Sampling efficiency is: 100.0000%\n",
      "Critic round: 45,                     sensitivity_threshold: 0.02466666666666668,                         val_sensitivity: 0.040185185185185185,                             val_sensitivities: [0.03833333333333334, 0.020555555555555556, 0.03111111111111111, 0.016666666666666663, 0.04777777777777778, 0.02277777777777778, 0.032777777777777774, 0.05388888888888889, 0.05444444444444445, 0.05888888888888889, 0.08555555555555557, 0.04444444444444445, 0.03111111111111111, 0.043333333333333335, 0.02111111111111111]\n",
      "Stopping training, no improvement in critic...\n",
      "Model: rtf_large\n",
      "Copying artefacts from: best-disc-model\n",
      "Copying artefacts from: mean-best-disc-model\n",
      "Copying artefacts from: not-best-disc-model\n",
      "Copying artefacts from: last-epoch-model\n"
     ]
    },
    {
     "data": {
      "text/plain": "         Model     Time (s)\n0    rtf_small   794.140514\n1  rtf_regular  2143.992050\n2    rtf_large  3969.005209",
      "text/html": "<div>\n<style scoped>\n    .dataframe tbody tr th:only-of-type {\n        vertical-align: middle;\n    }\n\n    .dataframe tbody tr th {\n        vertical-align: top;\n    }\n\n    .dataframe thead th {\n        text-align: right;\n    }\n</style>\n<table border=\"1\" class=\"dataframe\">\n  <thead>\n    <tr style=\"text-align: right;\">\n      <th></th>\n      <th>Model</th>\n      <th>Time (s)</th>\n    </tr>\n  </thead>\n  <tbody>\n    <tr>\n      <th>0</th>\n      <td>rtf_small</td>\n      <td>794.140514</td>\n    </tr>\n    <tr>\n      <th>1</th>\n      <td>rtf_regular</td>\n      <td>2143.992050</td>\n    </tr>\n    <tr>\n      <th>2</th>\n      <td>rtf_large</td>\n      <td>3969.005209</td>\n    </tr>\n  </tbody>\n</table>\n</div>"
     },
     "execution_count": 5,
     "metadata": {},
     "output_type": "execute_result"
    }
   ],
   "source": [
    "config_small = GPT2Config(\n",
    "    n_embd=512,\n",
    "    n_layer=4,\n",
    "    n_head=8\n",
    ")\n",
    "\n",
    "config_large = GPT2Config()\n",
    "\n",
    "rtf_model_small = REaLTabFormer(\n",
    "    model_type=\"tabular\",\n",
    "    tabular_config=config_small,\n",
    "    epochs=50,\n",
    "    mask_rate=0.15\n",
    ")\n",
    "\n",
    "rtf_model_reg = REaLTabFormer(\n",
    "    model_type=\"tabular\",\n",
    "    epochs=50,\n",
    "    mask_rate=0.15\n",
    ")\n",
    "\n",
    "rtf_model_large = REaLTabFormer(\n",
    "    model_type=\"tabular\",\n",
    "    tabular_config=config_large,\n",
    "    epochs=50,\n",
    "    mask_rate=0.15\n",
    ")\n",
    "\n",
    "# Fit models and track performance\n",
    "fit_and_track(rtf_model_small, train_data, \"rtf_small\")\n",
    "fit_and_track(rtf_model_reg, train_data, \"rtf_regular\")\n",
    "fit_and_track(rtf_model_large, train_data, \"rtf_large\")\n",
    "\n",
    "\n",
    "# Display the results\n",
    "results"
   ],
   "metadata": {
    "collapsed": false,
    "ExecuteTime": {
     "end_time": "2024-12-15T20:03:07.774864Z",
     "start_time": "2024-12-15T18:07:56.131078Z"
    }
   },
   "id": "6fa4346215db0123"
  },
  {
   "cell_type": "code",
   "execution_count": null,
   "outputs": [],
   "source": [],
   "metadata": {
    "collapsed": false
   },
   "id": "29daf82b75656cda"
  }
 ],
 "metadata": {
  "kernelspec": {
   "display_name": "Python 3",
   "language": "python",
   "name": "python3"
  },
  "language_info": {
   "codemirror_mode": {
    "name": "ipython",
    "version": 2
   },
   "file_extension": ".py",
   "mimetype": "text/x-python",
   "name": "python",
   "nbconvert_exporter": "python",
   "pygments_lexer": "ipython2",
   "version": "2.7.6"
  }
 },
 "nbformat": 4,
 "nbformat_minor": 5
}
